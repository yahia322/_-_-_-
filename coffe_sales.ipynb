{
 "cells": [
  {
   "cell_type": "markdown",
   "metadata": {},
   "source": []
  },
  {
   "cell_type": "code",
   "execution_count": 133,
   "metadata": {},
   "outputs": [],
   "source": [
    "import pandas as pd\n",
    "import numpy as np\n",
    "import matplotlib as plt\n",
    "import seaborn as sns\n",
    "import plotly.express as px"
   ]
  },
  {
   "cell_type": "code",
   "execution_count": 1,
   "metadata": {},
   "outputs": [
    {
     "ename": "NameError",
     "evalue": "name 'pd' is not defined",
     "output_type": "error",
     "traceback": [
      "\u001b[1;31m---------------------------------------------------------------------------\u001b[0m",
      "\u001b[1;31mNameError\u001b[0m                                 Traceback (most recent call last)",
      "Cell \u001b[1;32mIn[1], line 1\u001b[0m\n\u001b[1;32m----> 1\u001b[0m data\u001b[38;5;241m=\u001b[39m\u001b[43mpd\u001b[49m\u001b[38;5;241m.\u001b[39mread_csv(\u001b[38;5;124m\"\u001b[39m\u001b[38;5;124mdirty_cafe_sales.csv\u001b[39m\u001b[38;5;124m\"\u001b[39m)\n\u001b[0;32m      2\u001b[0m df\u001b[38;5;241m=\u001b[39mdata\u001b[38;5;241m.\u001b[39mcopy()\n\u001b[0;32m      3\u001b[0m df\u001b[38;5;241m.\u001b[39mhead()\n",
      "\u001b[1;31mNameError\u001b[0m: name 'pd' is not defined"
     ]
    }
   ],
   "source": [
    "data=pd.read_csv(\"dirty_cafe_sales.csv\")\n",
    "df=data.copy()\n",
    "df.head()"
   ]
  },
  {
   "cell_type": "code",
   "execution_count": 135,
   "metadata": {},
   "outputs": [
    {
     "name": "stdout",
     "output_type": "stream",
     "text": [
      "<class 'pandas.core.frame.DataFrame'>\n",
      "RangeIndex: 10000 entries, 0 to 9999\n",
      "Data columns (total 8 columns):\n",
      " #   Column            Non-Null Count  Dtype \n",
      "---  ------            --------------  ----- \n",
      " 0   Transaction ID    10000 non-null  object\n",
      " 1   Item              9667 non-null   object\n",
      " 2   Quantity          9862 non-null   object\n",
      " 3   Price Per Unit    9821 non-null   object\n",
      " 4   Total Spent       9827 non-null   object\n",
      " 5   Payment Method    7421 non-null   object\n",
      " 6   Location          6735 non-null   object\n",
      " 7   Transaction Date  9841 non-null   object\n",
      "dtypes: object(8)\n",
      "memory usage: 625.1+ KB\n"
     ]
    }
   ],
   "source": [
    "df.info()"
   ]
  },
  {
   "cell_type": "code",
   "execution_count": 136,
   "metadata": {},
   "outputs": [
    {
     "data": {
      "text/plain": [
       "np.int64(0)"
      ]
     },
     "execution_count": 136,
     "metadata": {},
     "output_type": "execute_result"
    }
   ],
   "source": [
    "df.duplicated().sum()"
   ]
  },
  {
   "cell_type": "code",
   "execution_count": 137,
   "metadata": {},
   "outputs": [],
   "source": [
    "df.replace([\"ERROR\",\"UNKNOWN\"],np.nan,inplace=True)"
   ]
  },
  {
   "cell_type": "code",
   "execution_count": 138,
   "metadata": {},
   "outputs": [],
   "source": [
    "df[\"Quantity\"]=df[\"Quantity\"].astype(\"float64\")\n",
    "df[\"Price Per Unit\"]=df[\"Price Per Unit\"].astype(\"float64\")\n",
    "df[\"Total Spent\"]=df[\"Total Spent\"].astype(\"float64\")"
   ]
  },
  {
   "cell_type": "code",
   "execution_count": 139,
   "metadata": {},
   "outputs": [],
   "source": [
    "df.dropna(subset=[\"Item\",\"Quantity\",\"Price Per Unit\",\"Total Spent\",\"Transaction Date\"],inplace=True)"
   ]
  },
  {
   "cell_type": "code",
   "execution_count": 140,
   "metadata": {},
   "outputs": [],
   "source": [
    "df[\"Location\"]=df[\"Location\"].replace(\" NaN\",np.nan)"
   ]
  },
  {
   "cell_type": "code",
   "execution_count": 141,
   "metadata": {},
   "outputs": [
    {
     "name": "stderr",
     "output_type": "stream",
     "text": [
      "C:\\Users\\dell\\AppData\\Local\\Temp\\ipykernel_4536\\144675373.py:1: FutureWarning:\n",
      "\n",
      "A value is trying to be set on a copy of a DataFrame or Series through chained assignment using an inplace method.\n",
      "The behavior will change in pandas 3.0. This inplace method will never work because the intermediate object on which we are setting values always behaves as a copy.\n",
      "\n",
      "For example, when doing 'df[col].method(value, inplace=True)', try using 'df.method({col: value}, inplace=True)' or df[col] = df[col].method(value) instead, to perform the operation inplace on the original object.\n",
      "\n",
      "\n",
      "\n",
      "C:\\Users\\dell\\AppData\\Local\\Temp\\ipykernel_4536\\144675373.py:2: FutureWarning:\n",
      "\n",
      "A value is trying to be set on a copy of a DataFrame or Series through chained assignment using an inplace method.\n",
      "The behavior will change in pandas 3.0. This inplace method will never work because the intermediate object on which we are setting values always behaves as a copy.\n",
      "\n",
      "For example, when doing 'df[col].method(value, inplace=True)', try using 'df.method({col: value}, inplace=True)' or df[col] = df[col].method(value) instead, to perform the operation inplace on the original object.\n",
      "\n",
      "\n",
      "\n"
     ]
    }
   ],
   "source": [
    "df[\"Location\"].replace(np.nan,\"ee\",inplace=True)\n",
    "df[\"Payment Method\"].replace(np.nan,\"ee\",inplace=True)"
   ]
  },
  {
   "cell_type": "code",
   "execution_count": 142,
   "metadata": {},
   "outputs": [],
   "source": [
    "df = df[df[\"Location\"] != \"ee\"]\n",
    "df = df[df[\"Payment Method\"] != \"ee\"]"
   ]
  },
  {
   "cell_type": "code",
   "execution_count": 143,
   "metadata": {},
   "outputs": [
    {
     "data": {
      "text/plain": [
       "Transaction ID      0.0\n",
       "Item                0.0\n",
       "Quantity            0.0\n",
       "Price Per Unit      0.0\n",
       "Total Spent         0.0\n",
       "Payment Method      0.0\n",
       "Location            0.0\n",
       "Transaction Date    0.0\n",
       "dtype: float64"
      ]
     },
     "execution_count": 143,
     "metadata": {},
     "output_type": "execute_result"
    }
   ],
   "source": [
    "df.isnull().mean()*100"
   ]
  },
  {
   "cell_type": "code",
   "execution_count": 144,
   "metadata": {},
   "outputs": [
    {
     "name": "stderr",
     "output_type": "stream",
     "text": [
      "C:\\Users\\dell\\AppData\\Local\\Temp\\ipykernel_4536\\1015539783.py:1: FutureWarning:\n",
      "\n",
      "A value is trying to be set on a copy of a DataFrame or Series through chained assignment using an inplace method.\n",
      "The behavior will change in pandas 3.0. This inplace method will never work because the intermediate object on which we are setting values always behaves as a copy.\n",
      "\n",
      "For example, when doing 'df[col].method(value, inplace=True)', try using 'df.method({col: value}, inplace=True)' or df[col] = df[col].method(value) instead, to perform the operation inplace on the original object.\n",
      "\n",
      "\n",
      "\n"
     ]
    }
   ],
   "source": [
    "df[\"Payment Method\"].replace(\"NaN\", np.nan, inplace=True)\n"
   ]
  },
  {
   "cell_type": "code",
   "execution_count": 145,
   "metadata": {},
   "outputs": [],
   "source": [
    "df[\"Transaction Date\"]=pd.to_datetime(df[\"Transaction Date\"])"
   ]
  },
  {
   "cell_type": "code",
   "execution_count": 146,
   "metadata": {},
   "outputs": [],
   "source": [
    "ee=df[\"Item\"].value_counts()"
   ]
  },
  {
   "cell_type": "code",
   "execution_count": 147,
   "metadata": {},
   "outputs": [
    {
     "data": {
      "application/vnd.plotly.v1+json": {
       "config": {
        "plotlyServerURL": "https://plot.ly"
       },
       "data": [
        {
         "domain": {
          "x": [
           0,
           1
          ],
          "y": [
           0,
           1
          ]
         },
         "hovertemplate": "label=%{label}<extra></extra>",
         "labels": [
          "Coffee",
          "Cake",
          "Coffee",
          "Salad",
          "Sandwich",
          "Salad",
          "Juice",
          "Juice",
          "Smoothie",
          "Sandwich",
          "Sandwich",
          "Cookie",
          "Juice",
          "Smoothie",
          "Salad",
          "Juice",
          "Smoothie",
          "Sandwich",
          "Cookie",
          "Tea",
          "Cake",
          "Coffee",
          "Juice",
          "Coffee",
          "Cake",
          "Tea",
          "Salad",
          "Coffee",
          "Juice",
          "Coffee",
          "Juice",
          "Cookie",
          "Salad",
          "Coffee",
          "Tea",
          "Smoothie",
          "Juice",
          "Sandwich",
          "Juice",
          "Juice",
          "Tea",
          "Coffee",
          "Salad",
          "Cake",
          "Coffee",
          "Salad",
          "Sandwich",
          "Cake",
          "Cookie",
          "Cookie",
          "Cookie",
          "Smoothie",
          "Cake",
          "Cake",
          "Smoothie",
          "Juice",
          "Cookie",
          "Coffee",
          "Coffee",
          "Cookie",
          "Smoothie",
          "Salad",
          "Salad",
          "Coffee",
          "Cake",
          "Salad",
          "Cookie",
          "Cake",
          "Tea",
          "Sandwich",
          "Juice",
          "Salad",
          "Salad",
          "Cookie",
          "Smoothie",
          "Sandwich",
          "Sandwich",
          "Tea",
          "Smoothie",
          "Sandwich",
          "Sandwich",
          "Cake",
          "Smoothie",
          "Tea",
          "Smoothie",
          "Tea",
          "Cake",
          "Smoothie",
          "Tea",
          "Salad",
          "Cookie",
          "Cookie",
          "Coffee",
          "Salad",
          "Sandwich",
          "Smoothie",
          "Salad",
          "Juice",
          "Sandwich",
          "Tea",
          "Smoothie",
          "Coffee",
          "Coffee",
          "Sandwich",
          "Cookie",
          "Tea",
          "Smoothie",
          "Salad",
          "Cake",
          "Coffee",
          "Cookie",
          "Cookie",
          "Salad",
          "Juice",
          "Cookie",
          "Cake",
          "Sandwich",
          "Tea",
          "Salad",
          "Tea",
          "Cake",
          "Cookie",
          "Salad",
          "Cake",
          "Cookie",
          "Sandwich",
          "Cake",
          "Coffee",
          "Coffee",
          "Sandwich",
          "Sandwich",
          "Juice",
          "Cake",
          "Cookie",
          "Cake",
          "Tea",
          "Coffee",
          "Coffee",
          "Cake",
          "Sandwich",
          "Salad",
          "Salad",
          "Juice",
          "Sandwich",
          "Cookie",
          "Tea",
          "Tea",
          "Cookie",
          "Sandwich",
          "Sandwich",
          "Salad",
          "Juice",
          "Tea",
          "Salad",
          "Smoothie",
          "Tea",
          "Cookie",
          "Smoothie",
          "Cake",
          "Sandwich",
          "Juice",
          "Tea",
          "Salad",
          "Cookie",
          "Juice",
          "Sandwich",
          "Tea",
          "Cake",
          "Salad",
          "Sandwich",
          "Coffee",
          "Sandwich",
          "Cookie",
          "Coffee",
          "Salad",
          "Sandwich",
          "Cookie",
          "Coffee",
          "Smoothie",
          "Coffee",
          "Salad",
          "Juice",
          "Tea",
          "Cookie",
          "Salad",
          "Salad",
          "Salad",
          "Cookie",
          "Salad",
          "Cookie",
          "Cake",
          "Cookie",
          "Juice",
          "Sandwich",
          "Smoothie",
          "Sandwich",
          "Sandwich",
          "Sandwich",
          "Smoothie",
          "Sandwich",
          "Cake",
          "Salad",
          "Tea",
          "Cake",
          "Cake",
          "Cookie",
          "Smoothie",
          "Juice",
          "Cake",
          "Salad",
          "Cake",
          "Coffee",
          "Smoothie",
          "Cookie",
          "Cake",
          "Juice",
          "Salad",
          "Salad",
          "Salad",
          "Sandwich",
          "Coffee",
          "Cake",
          "Smoothie",
          "Juice",
          "Coffee",
          "Smoothie",
          "Sandwich",
          "Sandwich",
          "Tea",
          "Sandwich",
          "Tea",
          "Coffee",
          "Salad",
          "Coffee",
          "Juice",
          "Juice",
          "Tea",
          "Tea",
          "Juice",
          "Smoothie",
          "Smoothie",
          "Coffee",
          "Cookie",
          "Salad",
          "Juice",
          "Juice",
          "Smoothie",
          "Cookie",
          "Sandwich",
          "Cookie",
          "Coffee",
          "Salad",
          "Tea",
          "Cookie",
          "Cake",
          "Sandwich",
          "Tea",
          "Cake",
          "Sandwich",
          "Cake",
          "Juice",
          "Cookie",
          "Juice",
          "Tea",
          "Coffee",
          "Juice",
          "Sandwich",
          "Cookie",
          "Cookie",
          "Tea",
          "Smoothie",
          "Salad",
          "Smoothie",
          "Coffee",
          "Salad",
          "Salad",
          "Salad",
          "Cake",
          "Tea",
          "Cake",
          "Juice",
          "Coffee",
          "Smoothie",
          "Juice",
          "Tea",
          "Juice",
          "Salad",
          "Salad",
          "Salad",
          "Tea",
          "Sandwich",
          "Tea",
          "Cake",
          "Sandwich",
          "Sandwich",
          "Coffee",
          "Salad",
          "Smoothie",
          "Coffee",
          "Tea",
          "Salad",
          "Juice",
          "Cookie",
          "Salad",
          "Tea",
          "Cookie",
          "Tea",
          "Sandwich",
          "Smoothie",
          "Coffee",
          "Sandwich",
          "Sandwich",
          "Coffee",
          "Salad",
          "Sandwich",
          "Cake",
          "Cake",
          "Cake",
          "Salad",
          "Sandwich",
          "Salad",
          "Salad",
          "Cake",
          "Cake",
          "Juice",
          "Salad",
          "Cookie",
          "Salad",
          "Cookie",
          "Salad",
          "Sandwich",
          "Tea",
          "Cookie",
          "Salad",
          "Cake",
          "Cake",
          "Juice",
          "Salad",
          "Smoothie",
          "Salad",
          "Cake",
          "Smoothie",
          "Salad",
          "Smoothie",
          "Cake",
          "Cake",
          "Sandwich",
          "Smoothie",
          "Smoothie",
          "Sandwich",
          "Cookie",
          "Sandwich",
          "Coffee",
          "Juice",
          "Coffee",
          "Sandwich",
          "Coffee",
          "Cake",
          "Coffee",
          "Coffee",
          "Salad",
          "Salad",
          "Salad",
          "Cookie",
          "Cake",
          "Cookie",
          "Tea",
          "Smoothie",
          "Tea",
          "Sandwich",
          "Sandwich",
          "Sandwich",
          "Cake",
          "Smoothie",
          "Cookie",
          "Cookie",
          "Coffee",
          "Smoothie",
          "Cake",
          "Smoothie",
          "Cake",
          "Tea",
          "Sandwich",
          "Sandwich",
          "Coffee",
          "Coffee",
          "Cake",
          "Smoothie",
          "Cookie",
          "Cookie",
          "Cake",
          "Salad",
          "Coffee",
          "Cake",
          "Smoothie",
          "Salad",
          "Cake",
          "Cake",
          "Cake",
          "Coffee",
          "Sandwich",
          "Cookie",
          "Salad",
          "Cookie",
          "Salad",
          "Cake",
          "Smoothie",
          "Salad",
          "Cookie",
          "Coffee",
          "Juice",
          "Coffee",
          "Coffee",
          "Sandwich",
          "Cake",
          "Sandwich",
          "Cake",
          "Cake",
          "Cookie",
          "Juice",
          "Juice",
          "Sandwich",
          "Sandwich",
          "Juice",
          "Juice",
          "Tea",
          "Tea",
          "Cake",
          "Cookie",
          "Smoothie",
          "Cake",
          "Tea",
          "Salad",
          "Cake",
          "Juice",
          "Juice",
          "Tea",
          "Cookie",
          "Juice",
          "Smoothie",
          "Sandwich",
          "Cake",
          "Cake",
          "Salad",
          "Salad",
          "Coffee",
          "Tea",
          "Salad",
          "Cookie",
          "Salad",
          "Juice",
          "Coffee",
          "Coffee",
          "Cookie",
          "Tea",
          "Tea",
          "Tea",
          "Smoothie",
          "Cookie",
          "Salad",
          "Salad",
          "Juice",
          "Sandwich",
          "Coffee",
          "Coffee",
          "Sandwich",
          "Tea",
          "Salad",
          "Juice",
          "Cake",
          "Cake",
          "Smoothie",
          "Juice",
          "Salad",
          "Coffee",
          "Juice",
          "Sandwich",
          "Cake",
          "Cookie",
          "Cake",
          "Cookie",
          "Sandwich",
          "Salad",
          "Cookie",
          "Salad",
          "Cake",
          "Coffee",
          "Salad",
          "Tea",
          "Cake",
          "Juice",
          "Salad",
          "Tea",
          "Smoothie",
          "Cookie",
          "Sandwich",
          "Tea",
          "Smoothie",
          "Cake",
          "Smoothie",
          "Coffee",
          "Cookie",
          "Juice",
          "Tea",
          "Cookie",
          "Salad",
          "Smoothie",
          "Cookie",
          "Cake",
          "Sandwich",
          "Cake",
          "Sandwich",
          "Juice",
          "Smoothie",
          "Tea",
          "Juice",
          "Cake",
          "Juice",
          "Juice",
          "Tea",
          "Tea",
          "Tea",
          "Sandwich",
          "Juice",
          "Cookie",
          "Cake",
          "Coffee",
          "Cake",
          "Coffee",
          "Salad",
          "Smoothie",
          "Cookie",
          "Cake",
          "Sandwich",
          "Tea",
          "Sandwich",
          "Coffee",
          "Sandwich",
          "Sandwich",
          "Smoothie",
          "Juice",
          "Coffee",
          "Salad",
          "Sandwich",
          "Cookie",
          "Cookie",
          "Smoothie",
          "Coffee",
          "Tea",
          "Juice",
          "Salad",
          "Cookie",
          "Cake",
          "Juice",
          "Smoothie",
          "Cookie",
          "Cookie",
          "Coffee",
          "Sandwich",
          "Cake",
          "Cookie",
          "Smoothie",
          "Salad",
          "Smoothie",
          "Cake",
          "Smoothie",
          "Smoothie",
          "Tea",
          "Sandwich",
          "Tea",
          "Sandwich",
          "Coffee",
          "Juice",
          "Tea",
          "Cake",
          "Cake",
          "Cookie",
          "Coffee",
          "Tea",
          "Sandwich",
          "Salad",
          "Salad",
          "Juice",
          "Sandwich",
          "Smoothie",
          "Cookie",
          "Cake",
          "Tea",
          "Coffee",
          "Coffee",
          "Juice",
          "Juice",
          "Tea",
          "Smoothie",
          "Sandwich",
          "Tea",
          "Juice",
          "Cake",
          "Sandwich",
          "Coffee",
          "Salad",
          "Cookie",
          "Cake",
          "Smoothie",
          "Juice",
          "Sandwich",
          "Sandwich",
          "Salad",
          "Cake",
          "Sandwich",
          "Smoothie",
          "Cake",
          "Cookie",
          "Juice",
          "Coffee",
          "Cake",
          "Smoothie",
          "Tea",
          "Cake",
          "Juice",
          "Coffee",
          "Smoothie",
          "Cake",
          "Sandwich",
          "Smoothie",
          "Salad",
          "Tea",
          "Juice",
          "Sandwich",
          "Coffee",
          "Salad",
          "Coffee",
          "Coffee",
          "Salad",
          "Tea",
          "Sandwich",
          "Coffee",
          "Coffee",
          "Salad",
          "Smoothie",
          "Smoothie",
          "Salad",
          "Salad",
          "Smoothie",
          "Coffee",
          "Juice",
          "Smoothie",
          "Salad",
          "Tea",
          "Coffee",
          "Cake",
          "Sandwich",
          "Smoothie",
          "Sandwich",
          "Coffee",
          "Salad",
          "Tea",
          "Juice",
          "Salad",
          "Salad",
          "Tea",
          "Juice",
          "Coffee",
          "Cookie",
          "Salad",
          "Juice",
          "Juice",
          "Salad",
          "Juice",
          "Cookie",
          "Salad",
          "Salad",
          "Smoothie",
          "Smoothie",
          "Smoothie",
          "Cake",
          "Smoothie",
          "Cookie",
          "Sandwich",
          "Tea",
          "Juice",
          "Salad",
          "Salad",
          "Cake",
          "Coffee",
          "Sandwich",
          "Juice",
          "Cookie",
          "Tea",
          "Smoothie",
          "Coffee",
          "Salad",
          "Tea",
          "Salad",
          "Tea",
          "Tea",
          "Coffee",
          "Coffee",
          "Salad",
          "Smoothie",
          "Tea",
          "Sandwich",
          "Coffee",
          "Cookie",
          "Smoothie",
          "Cookie",
          "Sandwich",
          "Cookie",
          "Smoothie",
          "Tea",
          "Smoothie",
          "Sandwich",
          "Sandwich",
          "Coffee",
          "Cake",
          "Juice",
          "Tea",
          "Salad",
          "Cake",
          "Coffee",
          "Cookie",
          "Cookie",
          "Coffee",
          "Cookie",
          "Sandwich",
          "Coffee",
          "Salad",
          "Salad",
          "Cake",
          "Coffee",
          "Smoothie",
          "Tea",
          "Cookie",
          "Smoothie",
          "Coffee",
          "Cookie",
          "Salad",
          "Juice",
          "Cake",
          "Juice",
          "Cookie",
          "Sandwich",
          "Sandwich",
          "Coffee",
          "Coffee",
          "Tea",
          "Sandwich",
          "Salad",
          "Salad",
          "Coffee",
          "Cake",
          "Smoothie",
          "Juice",
          "Juice",
          "Salad",
          "Tea",
          "Juice",
          "Cake",
          "Cookie",
          "Cookie",
          "Smoothie",
          "Tea",
          "Coffee",
          "Cookie",
          "Cake",
          "Salad",
          "Juice",
          "Cookie",
          "Cookie",
          "Cake",
          "Juice",
          "Cookie",
          "Juice",
          "Tea",
          "Coffee",
          "Coffee",
          "Coffee",
          "Sandwich",
          "Sandwich",
          "Cookie",
          "Smoothie",
          "Cake",
          "Coffee",
          "Cookie",
          "Juice",
          "Juice",
          "Tea",
          "Salad",
          "Salad",
          "Cake",
          "Coffee",
          "Tea",
          "Juice",
          "Juice",
          "Salad",
          "Smoothie",
          "Coffee",
          "Cookie",
          "Juice",
          "Coffee",
          "Juice",
          "Cake",
          "Smoothie",
          "Coffee",
          "Cookie",
          "Sandwich",
          "Juice",
          "Juice",
          "Sandwich",
          "Juice",
          "Smoothie",
          "Sandwich",
          "Cookie",
          "Cake",
          "Sandwich",
          "Cake",
          "Cake",
          "Cake",
          "Coffee",
          "Cookie",
          "Salad",
          "Sandwich",
          "Sandwich",
          "Salad",
          "Tea",
          "Cookie",
          "Tea",
          "Salad",
          "Juice",
          "Juice",
          "Cake",
          "Cookie",
          "Cake",
          "Sandwich",
          "Salad",
          "Coffee",
          "Cake",
          "Sandwich",
          "Tea",
          "Smoothie",
          "Cake",
          "Coffee",
          "Juice",
          "Smoothie",
          "Sandwich",
          "Cookie",
          "Coffee",
          "Sandwich",
          "Salad",
          "Sandwich",
          "Salad",
          "Smoothie",
          "Tea",
          "Tea",
          "Sandwich",
          "Salad",
          "Smoothie",
          "Smoothie",
          "Coffee",
          "Tea",
          "Salad",
          "Coffee",
          "Coffee",
          "Cake",
          "Cookie",
          "Salad",
          "Salad",
          "Sandwich",
          "Tea",
          "Cake",
          "Juice",
          "Smoothie",
          "Salad",
          "Cake",
          "Cake",
          "Salad",
          "Cake",
          "Tea",
          "Smoothie",
          "Juice",
          "Tea",
          "Juice",
          "Tea",
          "Cookie",
          "Juice",
          "Sandwich",
          "Coffee",
          "Cookie",
          "Sandwich",
          "Cookie",
          "Coffee",
          "Sandwich",
          "Juice",
          "Sandwich",
          "Cake",
          "Juice",
          "Salad",
          "Salad",
          "Salad",
          "Cookie",
          "Cake",
          "Salad",
          "Coffee",
          "Salad",
          "Cake",
          "Juice",
          "Salad",
          "Cookie",
          "Juice",
          "Cake",
          "Smoothie",
          "Juice",
          "Tea",
          "Smoothie",
          "Cookie",
          "Cake",
          "Smoothie",
          "Tea",
          "Cake",
          "Smoothie",
          "Salad",
          "Juice",
          "Cake",
          "Tea",
          "Coffee",
          "Juice",
          "Tea",
          "Cake",
          "Juice",
          "Sandwich",
          "Cake",
          "Juice",
          "Coffee",
          "Tea",
          "Sandwich",
          "Juice",
          "Juice",
          "Juice",
          "Cookie",
          "Cake",
          "Cake",
          "Juice",
          "Cookie",
          "Coffee",
          "Cake",
          "Coffee",
          "Sandwich",
          "Cake",
          "Juice",
          "Cake",
          "Cookie",
          "Cookie",
          "Smoothie",
          "Sandwich",
          "Salad",
          "Cookie",
          "Smoothie",
          "Salad",
          "Salad",
          "Cake",
          "Smoothie",
          "Juice",
          "Cookie",
          "Coffee",
          "Smoothie",
          "Juice",
          "Cake",
          "Cake",
          "Tea",
          "Sandwich",
          "Juice",
          "Juice",
          "Smoothie",
          "Cookie",
          "Cookie",
          "Cookie",
          "Cake",
          "Smoothie",
          "Smoothie",
          "Sandwich",
          "Cake",
          "Cake",
          "Salad",
          "Salad",
          "Smoothie",
          "Tea",
          "Salad",
          "Tea",
          "Juice",
          "Tea",
          "Cake",
          "Sandwich",
          "Juice",
          "Smoothie",
          "Sandwich",
          "Cake",
          "Cookie",
          "Cookie",
          "Juice",
          "Salad",
          "Sandwich",
          "Juice",
          "Sandwich",
          "Cake",
          "Cookie",
          "Smoothie",
          "Cookie",
          "Sandwich",
          "Cake",
          "Cake",
          "Coffee",
          "Juice",
          "Coffee",
          "Smoothie",
          "Juice",
          "Sandwich",
          "Smoothie",
          "Smoothie",
          "Tea",
          "Smoothie",
          "Cake",
          "Cake",
          "Juice",
          "Tea",
          "Sandwich",
          "Coffee",
          "Tea",
          "Juice",
          "Salad",
          "Smoothie",
          "Tea",
          "Coffee",
          "Tea",
          "Cookie",
          "Sandwich",
          "Coffee",
          "Coffee",
          "Cake",
          "Salad",
          "Cookie",
          "Cookie",
          "Tea",
          "Sandwich",
          "Salad",
          "Juice",
          "Sandwich",
          "Juice",
          "Coffee",
          "Tea",
          "Cake",
          "Smoothie",
          "Cake",
          "Sandwich",
          "Salad",
          "Salad",
          "Tea",
          "Cake",
          "Smoothie",
          "Juice",
          "Coffee",
          "Cake",
          "Tea",
          "Cookie",
          "Salad",
          "Salad",
          "Tea",
          "Cookie",
          "Cake",
          "Cookie",
          "Cake",
          "Smoothie",
          "Coffee",
          "Cookie",
          "Cake",
          "Cookie",
          "Tea",
          "Cake",
          "Tea",
          "Smoothie",
          "Salad",
          "Salad",
          "Sandwich",
          "Cookie",
          "Salad",
          "Sandwich",
          "Coffee",
          "Smoothie",
          "Coffee",
          "Cake",
          "Salad",
          "Tea",
          "Salad",
          "Tea",
          "Salad",
          "Smoothie",
          "Coffee",
          "Salad",
          "Smoothie",
          "Cookie",
          "Salad",
          "Juice",
          "Juice",
          "Juice",
          "Coffee",
          "Juice",
          "Smoothie",
          "Coffee",
          "Smoothie",
          "Tea",
          "Juice",
          "Sandwich",
          "Tea",
          "Tea",
          "Tea",
          "Salad",
          "Tea",
          "Sandwich",
          "Sandwich",
          "Smoothie",
          "Cookie",
          "Cookie",
          "Cake",
          "Salad",
          "Tea",
          "Cookie",
          "Tea",
          "Sandwich",
          "Cookie",
          "Salad",
          "Smoothie",
          "Coffee",
          "Tea",
          "Tea",
          "Salad",
          "Tea",
          "Cookie",
          "Cookie",
          "Smoothie",
          "Salad",
          "Juice",
          "Cake",
          "Juice",
          "Cake",
          "Cake",
          "Cake",
          "Juice",
          "Smoothie",
          "Sandwich",
          "Tea",
          "Tea",
          "Tea",
          "Juice",
          "Cake",
          "Salad",
          "Juice",
          "Salad",
          "Smoothie",
          "Cookie",
          "Smoothie",
          "Cookie",
          "Cookie",
          "Coffee",
          "Sandwich",
          "Juice",
          "Sandwich",
          "Coffee",
          "Cookie",
          "Cookie",
          "Smoothie",
          "Cake",
          "Cookie",
          "Salad",
          "Cake",
          "Smoothie",
          "Coffee",
          "Sandwich",
          "Tea",
          "Juice",
          "Cake",
          "Cookie",
          "Cake",
          "Cake",
          "Coffee",
          "Cookie",
          "Coffee",
          "Tea",
          "Cookie",
          "Juice",
          "Cookie",
          "Juice",
          "Coffee",
          "Cake",
          "Coffee",
          "Salad",
          "Sandwich",
          "Juice",
          "Salad",
          "Coffee",
          "Cake",
          "Salad",
          "Coffee",
          "Cake",
          "Cake",
          "Salad",
          "Tea",
          "Cookie",
          "Tea",
          "Smoothie",
          "Juice",
          "Juice",
          "Cookie",
          "Cake",
          "Salad",
          "Cake",
          "Salad",
          "Smoothie",
          "Cookie",
          "Juice",
          "Tea",
          "Cake",
          "Coffee",
          "Sandwich",
          "Cake",
          "Salad",
          "Cake",
          "Sandwich",
          "Coffee",
          "Tea",
          "Cookie",
          "Cookie",
          "Cookie",
          "Cake",
          "Juice",
          "Salad",
          "Tea",
          "Coffee",
          "Smoothie",
          "Juice",
          "Cookie",
          "Coffee",
          "Salad",
          "Coffee",
          "Salad",
          "Coffee",
          "Cookie",
          "Tea",
          "Salad",
          "Tea",
          "Cookie",
          "Juice",
          "Juice",
          "Cake",
          "Smoothie",
          "Sandwich",
          "Juice",
          "Coffee",
          "Coffee",
          "Cake",
          "Cookie",
          "Tea",
          "Smoothie",
          "Sandwich",
          "Tea",
          "Cookie",
          "Smoothie",
          "Juice",
          "Coffee",
          "Salad",
          "Tea",
          "Juice",
          "Sandwich",
          "Smoothie",
          "Cookie",
          "Juice",
          "Cookie",
          "Coffee",
          "Salad",
          "Juice",
          "Sandwich",
          "Cake",
          "Cake",
          "Cookie",
          "Sandwich",
          "Cookie",
          "Cake",
          "Salad",
          "Salad",
          "Cake",
          "Cake",
          "Sandwich",
          "Juice",
          "Tea",
          "Smoothie",
          "Coffee",
          "Cake",
          "Cookie",
          "Sandwich",
          "Cake",
          "Tea",
          "Juice",
          "Cookie",
          "Coffee",
          "Cake",
          "Tea",
          "Sandwich",
          "Smoothie",
          "Cookie",
          "Cake",
          "Salad",
          "Sandwich",
          "Cake",
          "Smoothie",
          "Cake",
          "Cookie",
          "Salad",
          "Cake",
          "Cookie",
          "Cookie",
          "Sandwich",
          "Cookie",
          "Sandwich",
          "Tea",
          "Tea",
          "Smoothie",
          "Salad",
          "Salad",
          "Sandwich",
          "Salad",
          "Juice",
          "Juice",
          "Coffee",
          "Coffee",
          "Salad",
          "Sandwich",
          "Cake",
          "Tea",
          "Cookie",
          "Cake",
          "Smoothie",
          "Coffee",
          "Juice",
          "Sandwich",
          "Tea",
          "Sandwich",
          "Cookie",
          "Sandwich",
          "Smoothie",
          "Cookie",
          "Salad",
          "Tea",
          "Salad",
          "Salad",
          "Coffee",
          "Smoothie",
          "Cookie",
          "Cake",
          "Juice",
          "Cake",
          "Cake",
          "Cookie",
          "Tea",
          "Cookie",
          "Coffee",
          "Cake",
          "Smoothie",
          "Cookie",
          "Sandwich",
          "Smoothie",
          "Cake",
          "Sandwich",
          "Smoothie",
          "Cake",
          "Sandwich",
          "Coffee",
          "Tea",
          "Juice",
          "Juice",
          "Tea",
          "Sandwich",
          "Juice",
          "Salad",
          "Juice",
          "Sandwich",
          "Salad",
          "Juice",
          "Sandwich",
          "Tea",
          "Coffee",
          "Sandwich",
          "Tea",
          "Juice",
          "Juice",
          "Cookie",
          "Tea",
          "Coffee",
          "Smoothie",
          "Smoothie",
          "Cookie",
          "Sandwich",
          "Tea",
          "Smoothie",
          "Salad",
          "Smoothie",
          "Sandwich",
          "Cookie",
          "Tea",
          "Smoothie",
          "Juice",
          "Smoothie",
          "Sandwich",
          "Juice",
          "Cake",
          "Tea",
          "Smoothie",
          "Cookie",
          "Tea",
          "Salad",
          "Sandwich",
          "Sandwich",
          "Juice",
          "Sandwich",
          "Sandwich",
          "Salad",
          "Tea",
          "Salad",
          "Cake",
          "Smoothie",
          "Cookie",
          "Coffee",
          "Smoothie",
          "Juice",
          "Sandwich",
          "Sandwich",
          "Salad",
          "Sandwich",
          "Coffee",
          "Tea",
          "Salad",
          "Tea",
          "Salad",
          "Cookie",
          "Salad",
          "Tea",
          "Smoothie",
          "Smoothie",
          "Tea",
          "Salad",
          "Smoothie",
          "Cookie",
          "Juice",
          "Sandwich",
          "Tea",
          "Tea",
          "Cake",
          "Juice",
          "Smoothie",
          "Juice",
          "Cookie",
          "Cookie",
          "Juice",
          "Cake",
          "Coffee",
          "Juice",
          "Juice",
          "Tea",
          "Smoothie",
          "Cookie",
          "Juice",
          "Cookie",
          "Salad",
          "Cake",
          "Juice",
          "Salad",
          "Salad",
          "Tea",
          "Salad",
          "Sandwich",
          "Juice",
          "Smoothie",
          "Salad",
          "Juice",
          "Smoothie",
          "Salad",
          "Smoothie",
          "Tea",
          "Cookie",
          "Smoothie",
          "Cake",
          "Juice",
          "Salad",
          "Tea",
          "Coffee",
          "Coffee",
          "Tea",
          "Coffee",
          "Coffee",
          "Sandwich",
          "Tea",
          "Sandwich",
          "Cake",
          "Sandwich",
          "Coffee",
          "Coffee",
          "Coffee",
          "Sandwich",
          "Juice",
          "Smoothie",
          "Tea",
          "Salad",
          "Cake",
          "Smoothie",
          "Cookie",
          "Cookie",
          "Coffee",
          "Cake",
          "Cookie",
          "Cake",
          "Cookie",
          "Juice",
          "Salad",
          "Cake",
          "Smoothie",
          "Coffee",
          "Cake",
          "Juice",
          "Coffee",
          "Juice",
          "Salad",
          "Tea",
          "Smoothie",
          "Cake",
          "Coffee",
          "Tea",
          "Salad",
          "Coffee",
          "Sandwich",
          "Juice",
          "Smoothie",
          "Juice",
          "Cookie",
          "Coffee",
          "Salad",
          "Cake",
          "Coffee",
          "Salad",
          "Cookie",
          "Sandwich",
          "Tea",
          "Smoothie",
          "Cookie",
          "Salad",
          "Cookie",
          "Sandwich",
          "Salad",
          "Sandwich",
          "Salad",
          "Smoothie",
          "Cookie",
          "Cake",
          "Juice",
          "Juice",
          "Sandwich",
          "Tea",
          "Smoothie",
          "Juice",
          "Coffee",
          "Salad",
          "Salad",
          "Salad",
          "Cookie",
          "Sandwich",
          "Juice",
          "Salad",
          "Cake",
          "Cookie",
          "Salad",
          "Juice",
          "Tea",
          "Smoothie",
          "Sandwich",
          "Cookie",
          "Tea",
          "Cookie",
          "Cake",
          "Tea",
          "Smoothie",
          "Smoothie",
          "Cake",
          "Salad",
          "Cake",
          "Cake",
          "Coffee",
          "Coffee",
          "Smoothie",
          "Smoothie",
          "Salad",
          "Salad",
          "Salad",
          "Cookie",
          "Juice",
          "Cookie",
          "Sandwich",
          "Coffee",
          "Sandwich",
          "Cookie",
          "Juice",
          "Coffee",
          "Salad",
          "Cookie",
          "Tea",
          "Cookie",
          "Juice",
          "Sandwich",
          "Sandwich",
          "Sandwich",
          "Tea",
          "Coffee",
          "Cookie",
          "Cookie",
          "Coffee",
          "Salad",
          "Tea",
          "Smoothie",
          "Juice",
          "Sandwich",
          "Coffee",
          "Coffee",
          "Sandwich",
          "Cake",
          "Cookie",
          "Coffee",
          "Cake",
          "Sandwich",
          "Cake",
          "Tea",
          "Smoothie",
          "Tea",
          "Smoothie",
          "Juice",
          "Coffee",
          "Coffee",
          "Coffee",
          "Sandwich",
          "Coffee",
          "Coffee",
          "Juice",
          "Tea",
          "Smoothie",
          "Cookie",
          "Sandwich",
          "Tea",
          "Sandwich",
          "Cake",
          "Smoothie",
          "Coffee",
          "Smoothie",
          "Juice",
          "Coffee",
          "Sandwich",
          "Sandwich",
          "Juice",
          "Cake",
          "Juice",
          "Coffee",
          "Cookie",
          "Cookie",
          "Coffee",
          "Coffee",
          "Tea",
          "Cookie",
          "Tea",
          "Tea",
          "Sandwich",
          "Smoothie",
          "Sandwich",
          "Coffee",
          "Salad",
          "Salad",
          "Salad",
          "Juice",
          "Coffee",
          "Tea",
          "Salad",
          "Sandwich",
          "Cake",
          "Sandwich",
          "Smoothie",
          "Tea",
          "Coffee",
          "Tea",
          "Tea",
          "Cookie",
          "Cookie",
          "Smoothie",
          "Salad",
          "Sandwich",
          "Salad",
          "Cookie",
          "Salad",
          "Sandwich",
          "Sandwich",
          "Cake",
          "Sandwich",
          "Coffee",
          "Cake",
          "Coffee",
          "Sandwich",
          "Juice",
          "Salad",
          "Salad",
          "Smoothie",
          "Juice",
          "Juice",
          "Tea",
          "Juice",
          "Sandwich",
          "Coffee",
          "Coffee",
          "Tea",
          "Cookie",
          "Coffee",
          "Smoothie",
          "Cookie",
          "Coffee",
          "Sandwich",
          "Cookie",
          "Cookie",
          "Cookie",
          "Salad",
          "Salad",
          "Cake",
          "Tea",
          "Salad",
          "Cookie",
          "Juice",
          "Tea",
          "Smoothie",
          "Salad",
          "Coffee",
          "Cookie",
          "Smoothie",
          "Smoothie",
          "Coffee",
          "Coffee",
          "Juice",
          "Sandwich",
          "Tea",
          "Tea",
          "Smoothie",
          "Salad",
          "Cookie",
          "Cake",
          "Cookie",
          "Cake",
          "Sandwich",
          "Coffee",
          "Cookie",
          "Tea",
          "Salad",
          "Juice",
          "Juice",
          "Sandwich",
          "Coffee",
          "Cake",
          "Cookie",
          "Coffee",
          "Sandwich",
          "Sandwich",
          "Sandwich",
          "Cookie",
          "Tea",
          "Salad",
          "Smoothie",
          "Cake",
          "Sandwich",
          "Cake",
          "Cake",
          "Juice",
          "Cake",
          "Coffee",
          "Salad",
          "Salad",
          "Salad",
          "Cake",
          "Sandwich",
          "Juice",
          "Sandwich",
          "Tea",
          "Smoothie",
          "Smoothie",
          "Cake",
          "Cookie",
          "Juice",
          "Cookie",
          "Tea",
          "Salad",
          "Coffee",
          "Cake",
          "Juice",
          "Salad",
          "Tea",
          "Cookie",
          "Sandwich",
          "Juice",
          "Tea",
          "Cookie",
          "Tea",
          "Cookie",
          "Salad",
          "Coffee",
          "Smoothie",
          "Tea",
          "Cookie",
          "Juice",
          "Juice",
          "Cake",
          "Cookie",
          "Sandwich",
          "Juice",
          "Tea",
          "Tea",
          "Sandwich",
          "Tea",
          "Juice",
          "Salad",
          "Juice",
          "Coffee",
          "Coffee",
          "Coffee",
          "Sandwich",
          "Smoothie",
          "Smoothie",
          "Juice",
          "Salad",
          "Cookie",
          "Smoothie",
          "Salad",
          "Cookie",
          "Salad",
          "Cake",
          "Sandwich",
          "Tea",
          "Tea",
          "Salad",
          "Juice",
          "Juice",
          "Salad",
          "Juice",
          "Cake",
          "Sandwich",
          "Coffee",
          "Cake",
          "Salad",
          "Coffee",
          "Sandwich",
          "Juice",
          "Cake",
          "Cake",
          "Smoothie",
          "Cake",
          "Cookie",
          "Coffee",
          "Cookie",
          "Cookie",
          "Cake",
          "Tea",
          "Cookie",
          "Sandwich",
          "Salad",
          "Juice",
          "Cookie",
          "Tea",
          "Juice",
          "Coffee",
          "Cookie",
          "Coffee",
          "Salad",
          "Juice",
          "Cake",
          "Salad",
          "Juice",
          "Cake",
          "Cake",
          "Coffee",
          "Smoothie",
          "Tea",
          "Cake",
          "Coffee",
          "Cookie",
          "Cookie",
          "Cake",
          "Salad",
          "Cake",
          "Cake",
          "Cake",
          "Sandwich",
          "Cookie",
          "Juice",
          "Coffee",
          "Tea",
          "Smoothie",
          "Tea",
          "Sandwich",
          "Coffee",
          "Tea",
          "Coffee",
          "Smoothie",
          "Sandwich",
          "Sandwich",
          "Cookie",
          "Cake",
          "Salad",
          "Cake",
          "Juice",
          "Cookie",
          "Coffee",
          "Cookie",
          "Cake",
          "Cake",
          "Salad",
          "Juice",
          "Coffee",
          "Smoothie",
          "Juice",
          "Cookie",
          "Juice",
          "Juice",
          "Juice",
          "Cookie",
          "Cake",
          "Sandwich",
          "Sandwich",
          "Cookie",
          "Cookie",
          "Coffee",
          "Coffee",
          "Juice",
          "Smoothie",
          "Cookie",
          "Sandwich",
          "Cake",
          "Juice",
          "Juice",
          "Cake",
          "Salad",
          "Cake",
          "Sandwich",
          "Tea",
          "Juice",
          "Tea",
          "Cookie",
          "Tea",
          "Cookie",
          "Cookie",
          "Juice",
          "Coffee",
          "Smoothie",
          "Juice",
          "Smoothie",
          "Cake",
          "Cake",
          "Coffee",
          "Coffee",
          "Tea",
          "Coffee",
          "Coffee",
          "Smoothie",
          "Salad",
          "Salad",
          "Smoothie",
          "Salad",
          "Cake",
          "Cookie",
          "Cookie",
          "Coffee",
          "Sandwich",
          "Juice",
          "Smoothie",
          "Juice",
          "Juice",
          "Sandwich",
          "Tea",
          "Tea",
          "Smoothie",
          "Cake",
          "Smoothie",
          "Cookie",
          "Sandwich",
          "Sandwich",
          "Tea",
          "Juice",
          "Tea",
          "Sandwich",
          "Tea",
          "Cake",
          "Sandwich",
          "Juice",
          "Tea",
          "Cookie",
          "Cookie",
          "Cake",
          "Salad",
          "Cookie",
          "Coffee",
          "Smoothie",
          "Sandwich",
          "Salad",
          "Juice",
          "Cookie",
          "Cookie",
          "Smoothie",
          "Sandwich",
          "Tea",
          "Tea",
          "Coffee",
          "Smoothie",
          "Smoothie",
          "Juice",
          "Salad",
          "Sandwich",
          "Coffee",
          "Tea",
          "Salad",
          "Tea",
          "Coffee",
          "Cake",
          "Salad",
          "Salad",
          "Cookie",
          "Cake",
          "Smoothie",
          "Smoothie",
          "Sandwich",
          "Sandwich",
          "Coffee",
          "Sandwich",
          "Cookie",
          "Coffee",
          "Coffee",
          "Smoothie",
          "Tea",
          "Cookie",
          "Salad",
          "Sandwich",
          "Coffee",
          "Juice",
          "Coffee",
          "Juice",
          "Cake",
          "Juice",
          "Salad",
          "Sandwich",
          "Tea",
          "Cake",
          "Cake",
          "Juice",
          "Tea",
          "Sandwich",
          "Salad",
          "Cake",
          "Cake",
          "Smoothie",
          "Tea",
          "Coffee",
          "Tea",
          "Juice",
          "Cake",
          "Sandwich",
          "Salad",
          "Tea",
          "Smoothie",
          "Sandwich",
          "Sandwich",
          "Cake",
          "Tea",
          "Cake",
          "Juice",
          "Juice",
          "Coffee",
          "Juice",
          "Juice",
          "Smoothie",
          "Cookie",
          "Tea",
          "Coffee",
          "Sandwich",
          "Salad",
          "Tea",
          "Smoothie",
          "Juice",
          "Salad",
          "Cake",
          "Coffee",
          "Smoothie",
          "Cookie",
          "Coffee",
          "Cookie",
          "Smoothie",
          "Smoothie",
          "Sandwich",
          "Coffee",
          "Sandwich",
          "Coffee",
          "Salad",
          "Sandwich",
          "Cookie",
          "Cake",
          "Sandwich",
          "Cake",
          "Cookie",
          "Juice",
          "Cookie",
          "Coffee",
          "Salad",
          "Cake",
          "Juice",
          "Juice",
          "Salad",
          "Cookie",
          "Smoothie",
          "Tea",
          "Salad",
          "Juice",
          "Coffee",
          "Salad",
          "Smoothie",
          "Juice",
          "Cookie",
          "Coffee",
          "Salad",
          "Smoothie",
          "Sandwich",
          "Smoothie",
          "Sandwich",
          "Smoothie",
          "Juice",
          "Juice",
          "Cake",
          "Cookie",
          "Tea",
          "Juice",
          "Tea",
          "Cookie",
          "Sandwich",
          "Salad",
          "Salad",
          "Cake",
          "Sandwich",
          "Coffee",
          "Juice",
          "Juice",
          "Sandwich",
          "Cake",
          "Sandwich",
          "Sandwich",
          "Juice",
          "Tea",
          "Juice",
          "Tea",
          "Sandwich",
          "Tea",
          "Sandwich",
          "Salad",
          "Cookie",
          "Cake",
          "Tea",
          "Juice",
          "Cookie",
          "Coffee",
          "Salad",
          "Smoothie",
          "Smoothie",
          "Juice",
          "Juice",
          "Juice",
          "Sandwich",
          "Sandwich",
          "Smoothie",
          "Salad",
          "Juice",
          "Coffee",
          "Sandwich",
          "Cake",
          "Coffee",
          "Juice",
          "Salad",
          "Cake",
          "Cookie",
          "Cookie",
          "Coffee",
          "Sandwich",
          "Cake",
          "Cookie",
          "Cookie",
          "Juice",
          "Sandwich",
          "Sandwich",
          "Smoothie",
          "Juice",
          "Smoothie",
          "Tea",
          "Coffee",
          "Salad",
          "Juice",
          "Salad",
          "Cookie",
          "Salad",
          "Tea",
          "Salad",
          "Cookie",
          "Cake",
          "Smoothie",
          "Cookie",
          "Juice",
          "Cake",
          "Tea",
          "Coffee",
          "Cake",
          "Coffee",
          "Cake",
          "Cookie",
          "Juice",
          "Coffee",
          "Salad",
          "Salad",
          "Smoothie",
          "Cake",
          "Tea",
          "Smoothie",
          "Cake",
          "Smoothie",
          "Juice",
          "Coffee",
          "Cookie",
          "Smoothie",
          "Juice",
          "Smoothie",
          "Cookie",
          "Coffee",
          "Cake",
          "Cake",
          "Juice",
          "Salad",
          "Juice",
          "Cake",
          "Tea",
          "Salad",
          "Sandwich",
          "Coffee",
          "Juice",
          "Tea",
          "Salad",
          "Sandwich",
          "Juice",
          "Juice",
          "Sandwich",
          "Cookie",
          "Cookie",
          "Juice",
          "Coffee",
          "Coffee",
          "Juice",
          "Smoothie",
          "Juice",
          "Salad",
          "Salad",
          "Sandwich",
          "Sandwich",
          "Smoothie",
          "Sandwich",
          "Juice",
          "Juice",
          "Sandwich",
          "Cake",
          "Tea",
          "Tea",
          "Cake",
          "Salad",
          "Tea",
          "Salad",
          "Cookie",
          "Cookie",
          "Tea",
          "Tea",
          "Sandwich",
          "Juice",
          "Tea",
          "Cookie",
          "Sandwich",
          "Smoothie",
          "Salad",
          "Juice",
          "Tea",
          "Cookie",
          "Juice",
          "Sandwich",
          "Tea",
          "Cake",
          "Smoothie",
          "Tea",
          "Coffee",
          "Salad",
          "Cake",
          "Coffee",
          "Sandwich",
          "Juice",
          "Juice",
          "Juice",
          "Cake",
          "Coffee",
          "Cookie",
          "Cake",
          "Cake",
          "Coffee",
          "Juice",
          "Juice",
          "Tea",
          "Coffee",
          "Cookie",
          "Sandwich",
          "Tea",
          "Cookie",
          "Sandwich",
          "Tea",
          "Cake",
          "Sandwich",
          "Juice",
          "Coffee",
          "Juice",
          "Tea",
          "Smoothie",
          "Sandwich",
          "Cake",
          "Juice",
          "Cake",
          "Tea",
          "Sandwich",
          "Smoothie",
          "Coffee",
          "Sandwich",
          "Cookie",
          "Smoothie",
          "Sandwich",
          "Sandwich",
          "Sandwich",
          "Cake",
          "Cookie",
          "Tea",
          "Coffee",
          "Cake",
          "Sandwich",
          "Salad",
          "Cake",
          "Smoothie",
          "Tea",
          "Sandwich",
          "Smoothie",
          "Salad",
          "Tea",
          "Salad",
          "Juice",
          "Salad",
          "Sandwich",
          "Sandwich",
          "Cookie",
          "Smoothie",
          "Cookie",
          "Smoothie",
          "Smoothie",
          "Cookie",
          "Salad",
          "Sandwich",
          "Juice",
          "Salad",
          "Smoothie",
          "Smoothie",
          "Smoothie",
          "Cookie",
          "Tea",
          "Smoothie",
          "Juice",
          "Smoothie",
          "Cake",
          "Cake",
          "Smoothie",
          "Smoothie",
          "Cookie",
          "Sandwich",
          "Juice",
          "Coffee",
          "Smoothie",
          "Juice",
          "Salad",
          "Sandwich",
          "Smoothie",
          "Cookie",
          "Smoothie",
          "Tea",
          "Tea",
          "Salad",
          "Smoothie",
          "Coffee",
          "Sandwich",
          "Salad",
          "Cookie",
          "Coffee",
          "Sandwich",
          "Sandwich",
          "Juice",
          "Cookie",
          "Coffee",
          "Cake",
          "Coffee",
          "Cookie",
          "Cookie",
          "Cookie",
          "Cake",
          "Cake",
          "Salad",
          "Smoothie",
          "Tea",
          "Tea",
          "Cake",
          "Sandwich",
          "Smoothie",
          "Cake",
          "Cake",
          "Salad",
          "Salad",
          "Juice",
          "Coffee",
          "Cookie",
          "Cake",
          "Salad",
          "Coffee",
          "Tea",
          "Juice",
          "Salad",
          "Cookie",
          "Smoothie",
          "Salad",
          "Coffee",
          "Juice",
          "Coffee",
          "Coffee",
          "Coffee",
          "Cookie",
          "Cake",
          "Sandwich",
          "Tea",
          "Coffee",
          "Smoothie",
          "Juice",
          "Cookie",
          "Sandwich",
          "Salad",
          "Cake",
          "Juice",
          "Cake",
          "Salad",
          "Juice",
          "Juice",
          "Juice",
          "Coffee",
          "Cookie",
          "Salad",
          "Juice",
          "Sandwich",
          "Tea",
          "Smoothie",
          "Juice",
          "Cookie",
          "Juice",
          "Cookie",
          "Tea",
          "Tea",
          "Cookie",
          "Cookie",
          "Sandwich",
          "Coffee",
          "Tea",
          "Tea",
          "Smoothie",
          "Tea",
          "Coffee",
          "Juice",
          "Salad",
          "Sandwich",
          "Juice",
          "Sandwich",
          "Salad",
          "Juice",
          "Cake",
          "Cake",
          "Tea",
          "Tea",
          "Coffee",
          "Cake",
          "Cookie",
          "Juice",
          "Sandwich",
          "Juice",
          "Coffee",
          "Coffee",
          "Cake",
          "Juice",
          "Cookie",
          "Salad",
          "Smoothie",
          "Salad",
          "Cake",
          "Cake",
          "Cookie",
          "Sandwich",
          "Salad",
          "Juice",
          "Sandwich",
          "Smoothie",
          "Cake",
          "Juice",
          "Coffee",
          "Cake",
          "Coffee",
          "Juice",
          "Sandwich",
          "Cookie",
          "Tea",
          "Juice",
          "Smoothie",
          "Tea",
          "Smoothie",
          "Juice",
          "Salad",
          "Coffee",
          "Tea",
          "Juice",
          "Cookie",
          "Sandwich",
          "Smoothie",
          "Juice",
          "Juice",
          "Tea",
          "Tea",
          "Coffee",
          "Juice",
          "Salad",
          "Juice",
          "Cake",
          "Salad",
          "Smoothie",
          "Salad",
          "Juice",
          "Cookie",
          "Tea",
          "Tea",
          "Juice",
          "Smoothie",
          "Salad",
          "Coffee",
          "Tea",
          "Smoothie",
          "Cake",
          "Sandwich",
          "Sandwich",
          "Juice",
          "Cake",
          "Cake",
          "Salad",
          "Juice",
          "Sandwich",
          "Juice",
          "Coffee",
          "Cookie",
          "Cake",
          "Coffee",
          "Sandwich",
          "Tea",
          "Sandwich",
          "Juice",
          "Smoothie",
          "Coffee",
          "Juice",
          "Juice",
          "Cookie",
          "Salad",
          "Sandwich",
          "Juice",
          "Salad",
          "Juice",
          "Salad",
          "Sandwich",
          "Cookie",
          "Juice",
          "Cake",
          "Cake",
          "Sandwich",
          "Smoothie",
          "Tea",
          "Tea",
          "Tea",
          "Sandwich",
          "Juice",
          "Smoothie",
          "Salad",
          "Cake",
          "Salad",
          "Cookie",
          "Cake",
          "Salad",
          "Tea",
          "Sandwich",
          "Smoothie",
          "Coffee",
          "Coffee",
          "Coffee",
          "Sandwich",
          "Salad",
          "Juice",
          "Smoothie",
          "Sandwich",
          "Sandwich",
          "Sandwich",
          "Tea",
          "Juice",
          "Cookie",
          "Coffee",
          "Tea",
          "Cake",
          "Coffee",
          "Juice",
          "Sandwich",
          "Juice",
          "Juice",
          "Cookie",
          "Smoothie",
          "Cake",
          "Tea",
          "Tea",
          "Sandwich",
          "Coffee",
          "Cookie",
          "Sandwich",
          "Salad",
          "Salad",
          "Smoothie",
          "Cake",
          "Juice",
          "Smoothie",
          "Coffee",
          "Cookie",
          "Sandwich",
          "Cookie",
          "Smoothie",
          "Sandwich",
          "Smoothie",
          "Smoothie",
          "Coffee",
          "Juice",
          "Salad",
          "Juice",
          "Tea",
          "Sandwich",
          "Smoothie",
          "Juice",
          "Coffee",
          "Coffee",
          "Juice",
          "Cookie",
          "Tea",
          "Cake",
          "Cake",
          "Coffee",
          "Juice",
          "Tea",
          "Sandwich",
          "Cake",
          "Coffee",
          "Smoothie",
          "Cookie",
          "Salad",
          "Tea",
          "Salad",
          "Tea",
          "Tea",
          "Sandwich",
          "Tea",
          "Cookie",
          "Cookie",
          "Coffee",
          "Tea",
          "Salad",
          "Juice",
          "Cake",
          "Tea",
          "Coffee",
          "Salad",
          "Tea",
          "Tea",
          "Juice",
          "Juice",
          "Cookie",
          "Sandwich",
          "Salad",
          "Smoothie",
          "Coffee",
          "Tea",
          "Cake",
          "Cake",
          "Salad",
          "Coffee",
          "Tea",
          "Salad",
          "Juice",
          "Coffee",
          "Smoothie",
          "Coffee",
          "Cake",
          "Smoothie",
          "Juice",
          "Smoothie",
          "Tea",
          "Juice",
          "Salad",
          "Cake",
          "Cake",
          "Cookie",
          "Tea",
          "Coffee",
          "Smoothie",
          "Cookie",
          "Tea",
          "Salad",
          "Sandwich",
          "Sandwich",
          "Coffee",
          "Tea",
          "Cake",
          "Coffee",
          "Coffee",
          "Salad",
          "Tea",
          "Juice",
          "Salad",
          "Smoothie",
          "Juice",
          "Smoothie",
          "Salad",
          "Cake",
          "Coffee",
          "Coffee",
          "Juice",
          "Cookie",
          "Tea",
          "Coffee",
          "Cake",
          "Coffee",
          "Salad",
          "Cookie",
          "Salad",
          "Coffee",
          "Cookie",
          "Sandwich",
          "Salad",
          "Cake",
          "Salad",
          "Juice",
          "Tea",
          "Juice",
          "Juice",
          "Cookie",
          "Tea",
          "Coffee",
          "Sandwich",
          "Coffee",
          "Smoothie",
          "Salad",
          "Coffee",
          "Sandwich",
          "Salad",
          "Salad",
          "Salad",
          "Salad",
          "Sandwich",
          "Coffee",
          "Sandwich",
          "Juice",
          "Cookie",
          "Salad",
          "Cookie",
          "Cookie",
          "Sandwich",
          "Tea",
          "Smoothie",
          "Juice",
          "Coffee",
          "Sandwich",
          "Cookie",
          "Salad",
          "Coffee",
          "Juice",
          "Tea",
          "Cake",
          "Juice",
          "Cookie",
          "Juice",
          "Smoothie",
          "Salad",
          "Cookie",
          "Cake",
          "Cookie",
          "Sandwich",
          "Smoothie",
          "Cake",
          "Juice",
          "Coffee",
          "Cake",
          "Cake",
          "Tea",
          "Juice",
          "Cookie",
          "Tea",
          "Tea",
          "Coffee",
          "Salad",
          "Smoothie",
          "Tea",
          "Salad",
          "Tea",
          "Tea",
          "Smoothie",
          "Cookie",
          "Sandwich",
          "Juice",
          "Juice",
          "Salad",
          "Smoothie",
          "Cookie",
          "Sandwich",
          "Salad",
          "Cake",
          "Coffee",
          "Cake",
          "Salad",
          "Coffee",
          "Coffee",
          "Smoothie",
          "Juice",
          "Salad",
          "Salad",
          "Sandwich",
          "Salad",
          "Tea",
          "Smoothie",
          "Cake",
          "Juice",
          "Coffee",
          "Sandwich",
          "Cookie",
          "Juice",
          "Cookie",
          "Juice",
          "Coffee",
          "Smoothie",
          "Salad",
          "Smoothie",
          "Cookie",
          "Smoothie",
          "Sandwich",
          "Juice",
          "Cookie",
          "Tea",
          "Salad",
          "Coffee",
          "Cookie",
          "Tea",
          "Sandwich",
          "Juice",
          "Tea",
          "Cookie",
          "Cookie",
          "Sandwich",
          "Cake",
          "Salad",
          "Coffee",
          "Salad",
          "Smoothie",
          "Sandwich",
          "Juice",
          "Sandwich",
          "Salad",
          "Cookie",
          "Juice",
          "Salad",
          "Sandwich",
          "Tea",
          "Sandwich",
          "Cookie",
          "Salad",
          "Cookie",
          "Juice",
          "Cake",
          "Juice",
          "Cookie",
          "Tea",
          "Juice",
          "Coffee",
          "Salad",
          "Smoothie",
          "Tea",
          "Smoothie",
          "Cookie",
          "Salad",
          "Salad",
          "Sandwich",
          "Coffee",
          "Cake",
          "Juice",
          "Juice",
          "Smoothie",
          "Juice",
          "Cookie",
          "Tea",
          "Cookie",
          "Salad",
          "Tea",
          "Cake",
          "Cookie",
          "Tea",
          "Tea",
          "Sandwich",
          "Tea",
          "Smoothie",
          "Smoothie",
          "Juice",
          "Smoothie",
          "Tea",
          "Cake",
          "Smoothie",
          "Coffee",
          "Cake",
          "Salad",
          "Salad",
          "Coffee",
          "Tea",
          "Coffee",
          "Smoothie",
          "Tea",
          "Tea",
          "Salad",
          "Tea",
          "Cookie",
          "Coffee",
          "Salad",
          "Salad",
          "Tea",
          "Sandwich",
          "Juice",
          "Juice",
          "Tea",
          "Juice",
          "Cake",
          "Tea",
          "Smoothie",
          "Salad",
          "Salad",
          "Coffee",
          "Juice",
          "Juice",
          "Juice",
          "Coffee",
          "Coffee",
          "Juice",
          "Juice",
          "Tea",
          "Tea",
          "Salad",
          "Cake",
          "Salad",
          "Sandwich",
          "Smoothie",
          "Smoothie",
          "Salad",
          "Cookie",
          "Cake",
          "Cake",
          "Juice",
          "Tea",
          "Cookie",
          "Sandwich",
          "Tea",
          "Cookie",
          "Coffee",
          "Cake",
          "Juice",
          "Sandwich",
          "Juice",
          "Cookie",
          "Tea",
          "Salad",
          "Cookie",
          "Juice",
          "Sandwich",
          "Salad",
          "Salad",
          "Cake",
          "Sandwich",
          "Juice",
          "Salad",
          "Sandwich",
          "Juice",
          "Cake",
          "Sandwich",
          "Cookie",
          "Sandwich",
          "Coffee",
          "Sandwich",
          "Juice",
          "Salad",
          "Cookie",
          "Tea",
          "Cake",
          "Cake",
          "Coffee",
          "Salad",
          "Tea",
          "Smoothie",
          "Salad",
          "Sandwich",
          "Coffee",
          "Salad",
          "Tea",
          "Salad",
          "Smoothie",
          "Smoothie",
          "Cake",
          "Tea",
          "Smoothie",
          "Salad",
          "Juice",
          "Cookie",
          "Sandwich",
          "Juice",
          "Cake",
          "Sandwich",
          "Cookie",
          "Cake",
          "Coffee",
          "Salad",
          "Juice",
          "Smoothie",
          "Juice",
          "Tea",
          "Cookie",
          "Salad",
          "Tea",
          "Salad",
          "Cookie",
          "Juice",
          "Juice",
          "Cookie",
          "Tea",
          "Cake",
          "Tea",
          "Smoothie",
          "Sandwich",
          "Cake",
          "Coffee",
          "Salad",
          "Smoothie",
          "Smoothie",
          "Salad",
          "Juice",
          "Salad",
          "Coffee",
          "Cookie",
          "Smoothie",
          "Cake",
          "Juice",
          "Sandwich",
          "Smoothie",
          "Coffee",
          "Sandwich",
          "Salad",
          "Tea",
          "Cake",
          "Smoothie",
          "Sandwich",
          "Sandwich",
          "Sandwich"
         ],
         "legendgroup": "",
         "name": "",
         "showlegend": true,
         "type": "pie"
        }
       ],
       "layout": {
        "legend": {
         "tracegroupgap": 0
        },
        "margin": {
         "t": 60
        },
        "template": {
         "data": {
          "bar": [
           {
            "error_x": {
             "color": "#2a3f5f"
            },
            "error_y": {
             "color": "#2a3f5f"
            },
            "marker": {
             "line": {
              "color": "#E5ECF6",
              "width": 0.5
             },
             "pattern": {
              "fillmode": "overlay",
              "size": 10,
              "solidity": 0.2
             }
            },
            "type": "bar"
           }
          ],
          "barpolar": [
           {
            "marker": {
             "line": {
              "color": "#E5ECF6",
              "width": 0.5
             },
             "pattern": {
              "fillmode": "overlay",
              "size": 10,
              "solidity": 0.2
             }
            },
            "type": "barpolar"
           }
          ],
          "carpet": [
           {
            "aaxis": {
             "endlinecolor": "#2a3f5f",
             "gridcolor": "white",
             "linecolor": "white",
             "minorgridcolor": "white",
             "startlinecolor": "#2a3f5f"
            },
            "baxis": {
             "endlinecolor": "#2a3f5f",
             "gridcolor": "white",
             "linecolor": "white",
             "minorgridcolor": "white",
             "startlinecolor": "#2a3f5f"
            },
            "type": "carpet"
           }
          ],
          "choropleth": [
           {
            "colorbar": {
             "outlinewidth": 0,
             "ticks": ""
            },
            "type": "choropleth"
           }
          ],
          "contour": [
           {
            "colorbar": {
             "outlinewidth": 0,
             "ticks": ""
            },
            "colorscale": [
             [
              0,
              "#0d0887"
             ],
             [
              0.1111111111111111,
              "#46039f"
             ],
             [
              0.2222222222222222,
              "#7201a8"
             ],
             [
              0.3333333333333333,
              "#9c179e"
             ],
             [
              0.4444444444444444,
              "#bd3786"
             ],
             [
              0.5555555555555556,
              "#d8576b"
             ],
             [
              0.6666666666666666,
              "#ed7953"
             ],
             [
              0.7777777777777778,
              "#fb9f3a"
             ],
             [
              0.8888888888888888,
              "#fdca26"
             ],
             [
              1,
              "#f0f921"
             ]
            ],
            "type": "contour"
           }
          ],
          "contourcarpet": [
           {
            "colorbar": {
             "outlinewidth": 0,
             "ticks": ""
            },
            "type": "contourcarpet"
           }
          ],
          "heatmap": [
           {
            "colorbar": {
             "outlinewidth": 0,
             "ticks": ""
            },
            "colorscale": [
             [
              0,
              "#0d0887"
             ],
             [
              0.1111111111111111,
              "#46039f"
             ],
             [
              0.2222222222222222,
              "#7201a8"
             ],
             [
              0.3333333333333333,
              "#9c179e"
             ],
             [
              0.4444444444444444,
              "#bd3786"
             ],
             [
              0.5555555555555556,
              "#d8576b"
             ],
             [
              0.6666666666666666,
              "#ed7953"
             ],
             [
              0.7777777777777778,
              "#fb9f3a"
             ],
             [
              0.8888888888888888,
              "#fdca26"
             ],
             [
              1,
              "#f0f921"
             ]
            ],
            "type": "heatmap"
           }
          ],
          "heatmapgl": [
           {
            "colorbar": {
             "outlinewidth": 0,
             "ticks": ""
            },
            "colorscale": [
             [
              0,
              "#0d0887"
             ],
             [
              0.1111111111111111,
              "#46039f"
             ],
             [
              0.2222222222222222,
              "#7201a8"
             ],
             [
              0.3333333333333333,
              "#9c179e"
             ],
             [
              0.4444444444444444,
              "#bd3786"
             ],
             [
              0.5555555555555556,
              "#d8576b"
             ],
             [
              0.6666666666666666,
              "#ed7953"
             ],
             [
              0.7777777777777778,
              "#fb9f3a"
             ],
             [
              0.8888888888888888,
              "#fdca26"
             ],
             [
              1,
              "#f0f921"
             ]
            ],
            "type": "heatmapgl"
           }
          ],
          "histogram": [
           {
            "marker": {
             "pattern": {
              "fillmode": "overlay",
              "size": 10,
              "solidity": 0.2
             }
            },
            "type": "histogram"
           }
          ],
          "histogram2d": [
           {
            "colorbar": {
             "outlinewidth": 0,
             "ticks": ""
            },
            "colorscale": [
             [
              0,
              "#0d0887"
             ],
             [
              0.1111111111111111,
              "#46039f"
             ],
             [
              0.2222222222222222,
              "#7201a8"
             ],
             [
              0.3333333333333333,
              "#9c179e"
             ],
             [
              0.4444444444444444,
              "#bd3786"
             ],
             [
              0.5555555555555556,
              "#d8576b"
             ],
             [
              0.6666666666666666,
              "#ed7953"
             ],
             [
              0.7777777777777778,
              "#fb9f3a"
             ],
             [
              0.8888888888888888,
              "#fdca26"
             ],
             [
              1,
              "#f0f921"
             ]
            ],
            "type": "histogram2d"
           }
          ],
          "histogram2dcontour": [
           {
            "colorbar": {
             "outlinewidth": 0,
             "ticks": ""
            },
            "colorscale": [
             [
              0,
              "#0d0887"
             ],
             [
              0.1111111111111111,
              "#46039f"
             ],
             [
              0.2222222222222222,
              "#7201a8"
             ],
             [
              0.3333333333333333,
              "#9c179e"
             ],
             [
              0.4444444444444444,
              "#bd3786"
             ],
             [
              0.5555555555555556,
              "#d8576b"
             ],
             [
              0.6666666666666666,
              "#ed7953"
             ],
             [
              0.7777777777777778,
              "#fb9f3a"
             ],
             [
              0.8888888888888888,
              "#fdca26"
             ],
             [
              1,
              "#f0f921"
             ]
            ],
            "type": "histogram2dcontour"
           }
          ],
          "mesh3d": [
           {
            "colorbar": {
             "outlinewidth": 0,
             "ticks": ""
            },
            "type": "mesh3d"
           }
          ],
          "parcoords": [
           {
            "line": {
             "colorbar": {
              "outlinewidth": 0,
              "ticks": ""
             }
            },
            "type": "parcoords"
           }
          ],
          "pie": [
           {
            "automargin": true,
            "type": "pie"
           }
          ],
          "scatter": [
           {
            "fillpattern": {
             "fillmode": "overlay",
             "size": 10,
             "solidity": 0.2
            },
            "type": "scatter"
           }
          ],
          "scatter3d": [
           {
            "line": {
             "colorbar": {
              "outlinewidth": 0,
              "ticks": ""
             }
            },
            "marker": {
             "colorbar": {
              "outlinewidth": 0,
              "ticks": ""
             }
            },
            "type": "scatter3d"
           }
          ],
          "scattercarpet": [
           {
            "marker": {
             "colorbar": {
              "outlinewidth": 0,
              "ticks": ""
             }
            },
            "type": "scattercarpet"
           }
          ],
          "scattergeo": [
           {
            "marker": {
             "colorbar": {
              "outlinewidth": 0,
              "ticks": ""
             }
            },
            "type": "scattergeo"
           }
          ],
          "scattergl": [
           {
            "marker": {
             "colorbar": {
              "outlinewidth": 0,
              "ticks": ""
             }
            },
            "type": "scattergl"
           }
          ],
          "scattermapbox": [
           {
            "marker": {
             "colorbar": {
              "outlinewidth": 0,
              "ticks": ""
             }
            },
            "type": "scattermapbox"
           }
          ],
          "scatterpolar": [
           {
            "marker": {
             "colorbar": {
              "outlinewidth": 0,
              "ticks": ""
             }
            },
            "type": "scatterpolar"
           }
          ],
          "scatterpolargl": [
           {
            "marker": {
             "colorbar": {
              "outlinewidth": 0,
              "ticks": ""
             }
            },
            "type": "scatterpolargl"
           }
          ],
          "scatterternary": [
           {
            "marker": {
             "colorbar": {
              "outlinewidth": 0,
              "ticks": ""
             }
            },
            "type": "scatterternary"
           }
          ],
          "surface": [
           {
            "colorbar": {
             "outlinewidth": 0,
             "ticks": ""
            },
            "colorscale": [
             [
              0,
              "#0d0887"
             ],
             [
              0.1111111111111111,
              "#46039f"
             ],
             [
              0.2222222222222222,
              "#7201a8"
             ],
             [
              0.3333333333333333,
              "#9c179e"
             ],
             [
              0.4444444444444444,
              "#bd3786"
             ],
             [
              0.5555555555555556,
              "#d8576b"
             ],
             [
              0.6666666666666666,
              "#ed7953"
             ],
             [
              0.7777777777777778,
              "#fb9f3a"
             ],
             [
              0.8888888888888888,
              "#fdca26"
             ],
             [
              1,
              "#f0f921"
             ]
            ],
            "type": "surface"
           }
          ],
          "table": [
           {
            "cells": {
             "fill": {
              "color": "#EBF0F8"
             },
             "line": {
              "color": "white"
             }
            },
            "header": {
             "fill": {
              "color": "#C8D4E3"
             },
             "line": {
              "color": "white"
             }
            },
            "type": "table"
           }
          ]
         },
         "layout": {
          "annotationdefaults": {
           "arrowcolor": "#2a3f5f",
           "arrowhead": 0,
           "arrowwidth": 1
          },
          "autotypenumbers": "strict",
          "coloraxis": {
           "colorbar": {
            "outlinewidth": 0,
            "ticks": ""
           }
          },
          "colorscale": {
           "diverging": [
            [
             0,
             "#8e0152"
            ],
            [
             0.1,
             "#c51b7d"
            ],
            [
             0.2,
             "#de77ae"
            ],
            [
             0.3,
             "#f1b6da"
            ],
            [
             0.4,
             "#fde0ef"
            ],
            [
             0.5,
             "#f7f7f7"
            ],
            [
             0.6,
             "#e6f5d0"
            ],
            [
             0.7,
             "#b8e186"
            ],
            [
             0.8,
             "#7fbc41"
            ],
            [
             0.9,
             "#4d9221"
            ],
            [
             1,
             "#276419"
            ]
           ],
           "sequential": [
            [
             0,
             "#0d0887"
            ],
            [
             0.1111111111111111,
             "#46039f"
            ],
            [
             0.2222222222222222,
             "#7201a8"
            ],
            [
             0.3333333333333333,
             "#9c179e"
            ],
            [
             0.4444444444444444,
             "#bd3786"
            ],
            [
             0.5555555555555556,
             "#d8576b"
            ],
            [
             0.6666666666666666,
             "#ed7953"
            ],
            [
             0.7777777777777778,
             "#fb9f3a"
            ],
            [
             0.8888888888888888,
             "#fdca26"
            ],
            [
             1,
             "#f0f921"
            ]
           ],
           "sequentialminus": [
            [
             0,
             "#0d0887"
            ],
            [
             0.1111111111111111,
             "#46039f"
            ],
            [
             0.2222222222222222,
             "#7201a8"
            ],
            [
             0.3333333333333333,
             "#9c179e"
            ],
            [
             0.4444444444444444,
             "#bd3786"
            ],
            [
             0.5555555555555556,
             "#d8576b"
            ],
            [
             0.6666666666666666,
             "#ed7953"
            ],
            [
             0.7777777777777778,
             "#fb9f3a"
            ],
            [
             0.8888888888888888,
             "#fdca26"
            ],
            [
             1,
             "#f0f921"
            ]
           ]
          },
          "colorway": [
           "#636efa",
           "#EF553B",
           "#00cc96",
           "#ab63fa",
           "#FFA15A",
           "#19d3f3",
           "#FF6692",
           "#B6E880",
           "#FF97FF",
           "#FECB52"
          ],
          "font": {
           "color": "#2a3f5f"
          },
          "geo": {
           "bgcolor": "white",
           "lakecolor": "white",
           "landcolor": "#E5ECF6",
           "showlakes": true,
           "showland": true,
           "subunitcolor": "white"
          },
          "hoverlabel": {
           "align": "left"
          },
          "hovermode": "closest",
          "mapbox": {
           "style": "light"
          },
          "paper_bgcolor": "white",
          "plot_bgcolor": "#E5ECF6",
          "polar": {
           "angularaxis": {
            "gridcolor": "white",
            "linecolor": "white",
            "ticks": ""
           },
           "bgcolor": "#E5ECF6",
           "radialaxis": {
            "gridcolor": "white",
            "linecolor": "white",
            "ticks": ""
           }
          },
          "scene": {
           "xaxis": {
            "backgroundcolor": "#E5ECF6",
            "gridcolor": "white",
            "gridwidth": 2,
            "linecolor": "white",
            "showbackground": true,
            "ticks": "",
            "zerolinecolor": "white"
           },
           "yaxis": {
            "backgroundcolor": "#E5ECF6",
            "gridcolor": "white",
            "gridwidth": 2,
            "linecolor": "white",
            "showbackground": true,
            "ticks": "",
            "zerolinecolor": "white"
           },
           "zaxis": {
            "backgroundcolor": "#E5ECF6",
            "gridcolor": "white",
            "gridwidth": 2,
            "linecolor": "white",
            "showbackground": true,
            "ticks": "",
            "zerolinecolor": "white"
           }
          },
          "shapedefaults": {
           "line": {
            "color": "#2a3f5f"
           }
          },
          "ternary": {
           "aaxis": {
            "gridcolor": "white",
            "linecolor": "white",
            "ticks": ""
           },
           "baxis": {
            "gridcolor": "white",
            "linecolor": "white",
            "ticks": ""
           },
           "bgcolor": "#E5ECF6",
           "caxis": {
            "gridcolor": "white",
            "linecolor": "white",
            "ticks": ""
           }
          },
          "title": {
           "x": 0.05
          },
          "xaxis": {
           "automargin": true,
           "gridcolor": "white",
           "linecolor": "white",
           "ticks": "",
           "title": {
            "standoff": 15
           },
           "zerolinecolor": "white",
           "zerolinewidth": 2
          },
          "yaxis": {
           "automargin": true,
           "gridcolor": "white",
           "linecolor": "white",
           "ticks": "",
           "title": {
            "standoff": 15
           },
           "zerolinecolor": "white",
           "zerolinewidth": 2
          }
         }
        }
       }
      }
     },
     "metadata": {},
     "output_type": "display_data"
    }
   ],
   "source": [
    "\n",
    "px.pie(data_frame=ee,names=df[\"Item\"],)"
   ]
  },
  {
   "cell_type": "code",
   "execution_count": 148,
   "metadata": {},
   "outputs": [
    {
     "data": {
      "text/plain": [
       "Item\n",
       "Cake        1173.0\n",
       "Coffee      1121.0\n",
       "Cookie      1163.0\n",
       "Juice       1245.0\n",
       "Salad       1272.0\n",
       "Sandwich    1193.0\n",
       "Smoothie    1022.0\n",
       "Tea         1151.0\n",
       "Name: Quantity, dtype: float64"
      ]
     },
     "execution_count": 148,
     "metadata": {},
     "output_type": "execute_result"
    }
   ],
   "source": [
    "df.groupby(\"Item\")[\"Quantity\"].sum()"
   ]
  },
  {
   "cell_type": "code",
   "execution_count": 149,
   "metadata": {},
   "outputs": [
    {
     "data": {
      "application/vnd.plotly.v1+json": {
       "config": {
        "plotlyServerURL": "https://plot.ly"
       },
       "data": [
        {
         "hovertemplate": "variable=Quantity<br>Item=%{x}<br>value=%{y}<extra></extra>",
         "legendgroup": "Quantity",
         "line": {
          "color": "#636efa",
          "dash": "solid"
         },
         "marker": {
          "symbol": "circle"
         },
         "mode": "lines",
         "name": "Quantity",
         "orientation": "v",
         "showlegend": true,
         "type": "scatter",
         "x": [
          "Cake",
          "Coffee",
          "Cookie",
          "Juice",
          "Salad",
          "Sandwich",
          "Smoothie",
          "Tea"
         ],
         "xaxis": "x",
         "y": [
          1173,
          1121,
          1163,
          1245,
          1272,
          1193,
          1022,
          1151
         ],
         "yaxis": "y"
        }
       ],
       "layout": {
        "legend": {
         "title": {
          "text": "variable"
         },
         "tracegroupgap": 0
        },
        "margin": {
         "t": 60
        },
        "template": {
         "data": {
          "bar": [
           {
            "error_x": {
             "color": "#2a3f5f"
            },
            "error_y": {
             "color": "#2a3f5f"
            },
            "marker": {
             "line": {
              "color": "#E5ECF6",
              "width": 0.5
             },
             "pattern": {
              "fillmode": "overlay",
              "size": 10,
              "solidity": 0.2
             }
            },
            "type": "bar"
           }
          ],
          "barpolar": [
           {
            "marker": {
             "line": {
              "color": "#E5ECF6",
              "width": 0.5
             },
             "pattern": {
              "fillmode": "overlay",
              "size": 10,
              "solidity": 0.2
             }
            },
            "type": "barpolar"
           }
          ],
          "carpet": [
           {
            "aaxis": {
             "endlinecolor": "#2a3f5f",
             "gridcolor": "white",
             "linecolor": "white",
             "minorgridcolor": "white",
             "startlinecolor": "#2a3f5f"
            },
            "baxis": {
             "endlinecolor": "#2a3f5f",
             "gridcolor": "white",
             "linecolor": "white",
             "minorgridcolor": "white",
             "startlinecolor": "#2a3f5f"
            },
            "type": "carpet"
           }
          ],
          "choropleth": [
           {
            "colorbar": {
             "outlinewidth": 0,
             "ticks": ""
            },
            "type": "choropleth"
           }
          ],
          "contour": [
           {
            "colorbar": {
             "outlinewidth": 0,
             "ticks": ""
            },
            "colorscale": [
             [
              0,
              "#0d0887"
             ],
             [
              0.1111111111111111,
              "#46039f"
             ],
             [
              0.2222222222222222,
              "#7201a8"
             ],
             [
              0.3333333333333333,
              "#9c179e"
             ],
             [
              0.4444444444444444,
              "#bd3786"
             ],
             [
              0.5555555555555556,
              "#d8576b"
             ],
             [
              0.6666666666666666,
              "#ed7953"
             ],
             [
              0.7777777777777778,
              "#fb9f3a"
             ],
             [
              0.8888888888888888,
              "#fdca26"
             ],
             [
              1,
              "#f0f921"
             ]
            ],
            "type": "contour"
           }
          ],
          "contourcarpet": [
           {
            "colorbar": {
             "outlinewidth": 0,
             "ticks": ""
            },
            "type": "contourcarpet"
           }
          ],
          "heatmap": [
           {
            "colorbar": {
             "outlinewidth": 0,
             "ticks": ""
            },
            "colorscale": [
             [
              0,
              "#0d0887"
             ],
             [
              0.1111111111111111,
              "#46039f"
             ],
             [
              0.2222222222222222,
              "#7201a8"
             ],
             [
              0.3333333333333333,
              "#9c179e"
             ],
             [
              0.4444444444444444,
              "#bd3786"
             ],
             [
              0.5555555555555556,
              "#d8576b"
             ],
             [
              0.6666666666666666,
              "#ed7953"
             ],
             [
              0.7777777777777778,
              "#fb9f3a"
             ],
             [
              0.8888888888888888,
              "#fdca26"
             ],
             [
              1,
              "#f0f921"
             ]
            ],
            "type": "heatmap"
           }
          ],
          "heatmapgl": [
           {
            "colorbar": {
             "outlinewidth": 0,
             "ticks": ""
            },
            "colorscale": [
             [
              0,
              "#0d0887"
             ],
             [
              0.1111111111111111,
              "#46039f"
             ],
             [
              0.2222222222222222,
              "#7201a8"
             ],
             [
              0.3333333333333333,
              "#9c179e"
             ],
             [
              0.4444444444444444,
              "#bd3786"
             ],
             [
              0.5555555555555556,
              "#d8576b"
             ],
             [
              0.6666666666666666,
              "#ed7953"
             ],
             [
              0.7777777777777778,
              "#fb9f3a"
             ],
             [
              0.8888888888888888,
              "#fdca26"
             ],
             [
              1,
              "#f0f921"
             ]
            ],
            "type": "heatmapgl"
           }
          ],
          "histogram": [
           {
            "marker": {
             "pattern": {
              "fillmode": "overlay",
              "size": 10,
              "solidity": 0.2
             }
            },
            "type": "histogram"
           }
          ],
          "histogram2d": [
           {
            "colorbar": {
             "outlinewidth": 0,
             "ticks": ""
            },
            "colorscale": [
             [
              0,
              "#0d0887"
             ],
             [
              0.1111111111111111,
              "#46039f"
             ],
             [
              0.2222222222222222,
              "#7201a8"
             ],
             [
              0.3333333333333333,
              "#9c179e"
             ],
             [
              0.4444444444444444,
              "#bd3786"
             ],
             [
              0.5555555555555556,
              "#d8576b"
             ],
             [
              0.6666666666666666,
              "#ed7953"
             ],
             [
              0.7777777777777778,
              "#fb9f3a"
             ],
             [
              0.8888888888888888,
              "#fdca26"
             ],
             [
              1,
              "#f0f921"
             ]
            ],
            "type": "histogram2d"
           }
          ],
          "histogram2dcontour": [
           {
            "colorbar": {
             "outlinewidth": 0,
             "ticks": ""
            },
            "colorscale": [
             [
              0,
              "#0d0887"
             ],
             [
              0.1111111111111111,
              "#46039f"
             ],
             [
              0.2222222222222222,
              "#7201a8"
             ],
             [
              0.3333333333333333,
              "#9c179e"
             ],
             [
              0.4444444444444444,
              "#bd3786"
             ],
             [
              0.5555555555555556,
              "#d8576b"
             ],
             [
              0.6666666666666666,
              "#ed7953"
             ],
             [
              0.7777777777777778,
              "#fb9f3a"
             ],
             [
              0.8888888888888888,
              "#fdca26"
             ],
             [
              1,
              "#f0f921"
             ]
            ],
            "type": "histogram2dcontour"
           }
          ],
          "mesh3d": [
           {
            "colorbar": {
             "outlinewidth": 0,
             "ticks": ""
            },
            "type": "mesh3d"
           }
          ],
          "parcoords": [
           {
            "line": {
             "colorbar": {
              "outlinewidth": 0,
              "ticks": ""
             }
            },
            "type": "parcoords"
           }
          ],
          "pie": [
           {
            "automargin": true,
            "type": "pie"
           }
          ],
          "scatter": [
           {
            "fillpattern": {
             "fillmode": "overlay",
             "size": 10,
             "solidity": 0.2
            },
            "type": "scatter"
           }
          ],
          "scatter3d": [
           {
            "line": {
             "colorbar": {
              "outlinewidth": 0,
              "ticks": ""
             }
            },
            "marker": {
             "colorbar": {
              "outlinewidth": 0,
              "ticks": ""
             }
            },
            "type": "scatter3d"
           }
          ],
          "scattercarpet": [
           {
            "marker": {
             "colorbar": {
              "outlinewidth": 0,
              "ticks": ""
             }
            },
            "type": "scattercarpet"
           }
          ],
          "scattergeo": [
           {
            "marker": {
             "colorbar": {
              "outlinewidth": 0,
              "ticks": ""
             }
            },
            "type": "scattergeo"
           }
          ],
          "scattergl": [
           {
            "marker": {
             "colorbar": {
              "outlinewidth": 0,
              "ticks": ""
             }
            },
            "type": "scattergl"
           }
          ],
          "scattermapbox": [
           {
            "marker": {
             "colorbar": {
              "outlinewidth": 0,
              "ticks": ""
             }
            },
            "type": "scattermapbox"
           }
          ],
          "scatterpolar": [
           {
            "marker": {
             "colorbar": {
              "outlinewidth": 0,
              "ticks": ""
             }
            },
            "type": "scatterpolar"
           }
          ],
          "scatterpolargl": [
           {
            "marker": {
             "colorbar": {
              "outlinewidth": 0,
              "ticks": ""
             }
            },
            "type": "scatterpolargl"
           }
          ],
          "scatterternary": [
           {
            "marker": {
             "colorbar": {
              "outlinewidth": 0,
              "ticks": ""
             }
            },
            "type": "scatterternary"
           }
          ],
          "surface": [
           {
            "colorbar": {
             "outlinewidth": 0,
             "ticks": ""
            },
            "colorscale": [
             [
              0,
              "#0d0887"
             ],
             [
              0.1111111111111111,
              "#46039f"
             ],
             [
              0.2222222222222222,
              "#7201a8"
             ],
             [
              0.3333333333333333,
              "#9c179e"
             ],
             [
              0.4444444444444444,
              "#bd3786"
             ],
             [
              0.5555555555555556,
              "#d8576b"
             ],
             [
              0.6666666666666666,
              "#ed7953"
             ],
             [
              0.7777777777777778,
              "#fb9f3a"
             ],
             [
              0.8888888888888888,
              "#fdca26"
             ],
             [
              1,
              "#f0f921"
             ]
            ],
            "type": "surface"
           }
          ],
          "table": [
           {
            "cells": {
             "fill": {
              "color": "#EBF0F8"
             },
             "line": {
              "color": "white"
             }
            },
            "header": {
             "fill": {
              "color": "#C8D4E3"
             },
             "line": {
              "color": "white"
             }
            },
            "type": "table"
           }
          ]
         },
         "layout": {
          "annotationdefaults": {
           "arrowcolor": "#2a3f5f",
           "arrowhead": 0,
           "arrowwidth": 1
          },
          "autotypenumbers": "strict",
          "coloraxis": {
           "colorbar": {
            "outlinewidth": 0,
            "ticks": ""
           }
          },
          "colorscale": {
           "diverging": [
            [
             0,
             "#8e0152"
            ],
            [
             0.1,
             "#c51b7d"
            ],
            [
             0.2,
             "#de77ae"
            ],
            [
             0.3,
             "#f1b6da"
            ],
            [
             0.4,
             "#fde0ef"
            ],
            [
             0.5,
             "#f7f7f7"
            ],
            [
             0.6,
             "#e6f5d0"
            ],
            [
             0.7,
             "#b8e186"
            ],
            [
             0.8,
             "#7fbc41"
            ],
            [
             0.9,
             "#4d9221"
            ],
            [
             1,
             "#276419"
            ]
           ],
           "sequential": [
            [
             0,
             "#0d0887"
            ],
            [
             0.1111111111111111,
             "#46039f"
            ],
            [
             0.2222222222222222,
             "#7201a8"
            ],
            [
             0.3333333333333333,
             "#9c179e"
            ],
            [
             0.4444444444444444,
             "#bd3786"
            ],
            [
             0.5555555555555556,
             "#d8576b"
            ],
            [
             0.6666666666666666,
             "#ed7953"
            ],
            [
             0.7777777777777778,
             "#fb9f3a"
            ],
            [
             0.8888888888888888,
             "#fdca26"
            ],
            [
             1,
             "#f0f921"
            ]
           ],
           "sequentialminus": [
            [
             0,
             "#0d0887"
            ],
            [
             0.1111111111111111,
             "#46039f"
            ],
            [
             0.2222222222222222,
             "#7201a8"
            ],
            [
             0.3333333333333333,
             "#9c179e"
            ],
            [
             0.4444444444444444,
             "#bd3786"
            ],
            [
             0.5555555555555556,
             "#d8576b"
            ],
            [
             0.6666666666666666,
             "#ed7953"
            ],
            [
             0.7777777777777778,
             "#fb9f3a"
            ],
            [
             0.8888888888888888,
             "#fdca26"
            ],
            [
             1,
             "#f0f921"
            ]
           ]
          },
          "colorway": [
           "#636efa",
           "#EF553B",
           "#00cc96",
           "#ab63fa",
           "#FFA15A",
           "#19d3f3",
           "#FF6692",
           "#B6E880",
           "#FF97FF",
           "#FECB52"
          ],
          "font": {
           "color": "#2a3f5f"
          },
          "geo": {
           "bgcolor": "white",
           "lakecolor": "white",
           "landcolor": "#E5ECF6",
           "showlakes": true,
           "showland": true,
           "subunitcolor": "white"
          },
          "hoverlabel": {
           "align": "left"
          },
          "hovermode": "closest",
          "mapbox": {
           "style": "light"
          },
          "paper_bgcolor": "white",
          "plot_bgcolor": "#E5ECF6",
          "polar": {
           "angularaxis": {
            "gridcolor": "white",
            "linecolor": "white",
            "ticks": ""
           },
           "bgcolor": "#E5ECF6",
           "radialaxis": {
            "gridcolor": "white",
            "linecolor": "white",
            "ticks": ""
           }
          },
          "scene": {
           "xaxis": {
            "backgroundcolor": "#E5ECF6",
            "gridcolor": "white",
            "gridwidth": 2,
            "linecolor": "white",
            "showbackground": true,
            "ticks": "",
            "zerolinecolor": "white"
           },
           "yaxis": {
            "backgroundcolor": "#E5ECF6",
            "gridcolor": "white",
            "gridwidth": 2,
            "linecolor": "white",
            "showbackground": true,
            "ticks": "",
            "zerolinecolor": "white"
           },
           "zaxis": {
            "backgroundcolor": "#E5ECF6",
            "gridcolor": "white",
            "gridwidth": 2,
            "linecolor": "white",
            "showbackground": true,
            "ticks": "",
            "zerolinecolor": "white"
           }
          },
          "shapedefaults": {
           "line": {
            "color": "#2a3f5f"
           }
          },
          "ternary": {
           "aaxis": {
            "gridcolor": "white",
            "linecolor": "white",
            "ticks": ""
           },
           "baxis": {
            "gridcolor": "white",
            "linecolor": "white",
            "ticks": ""
           },
           "bgcolor": "#E5ECF6",
           "caxis": {
            "gridcolor": "white",
            "linecolor": "white",
            "ticks": ""
           }
          },
          "title": {
           "x": 0.05
          },
          "xaxis": {
           "automargin": true,
           "gridcolor": "white",
           "linecolor": "white",
           "ticks": "",
           "title": {
            "standoff": 15
           },
           "zerolinecolor": "white",
           "zerolinewidth": 2
          },
          "yaxis": {
           "automargin": true,
           "gridcolor": "white",
           "linecolor": "white",
           "ticks": "",
           "title": {
            "standoff": 15
           },
           "zerolinecolor": "white",
           "zerolinewidth": 2
          }
         }
        },
        "xaxis": {
         "anchor": "y",
         "domain": [
          0,
          1
         ],
         "title": {
          "text": "Item"
         }
        },
        "yaxis": {
         "anchor": "x",
         "domain": [
          0,
          1
         ],
         "title": {
          "text": "value"
         }
        }
       }
      }
     },
     "metadata": {},
     "output_type": "display_data"
    }
   ],
   "source": [
    "px.line(df.groupby(\"Item\")[\"Quantity\"].sum())"
   ]
  },
  {
   "cell_type": "code",
   "execution_count": 150,
   "metadata": {},
   "outputs": [
    {
     "data": {
      "text/plain": [
       "Item\n",
       "Salad       6360\n",
       "Sandwich    4772\n",
       "Smoothie    4088\n",
       "Juice       3735\n",
       "Cake        3519\n",
       "Coffee      2242\n",
       "Tea         1726\n",
       "Cookie      1163\n",
       "Name: Total Spent, dtype: int64"
      ]
     },
     "execution_count": 150,
     "metadata": {},
     "output_type": "execute_result"
    }
   ],
   "source": [
    "df.groupby(df[\"Item\"])[\"Total Spent\"].sum().astype(int).sort_values(ascending=False)"
   ]
  },
  {
   "cell_type": "code",
   "execution_count": 151,
   "metadata": {},
   "outputs": [
    {
     "data": {
      "application/vnd.plotly.v1+json": {
       "config": {
        "plotlyServerURL": "https://plot.ly"
       },
       "data": [
        {
         "alignmentgroup": "True",
         "hovertemplate": "variable=Total Spent<br>Item=%{x}<br>value=%{y}<extra></extra>",
         "legendgroup": "Total Spent",
         "marker": {
          "color": "#636efa",
          "pattern": {
           "shape": ""
          }
         },
         "name": "Total Spent",
         "offsetgroup": "Total Spent",
         "orientation": "v",
         "showlegend": true,
         "textposition": "auto",
         "type": "bar",
         "x": [
          "Salad",
          "Sandwich",
          "Smoothie",
          "Juice",
          "Cake",
          "Coffee",
          "Tea",
          "Cookie"
         ],
         "xaxis": "x",
         "y": [
          6360,
          4772,
          4088,
          3735,
          3519,
          2242,
          1726,
          1163
         ],
         "yaxis": "y"
        }
       ],
       "layout": {
        "barmode": "relative",
        "legend": {
         "title": {
          "text": "variable"
         },
         "tracegroupgap": 0
        },
        "margin": {
         "t": 60
        },
        "template": {
         "data": {
          "bar": [
           {
            "error_x": {
             "color": "#2a3f5f"
            },
            "error_y": {
             "color": "#2a3f5f"
            },
            "marker": {
             "line": {
              "color": "#E5ECF6",
              "width": 0.5
             },
             "pattern": {
              "fillmode": "overlay",
              "size": 10,
              "solidity": 0.2
             }
            },
            "type": "bar"
           }
          ],
          "barpolar": [
           {
            "marker": {
             "line": {
              "color": "#E5ECF6",
              "width": 0.5
             },
             "pattern": {
              "fillmode": "overlay",
              "size": 10,
              "solidity": 0.2
             }
            },
            "type": "barpolar"
           }
          ],
          "carpet": [
           {
            "aaxis": {
             "endlinecolor": "#2a3f5f",
             "gridcolor": "white",
             "linecolor": "white",
             "minorgridcolor": "white",
             "startlinecolor": "#2a3f5f"
            },
            "baxis": {
             "endlinecolor": "#2a3f5f",
             "gridcolor": "white",
             "linecolor": "white",
             "minorgridcolor": "white",
             "startlinecolor": "#2a3f5f"
            },
            "type": "carpet"
           }
          ],
          "choropleth": [
           {
            "colorbar": {
             "outlinewidth": 0,
             "ticks": ""
            },
            "type": "choropleth"
           }
          ],
          "contour": [
           {
            "colorbar": {
             "outlinewidth": 0,
             "ticks": ""
            },
            "colorscale": [
             [
              0,
              "#0d0887"
             ],
             [
              0.1111111111111111,
              "#46039f"
             ],
             [
              0.2222222222222222,
              "#7201a8"
             ],
             [
              0.3333333333333333,
              "#9c179e"
             ],
             [
              0.4444444444444444,
              "#bd3786"
             ],
             [
              0.5555555555555556,
              "#d8576b"
             ],
             [
              0.6666666666666666,
              "#ed7953"
             ],
             [
              0.7777777777777778,
              "#fb9f3a"
             ],
             [
              0.8888888888888888,
              "#fdca26"
             ],
             [
              1,
              "#f0f921"
             ]
            ],
            "type": "contour"
           }
          ],
          "contourcarpet": [
           {
            "colorbar": {
             "outlinewidth": 0,
             "ticks": ""
            },
            "type": "contourcarpet"
           }
          ],
          "heatmap": [
           {
            "colorbar": {
             "outlinewidth": 0,
             "ticks": ""
            },
            "colorscale": [
             [
              0,
              "#0d0887"
             ],
             [
              0.1111111111111111,
              "#46039f"
             ],
             [
              0.2222222222222222,
              "#7201a8"
             ],
             [
              0.3333333333333333,
              "#9c179e"
             ],
             [
              0.4444444444444444,
              "#bd3786"
             ],
             [
              0.5555555555555556,
              "#d8576b"
             ],
             [
              0.6666666666666666,
              "#ed7953"
             ],
             [
              0.7777777777777778,
              "#fb9f3a"
             ],
             [
              0.8888888888888888,
              "#fdca26"
             ],
             [
              1,
              "#f0f921"
             ]
            ],
            "type": "heatmap"
           }
          ],
          "heatmapgl": [
           {
            "colorbar": {
             "outlinewidth": 0,
             "ticks": ""
            },
            "colorscale": [
             [
              0,
              "#0d0887"
             ],
             [
              0.1111111111111111,
              "#46039f"
             ],
             [
              0.2222222222222222,
              "#7201a8"
             ],
             [
              0.3333333333333333,
              "#9c179e"
             ],
             [
              0.4444444444444444,
              "#bd3786"
             ],
             [
              0.5555555555555556,
              "#d8576b"
             ],
             [
              0.6666666666666666,
              "#ed7953"
             ],
             [
              0.7777777777777778,
              "#fb9f3a"
             ],
             [
              0.8888888888888888,
              "#fdca26"
             ],
             [
              1,
              "#f0f921"
             ]
            ],
            "type": "heatmapgl"
           }
          ],
          "histogram": [
           {
            "marker": {
             "pattern": {
              "fillmode": "overlay",
              "size": 10,
              "solidity": 0.2
             }
            },
            "type": "histogram"
           }
          ],
          "histogram2d": [
           {
            "colorbar": {
             "outlinewidth": 0,
             "ticks": ""
            },
            "colorscale": [
             [
              0,
              "#0d0887"
             ],
             [
              0.1111111111111111,
              "#46039f"
             ],
             [
              0.2222222222222222,
              "#7201a8"
             ],
             [
              0.3333333333333333,
              "#9c179e"
             ],
             [
              0.4444444444444444,
              "#bd3786"
             ],
             [
              0.5555555555555556,
              "#d8576b"
             ],
             [
              0.6666666666666666,
              "#ed7953"
             ],
             [
              0.7777777777777778,
              "#fb9f3a"
             ],
             [
              0.8888888888888888,
              "#fdca26"
             ],
             [
              1,
              "#f0f921"
             ]
            ],
            "type": "histogram2d"
           }
          ],
          "histogram2dcontour": [
           {
            "colorbar": {
             "outlinewidth": 0,
             "ticks": ""
            },
            "colorscale": [
             [
              0,
              "#0d0887"
             ],
             [
              0.1111111111111111,
              "#46039f"
             ],
             [
              0.2222222222222222,
              "#7201a8"
             ],
             [
              0.3333333333333333,
              "#9c179e"
             ],
             [
              0.4444444444444444,
              "#bd3786"
             ],
             [
              0.5555555555555556,
              "#d8576b"
             ],
             [
              0.6666666666666666,
              "#ed7953"
             ],
             [
              0.7777777777777778,
              "#fb9f3a"
             ],
             [
              0.8888888888888888,
              "#fdca26"
             ],
             [
              1,
              "#f0f921"
             ]
            ],
            "type": "histogram2dcontour"
           }
          ],
          "mesh3d": [
           {
            "colorbar": {
             "outlinewidth": 0,
             "ticks": ""
            },
            "type": "mesh3d"
           }
          ],
          "parcoords": [
           {
            "line": {
             "colorbar": {
              "outlinewidth": 0,
              "ticks": ""
             }
            },
            "type": "parcoords"
           }
          ],
          "pie": [
           {
            "automargin": true,
            "type": "pie"
           }
          ],
          "scatter": [
           {
            "fillpattern": {
             "fillmode": "overlay",
             "size": 10,
             "solidity": 0.2
            },
            "type": "scatter"
           }
          ],
          "scatter3d": [
           {
            "line": {
             "colorbar": {
              "outlinewidth": 0,
              "ticks": ""
             }
            },
            "marker": {
             "colorbar": {
              "outlinewidth": 0,
              "ticks": ""
             }
            },
            "type": "scatter3d"
           }
          ],
          "scattercarpet": [
           {
            "marker": {
             "colorbar": {
              "outlinewidth": 0,
              "ticks": ""
             }
            },
            "type": "scattercarpet"
           }
          ],
          "scattergeo": [
           {
            "marker": {
             "colorbar": {
              "outlinewidth": 0,
              "ticks": ""
             }
            },
            "type": "scattergeo"
           }
          ],
          "scattergl": [
           {
            "marker": {
             "colorbar": {
              "outlinewidth": 0,
              "ticks": ""
             }
            },
            "type": "scattergl"
           }
          ],
          "scattermapbox": [
           {
            "marker": {
             "colorbar": {
              "outlinewidth": 0,
              "ticks": ""
             }
            },
            "type": "scattermapbox"
           }
          ],
          "scatterpolar": [
           {
            "marker": {
             "colorbar": {
              "outlinewidth": 0,
              "ticks": ""
             }
            },
            "type": "scatterpolar"
           }
          ],
          "scatterpolargl": [
           {
            "marker": {
             "colorbar": {
              "outlinewidth": 0,
              "ticks": ""
             }
            },
            "type": "scatterpolargl"
           }
          ],
          "scatterternary": [
           {
            "marker": {
             "colorbar": {
              "outlinewidth": 0,
              "ticks": ""
             }
            },
            "type": "scatterternary"
           }
          ],
          "surface": [
           {
            "colorbar": {
             "outlinewidth": 0,
             "ticks": ""
            },
            "colorscale": [
             [
              0,
              "#0d0887"
             ],
             [
              0.1111111111111111,
              "#46039f"
             ],
             [
              0.2222222222222222,
              "#7201a8"
             ],
             [
              0.3333333333333333,
              "#9c179e"
             ],
             [
              0.4444444444444444,
              "#bd3786"
             ],
             [
              0.5555555555555556,
              "#d8576b"
             ],
             [
              0.6666666666666666,
              "#ed7953"
             ],
             [
              0.7777777777777778,
              "#fb9f3a"
             ],
             [
              0.8888888888888888,
              "#fdca26"
             ],
             [
              1,
              "#f0f921"
             ]
            ],
            "type": "surface"
           }
          ],
          "table": [
           {
            "cells": {
             "fill": {
              "color": "#EBF0F8"
             },
             "line": {
              "color": "white"
             }
            },
            "header": {
             "fill": {
              "color": "#C8D4E3"
             },
             "line": {
              "color": "white"
             }
            },
            "type": "table"
           }
          ]
         },
         "layout": {
          "annotationdefaults": {
           "arrowcolor": "#2a3f5f",
           "arrowhead": 0,
           "arrowwidth": 1
          },
          "autotypenumbers": "strict",
          "coloraxis": {
           "colorbar": {
            "outlinewidth": 0,
            "ticks": ""
           }
          },
          "colorscale": {
           "diverging": [
            [
             0,
             "#8e0152"
            ],
            [
             0.1,
             "#c51b7d"
            ],
            [
             0.2,
             "#de77ae"
            ],
            [
             0.3,
             "#f1b6da"
            ],
            [
             0.4,
             "#fde0ef"
            ],
            [
             0.5,
             "#f7f7f7"
            ],
            [
             0.6,
             "#e6f5d0"
            ],
            [
             0.7,
             "#b8e186"
            ],
            [
             0.8,
             "#7fbc41"
            ],
            [
             0.9,
             "#4d9221"
            ],
            [
             1,
             "#276419"
            ]
           ],
           "sequential": [
            [
             0,
             "#0d0887"
            ],
            [
             0.1111111111111111,
             "#46039f"
            ],
            [
             0.2222222222222222,
             "#7201a8"
            ],
            [
             0.3333333333333333,
             "#9c179e"
            ],
            [
             0.4444444444444444,
             "#bd3786"
            ],
            [
             0.5555555555555556,
             "#d8576b"
            ],
            [
             0.6666666666666666,
             "#ed7953"
            ],
            [
             0.7777777777777778,
             "#fb9f3a"
            ],
            [
             0.8888888888888888,
             "#fdca26"
            ],
            [
             1,
             "#f0f921"
            ]
           ],
           "sequentialminus": [
            [
             0,
             "#0d0887"
            ],
            [
             0.1111111111111111,
             "#46039f"
            ],
            [
             0.2222222222222222,
             "#7201a8"
            ],
            [
             0.3333333333333333,
             "#9c179e"
            ],
            [
             0.4444444444444444,
             "#bd3786"
            ],
            [
             0.5555555555555556,
             "#d8576b"
            ],
            [
             0.6666666666666666,
             "#ed7953"
            ],
            [
             0.7777777777777778,
             "#fb9f3a"
            ],
            [
             0.8888888888888888,
             "#fdca26"
            ],
            [
             1,
             "#f0f921"
            ]
           ]
          },
          "colorway": [
           "#636efa",
           "#EF553B",
           "#00cc96",
           "#ab63fa",
           "#FFA15A",
           "#19d3f3",
           "#FF6692",
           "#B6E880",
           "#FF97FF",
           "#FECB52"
          ],
          "font": {
           "color": "#2a3f5f"
          },
          "geo": {
           "bgcolor": "white",
           "lakecolor": "white",
           "landcolor": "#E5ECF6",
           "showlakes": true,
           "showland": true,
           "subunitcolor": "white"
          },
          "hoverlabel": {
           "align": "left"
          },
          "hovermode": "closest",
          "mapbox": {
           "style": "light"
          },
          "paper_bgcolor": "white",
          "plot_bgcolor": "#E5ECF6",
          "polar": {
           "angularaxis": {
            "gridcolor": "white",
            "linecolor": "white",
            "ticks": ""
           },
           "bgcolor": "#E5ECF6",
           "radialaxis": {
            "gridcolor": "white",
            "linecolor": "white",
            "ticks": ""
           }
          },
          "scene": {
           "xaxis": {
            "backgroundcolor": "#E5ECF6",
            "gridcolor": "white",
            "gridwidth": 2,
            "linecolor": "white",
            "showbackground": true,
            "ticks": "",
            "zerolinecolor": "white"
           },
           "yaxis": {
            "backgroundcolor": "#E5ECF6",
            "gridcolor": "white",
            "gridwidth": 2,
            "linecolor": "white",
            "showbackground": true,
            "ticks": "",
            "zerolinecolor": "white"
           },
           "zaxis": {
            "backgroundcolor": "#E5ECF6",
            "gridcolor": "white",
            "gridwidth": 2,
            "linecolor": "white",
            "showbackground": true,
            "ticks": "",
            "zerolinecolor": "white"
           }
          },
          "shapedefaults": {
           "line": {
            "color": "#2a3f5f"
           }
          },
          "ternary": {
           "aaxis": {
            "gridcolor": "white",
            "linecolor": "white",
            "ticks": ""
           },
           "baxis": {
            "gridcolor": "white",
            "linecolor": "white",
            "ticks": ""
           },
           "bgcolor": "#E5ECF6",
           "caxis": {
            "gridcolor": "white",
            "linecolor": "white",
            "ticks": ""
           }
          },
          "title": {
           "x": 0.05
          },
          "xaxis": {
           "automargin": true,
           "gridcolor": "white",
           "linecolor": "white",
           "ticks": "",
           "title": {
            "standoff": 15
           },
           "zerolinecolor": "white",
           "zerolinewidth": 2
          },
          "yaxis": {
           "automargin": true,
           "gridcolor": "white",
           "linecolor": "white",
           "ticks": "",
           "title": {
            "standoff": 15
           },
           "zerolinecolor": "white",
           "zerolinewidth": 2
          }
         }
        },
        "xaxis": {
         "anchor": "y",
         "domain": [
          0,
          1
         ],
         "title": {
          "text": "Item"
         }
        },
        "yaxis": {
         "anchor": "x",
         "domain": [
          0,
          1
         ],
         "title": {
          "text": "value"
         }
        }
       }
      }
     },
     "metadata": {},
     "output_type": "display_data"
    }
   ],
   "source": [
    "px.bar(df.groupby(df[\"Item\"])[\"Total Spent\"].sum().astype(int).sort_values(ascending=False))"
   ]
  },
  {
   "cell_type": "code",
   "execution_count": 152,
   "metadata": {},
   "outputs": [],
   "source": [
    "aa=df[\"Payment Method\"].value_counts()"
   ]
  },
  {
   "cell_type": "code",
   "execution_count": 153,
   "metadata": {},
   "outputs": [
    {
     "data": {
      "application/vnd.plotly.v1+json": {
       "config": {
        "plotlyServerURL": "https://plot.ly"
       },
       "data": [
        {
         "domain": {
          "x": [
           0,
           1
          ],
          "y": [
           0,
           1
          ]
         },
         "hovertemplate": "label=%{label}<extra></extra>",
         "labels": [
          "Credit Card",
          "Cash",
          "Digital Wallet",
          "Cash",
          "Cash",
          "Credit Card",
          "Cash",
          "Cash",
          "Credit Card",
          "Digital Wallet",
          "Cash",
          "Credit Card",
          "Credit Card",
          "Digital Wallet",
          "Credit Card",
          "Digital Wallet",
          "Digital Wallet",
          "Cash",
          "Credit Card",
          "Cash",
          "Credit Card",
          "Cash",
          "Cash",
          "Credit Card",
          "Cash",
          "Credit Card",
          "Cash",
          "Digital Wallet",
          "Cash",
          "Cash",
          "Digital Wallet",
          "Digital Wallet",
          "Credit Card",
          "Digital Wallet",
          "Cash",
          "Credit Card",
          "Digital Wallet",
          "Cash",
          "Credit Card",
          "Cash",
          "Credit Card",
          "Cash",
          "Credit Card",
          "Cash",
          "Cash",
          "Digital Wallet",
          "Cash",
          "Cash",
          "Credit Card",
          "Digital Wallet",
          "Digital Wallet",
          "Credit Card",
          "Digital Wallet",
          "Cash",
          "Credit Card",
          "Cash",
          "Cash",
          "Credit Card",
          "Cash",
          "Digital Wallet",
          "Credit Card",
          "Cash",
          "Cash",
          "Digital Wallet",
          "Credit Card",
          "Digital Wallet",
          "Digital Wallet",
          "Digital Wallet",
          "Credit Card",
          "Credit Card",
          "Digital Wallet",
          "Cash",
          "Cash",
          "Digital Wallet",
          "Credit Card",
          "Cash",
          "Digital Wallet",
          "Digital Wallet",
          "Cash",
          "Digital Wallet",
          "Digital Wallet",
          "Digital Wallet",
          "Credit Card",
          "Credit Card",
          "Digital Wallet",
          "Digital Wallet",
          "Cash",
          "Credit Card",
          "Digital Wallet",
          "Digital Wallet",
          "Cash",
          "Digital Wallet",
          "Cash",
          "Credit Card",
          "Credit Card",
          "Digital Wallet",
          "Cash",
          "Cash",
          "Digital Wallet",
          "Cash",
          "Cash",
          "Cash",
          "Digital Wallet",
          "Digital Wallet",
          "Cash",
          "Digital Wallet",
          "Credit Card",
          "Digital Wallet",
          "Digital Wallet",
          "Cash",
          "Credit Card",
          "Credit Card",
          "Cash",
          "Cash",
          "Cash",
          "Cash",
          "Digital Wallet",
          "Digital Wallet",
          "Credit Card",
          "Credit Card",
          "Credit Card",
          "Digital Wallet",
          "Digital Wallet",
          "Cash",
          "Digital Wallet",
          "Digital Wallet",
          "Cash",
          "Digital Wallet",
          "Credit Card",
          "Digital Wallet",
          "Cash",
          "Digital Wallet",
          "Digital Wallet",
          "Credit Card",
          "Credit Card",
          "Cash",
          "Digital Wallet",
          "Cash",
          "Credit Card",
          "Credit Card",
          "Credit Card",
          "Digital Wallet",
          "Credit Card",
          "Digital Wallet",
          "Cash",
          "Credit Card",
          "Credit Card",
          "Cash",
          "Cash",
          "Digital Wallet",
          "Digital Wallet",
          "Digital Wallet",
          "Digital Wallet",
          "Cash",
          "Cash",
          "Cash",
          "Cash",
          "Cash",
          "Digital Wallet",
          "Cash",
          "Cash",
          "Cash",
          "Digital Wallet",
          "Cash",
          "Credit Card",
          "Digital Wallet",
          "Credit Card",
          "Cash",
          "Digital Wallet",
          "Digital Wallet",
          "Cash",
          "Digital Wallet",
          "Digital Wallet",
          "Cash",
          "Cash",
          "Digital Wallet",
          "Credit Card",
          "Cash",
          "Credit Card",
          "Digital Wallet",
          "Digital Wallet",
          "Cash",
          "Cash",
          "Credit Card",
          "Cash",
          "Digital Wallet",
          "Digital Wallet",
          "Digital Wallet",
          "Credit Card",
          "Digital Wallet",
          "Credit Card",
          "Cash",
          "Digital Wallet",
          "Digital Wallet",
          "Credit Card",
          "Digital Wallet",
          "Digital Wallet",
          "Digital Wallet",
          "Digital Wallet",
          "Cash",
          "Cash",
          "Credit Card",
          "Digital Wallet",
          "Cash",
          "Credit Card",
          "Digital Wallet",
          "Credit Card",
          "Credit Card",
          "Digital Wallet",
          "Digital Wallet",
          "Cash",
          "Digital Wallet",
          "Cash",
          "Cash",
          "Cash",
          "Cash",
          "Digital Wallet",
          "Credit Card",
          "Credit Card",
          "Credit Card",
          "Credit Card",
          "Credit Card",
          "Digital Wallet",
          "Cash",
          "Credit Card",
          "Digital Wallet",
          "Digital Wallet",
          "Credit Card",
          "Digital Wallet",
          "Digital Wallet",
          "Cash",
          "Digital Wallet",
          "Digital Wallet",
          "Digital Wallet",
          "Cash",
          "Cash",
          "Digital Wallet",
          "Digital Wallet",
          "Credit Card",
          "Credit Card",
          "Cash",
          "Digital Wallet",
          "Credit Card",
          "Cash",
          "Digital Wallet",
          "Digital Wallet",
          "Digital Wallet",
          "Digital Wallet",
          "Credit Card",
          "Credit Card",
          "Cash",
          "Cash",
          "Credit Card",
          "Credit Card",
          "Credit Card",
          "Credit Card",
          "Cash",
          "Credit Card",
          "Digital Wallet",
          "Cash",
          "Credit Card",
          "Digital Wallet",
          "Cash",
          "Credit Card",
          "Digital Wallet",
          "Credit Card",
          "Cash",
          "Cash",
          "Digital Wallet",
          "Cash",
          "Digital Wallet",
          "Credit Card",
          "Digital Wallet",
          "Cash",
          "Credit Card",
          "Credit Card",
          "Digital Wallet",
          "Digital Wallet",
          "Credit Card",
          "Credit Card",
          "Cash",
          "Digital Wallet",
          "Credit Card",
          "Cash",
          "Digital Wallet",
          "Digital Wallet",
          "Credit Card",
          "Digital Wallet",
          "Cash",
          "Credit Card",
          "Digital Wallet",
          "Credit Card",
          "Digital Wallet",
          "Credit Card",
          "Cash",
          "Digital Wallet",
          "Cash",
          "Digital Wallet",
          "Digital Wallet",
          "Cash",
          "Credit Card",
          "Credit Card",
          "Credit Card",
          "Digital Wallet",
          "Credit Card",
          "Credit Card",
          "Credit Card",
          "Cash",
          "Credit Card",
          "Credit Card",
          "Digital Wallet",
          "Digital Wallet",
          "Credit Card",
          "Cash",
          "Cash",
          "Credit Card",
          "Digital Wallet",
          "Credit Card",
          "Cash",
          "Credit Card",
          "Credit Card",
          "Cash",
          "Cash",
          "Credit Card",
          "Digital Wallet",
          "Credit Card",
          "Digital Wallet",
          "Cash",
          "Cash",
          "Credit Card",
          "Credit Card",
          "Cash",
          "Cash",
          "Digital Wallet",
          "Digital Wallet",
          "Cash",
          "Digital Wallet",
          "Cash",
          "Digital Wallet",
          "Credit Card",
          "Digital Wallet",
          "Credit Card",
          "Cash",
          "Credit Card",
          "Credit Card",
          "Cash",
          "Credit Card",
          "Cash",
          "Credit Card",
          "Cash",
          "Cash",
          "Cash",
          "Cash",
          "Digital Wallet",
          "Cash",
          "Digital Wallet",
          "Credit Card",
          "Cash",
          "Digital Wallet",
          "Digital Wallet",
          "Cash",
          "Digital Wallet",
          "Cash",
          "Credit Card",
          "Digital Wallet",
          "Credit Card",
          "Cash",
          "Digital Wallet",
          "Credit Card",
          "Digital Wallet",
          "Digital Wallet",
          "Digital Wallet",
          "Cash",
          "Digital Wallet",
          "Digital Wallet",
          "Credit Card",
          "Digital Wallet",
          "Cash",
          "Cash",
          "Cash",
          "Credit Card",
          "Cash",
          "Cash",
          "Cash",
          "Credit Card",
          "Credit Card",
          "Cash",
          "Digital Wallet",
          "Digital Wallet",
          "Digital Wallet",
          "Credit Card",
          "Credit Card",
          "Cash",
          "Digital Wallet",
          "Cash",
          "Cash",
          "Cash",
          "Cash",
          "Credit Card",
          "Credit Card",
          "Cash",
          "Credit Card",
          "Digital Wallet",
          "Cash",
          "Digital Wallet",
          "Credit Card",
          "Credit Card",
          "Digital Wallet",
          "Digital Wallet",
          "Credit Card",
          "Cash",
          "Digital Wallet",
          "Cash",
          "Cash",
          "Digital Wallet",
          "Digital Wallet",
          "Digital Wallet",
          "Cash",
          "Digital Wallet",
          "Digital Wallet",
          "Digital Wallet",
          "Digital Wallet",
          "Credit Card",
          "Cash",
          "Cash",
          "Credit Card",
          "Digital Wallet",
          "Credit Card",
          "Credit Card",
          "Cash",
          "Credit Card",
          "Digital Wallet",
          "Credit Card",
          "Credit Card",
          "Digital Wallet",
          "Digital Wallet",
          "Credit Card",
          "Digital Wallet",
          "Credit Card",
          "Digital Wallet",
          "Digital Wallet",
          "Credit Card",
          "Cash",
          "Digital Wallet",
          "Credit Card",
          "Credit Card",
          "Digital Wallet",
          "Digital Wallet",
          "Digital Wallet",
          "Cash",
          "Credit Card",
          "Credit Card",
          "Digital Wallet",
          "Cash",
          "Credit Card",
          "Credit Card",
          "Cash",
          "Cash",
          "Cash",
          "Cash",
          "Credit Card",
          "Digital Wallet",
          "Cash",
          "Cash",
          "Digital Wallet",
          "Digital Wallet",
          "Digital Wallet",
          "Cash",
          "Cash",
          "Cash",
          "Credit Card",
          "Digital Wallet",
          "Digital Wallet",
          "Credit Card",
          "Cash",
          "Cash",
          "Credit Card",
          "Credit Card",
          "Cash",
          "Digital Wallet",
          "Digital Wallet",
          "Digital Wallet",
          "Cash",
          "Cash",
          "Credit Card",
          "Cash",
          "Credit Card",
          "Cash",
          "Cash",
          "Cash",
          "Credit Card",
          "Credit Card",
          "Cash",
          "Digital Wallet",
          "Cash",
          "Cash",
          "Cash",
          "Digital Wallet",
          "Cash",
          "Credit Card",
          "Cash",
          "Credit Card",
          "Digital Wallet",
          "Credit Card",
          "Digital Wallet",
          "Credit Card",
          "Credit Card",
          "Cash",
          "Credit Card",
          "Cash",
          "Cash",
          "Digital Wallet",
          "Digital Wallet",
          "Credit Card",
          "Digital Wallet",
          "Cash",
          "Digital Wallet",
          "Credit Card",
          "Cash",
          "Digital Wallet",
          "Digital Wallet",
          "Digital Wallet",
          "Credit Card",
          "Credit Card",
          "Credit Card",
          "Cash",
          "Cash",
          "Digital Wallet",
          "Digital Wallet",
          "Credit Card",
          "Cash",
          "Cash",
          "Cash",
          "Cash",
          "Credit Card",
          "Credit Card",
          "Cash",
          "Credit Card",
          "Credit Card",
          "Digital Wallet",
          "Credit Card",
          "Cash",
          "Cash",
          "Cash",
          "Cash",
          "Cash",
          "Credit Card",
          "Digital Wallet",
          "Digital Wallet",
          "Digital Wallet",
          "Credit Card",
          "Digital Wallet",
          "Digital Wallet",
          "Cash",
          "Digital Wallet",
          "Cash",
          "Cash",
          "Credit Card",
          "Cash",
          "Cash",
          "Digital Wallet",
          "Credit Card",
          "Credit Card",
          "Digital Wallet",
          "Digital Wallet",
          "Credit Card",
          "Cash",
          "Credit Card",
          "Cash",
          "Digital Wallet",
          "Cash",
          "Cash",
          "Credit Card",
          "Digital Wallet",
          "Digital Wallet",
          "Cash",
          "Credit Card",
          "Cash",
          "Digital Wallet",
          "Cash",
          "Credit Card",
          "Credit Card",
          "Cash",
          "Digital Wallet",
          "Digital Wallet",
          "Digital Wallet",
          "Credit Card",
          "Cash",
          "Digital Wallet",
          "Digital Wallet",
          "Cash",
          "Cash",
          "Digital Wallet",
          "Cash",
          "Cash",
          "Digital Wallet",
          "Digital Wallet",
          "Digital Wallet",
          "Cash",
          "Credit Card",
          "Digital Wallet",
          "Credit Card",
          "Credit Card",
          "Credit Card",
          "Digital Wallet",
          "Cash",
          "Digital Wallet",
          "Cash",
          "Credit Card",
          "Credit Card",
          "Digital Wallet",
          "Digital Wallet",
          "Digital Wallet",
          "Credit Card",
          "Digital Wallet",
          "Cash",
          "Cash",
          "Digital Wallet",
          "Credit Card",
          "Credit Card",
          "Digital Wallet",
          "Credit Card",
          "Digital Wallet",
          "Cash",
          "Digital Wallet",
          "Credit Card",
          "Credit Card",
          "Digital Wallet",
          "Cash",
          "Cash",
          "Credit Card",
          "Credit Card",
          "Digital Wallet",
          "Digital Wallet",
          "Digital Wallet",
          "Credit Card",
          "Credit Card",
          "Credit Card",
          "Credit Card",
          "Credit Card",
          "Credit Card",
          "Credit Card",
          "Credit Card",
          "Digital Wallet",
          "Digital Wallet",
          "Cash",
          "Cash",
          "Digital Wallet",
          "Credit Card",
          "Digital Wallet",
          "Cash",
          "Credit Card",
          "Credit Card",
          "Digital Wallet",
          "Digital Wallet",
          "Cash",
          "Credit Card",
          "Credit Card",
          "Credit Card",
          "Cash",
          "Cash",
          "Credit Card",
          "Credit Card",
          "Digital Wallet",
          "Cash",
          "Cash",
          "Credit Card",
          "Credit Card",
          "Digital Wallet",
          "Credit Card",
          "Cash",
          "Credit Card",
          "Credit Card",
          "Credit Card",
          "Credit Card",
          "Credit Card",
          "Credit Card",
          "Cash",
          "Credit Card",
          "Credit Card",
          "Cash",
          "Digital Wallet",
          "Credit Card",
          "Credit Card",
          "Digital Wallet",
          "Credit Card",
          "Cash",
          "Digital Wallet",
          "Credit Card",
          "Cash",
          "Credit Card",
          "Credit Card",
          "Cash",
          "Cash",
          "Credit Card",
          "Credit Card",
          "Digital Wallet",
          "Cash",
          "Credit Card",
          "Credit Card",
          "Credit Card",
          "Credit Card",
          "Cash",
          "Credit Card",
          "Cash",
          "Cash",
          "Digital Wallet",
          "Credit Card",
          "Digital Wallet",
          "Digital Wallet",
          "Cash",
          "Credit Card",
          "Digital Wallet",
          "Cash",
          "Cash",
          "Cash",
          "Cash",
          "Credit Card",
          "Digital Wallet",
          "Digital Wallet",
          "Digital Wallet",
          "Credit Card",
          "Digital Wallet",
          "Digital Wallet",
          "Credit Card",
          "Credit Card",
          "Digital Wallet",
          "Cash",
          "Cash",
          "Digital Wallet",
          "Cash",
          "Cash",
          "Cash",
          "Cash",
          "Digital Wallet",
          "Credit Card",
          "Credit Card",
          "Digital Wallet",
          "Credit Card",
          "Credit Card",
          "Digital Wallet",
          "Cash",
          "Credit Card",
          "Credit Card",
          "Cash",
          "Cash",
          "Credit Card",
          "Credit Card",
          "Credit Card",
          "Cash",
          "Digital Wallet",
          "Cash",
          "Digital Wallet",
          "Credit Card",
          "Credit Card",
          "Cash",
          "Digital Wallet",
          "Credit Card",
          "Credit Card",
          "Digital Wallet",
          "Digital Wallet",
          "Digital Wallet",
          "Cash",
          "Digital Wallet",
          "Cash",
          "Cash",
          "Cash",
          "Credit Card",
          "Credit Card",
          "Credit Card",
          "Credit Card",
          "Cash",
          "Cash",
          "Digital Wallet",
          "Cash",
          "Cash",
          "Digital Wallet",
          "Credit Card",
          "Credit Card",
          "Cash",
          "Cash",
          "Credit Card",
          "Cash",
          "Digital Wallet",
          "Digital Wallet",
          "Credit Card",
          "Cash",
          "Cash",
          "Credit Card",
          "Credit Card",
          "Digital Wallet",
          "Digital Wallet",
          "Digital Wallet",
          "Cash",
          "Cash",
          "Cash",
          "Credit Card",
          "Digital Wallet",
          "Cash",
          "Credit Card",
          "Digital Wallet",
          "Digital Wallet",
          "Digital Wallet",
          "Credit Card",
          "Digital Wallet",
          "Cash",
          "Digital Wallet",
          "Credit Card",
          "Digital Wallet",
          "Credit Card",
          "Credit Card",
          "Digital Wallet",
          "Credit Card",
          "Credit Card",
          "Credit Card",
          "Credit Card",
          "Cash",
          "Digital Wallet",
          "Digital Wallet",
          "Credit Card",
          "Digital Wallet",
          "Cash",
          "Digital Wallet",
          "Digital Wallet",
          "Digital Wallet",
          "Credit Card",
          "Cash",
          "Digital Wallet",
          "Credit Card",
          "Cash",
          "Digital Wallet",
          "Digital Wallet",
          "Credit Card",
          "Digital Wallet",
          "Digital Wallet",
          "Credit Card",
          "Digital Wallet",
          "Cash",
          "Cash",
          "Cash",
          "Cash",
          "Credit Card",
          "Digital Wallet",
          "Cash",
          "Digital Wallet",
          "Digital Wallet",
          "Digital Wallet",
          "Digital Wallet",
          "Digital Wallet",
          "Digital Wallet",
          "Credit Card",
          "Cash",
          "Digital Wallet",
          "Cash",
          "Cash",
          "Credit Card",
          "Digital Wallet",
          "Digital Wallet",
          "Cash",
          "Digital Wallet",
          "Cash",
          "Credit Card",
          "Digital Wallet",
          "Credit Card",
          "Digital Wallet",
          "Credit Card",
          "Cash",
          "Credit Card",
          "Digital Wallet",
          "Cash",
          "Credit Card",
          "Cash",
          "Credit Card",
          "Cash",
          "Credit Card",
          "Digital Wallet",
          "Digital Wallet",
          "Digital Wallet",
          "Cash",
          "Digital Wallet",
          "Digital Wallet",
          "Digital Wallet",
          "Cash",
          "Credit Card",
          "Cash",
          "Cash",
          "Credit Card",
          "Cash",
          "Digital Wallet",
          "Cash",
          "Cash",
          "Cash",
          "Digital Wallet",
          "Credit Card",
          "Credit Card",
          "Credit Card",
          "Credit Card",
          "Digital Wallet",
          "Cash",
          "Cash",
          "Digital Wallet",
          "Credit Card",
          "Digital Wallet",
          "Credit Card",
          "Cash",
          "Digital Wallet",
          "Cash",
          "Cash",
          "Credit Card",
          "Cash",
          "Digital Wallet",
          "Digital Wallet",
          "Credit Card",
          "Credit Card",
          "Credit Card",
          "Digital Wallet",
          "Credit Card",
          "Credit Card",
          "Cash",
          "Digital Wallet",
          "Cash",
          "Credit Card",
          "Digital Wallet",
          "Credit Card",
          "Digital Wallet",
          "Digital Wallet",
          "Digital Wallet",
          "Cash",
          "Digital Wallet",
          "Cash",
          "Cash",
          "Digital Wallet",
          "Credit Card",
          "Credit Card",
          "Digital Wallet",
          "Credit Card",
          "Cash",
          "Digital Wallet",
          "Digital Wallet",
          "Digital Wallet",
          "Cash",
          "Digital Wallet",
          "Digital Wallet",
          "Digital Wallet",
          "Digital Wallet",
          "Digital Wallet",
          "Digital Wallet",
          "Credit Card",
          "Credit Card",
          "Digital Wallet",
          "Cash",
          "Credit Card",
          "Credit Card",
          "Credit Card",
          "Digital Wallet",
          "Cash",
          "Digital Wallet",
          "Cash",
          "Cash",
          "Credit Card",
          "Credit Card",
          "Cash",
          "Cash",
          "Digital Wallet",
          "Cash",
          "Credit Card",
          "Cash",
          "Cash",
          "Credit Card",
          "Cash",
          "Credit Card",
          "Cash",
          "Credit Card",
          "Credit Card",
          "Digital Wallet",
          "Cash",
          "Cash",
          "Digital Wallet",
          "Cash",
          "Credit Card",
          "Digital Wallet",
          "Credit Card",
          "Digital Wallet",
          "Cash",
          "Digital Wallet",
          "Digital Wallet",
          "Cash",
          "Credit Card",
          "Digital Wallet",
          "Credit Card",
          "Credit Card",
          "Digital Wallet",
          "Credit Card",
          "Digital Wallet",
          "Digital Wallet",
          "Cash",
          "Credit Card",
          "Cash",
          "Credit Card",
          "Cash",
          "Digital Wallet",
          "Digital Wallet",
          "Credit Card",
          "Cash",
          "Digital Wallet",
          "Cash",
          "Credit Card",
          "Digital Wallet",
          "Credit Card",
          "Digital Wallet",
          "Cash",
          "Credit Card",
          "Credit Card",
          "Digital Wallet",
          "Digital Wallet",
          "Digital Wallet",
          "Credit Card",
          "Digital Wallet",
          "Digital Wallet",
          "Credit Card",
          "Cash",
          "Digital Wallet",
          "Digital Wallet",
          "Cash",
          "Cash",
          "Digital Wallet",
          "Credit Card",
          "Credit Card",
          "Credit Card",
          "Credit Card",
          "Cash",
          "Digital Wallet",
          "Credit Card",
          "Cash",
          "Cash",
          "Digital Wallet",
          "Credit Card",
          "Cash",
          "Credit Card",
          "Cash",
          "Credit Card",
          "Cash",
          "Cash",
          "Digital Wallet",
          "Cash",
          "Credit Card",
          "Digital Wallet",
          "Credit Card",
          "Cash",
          "Cash",
          "Cash",
          "Digital Wallet",
          "Credit Card",
          "Cash",
          "Cash",
          "Credit Card",
          "Credit Card",
          "Credit Card",
          "Cash",
          "Cash",
          "Digital Wallet",
          "Credit Card",
          "Digital Wallet",
          "Cash",
          "Digital Wallet",
          "Digital Wallet",
          "Cash",
          "Digital Wallet",
          "Cash",
          "Credit Card",
          "Digital Wallet",
          "Credit Card",
          "Digital Wallet",
          "Cash",
          "Credit Card",
          "Cash",
          "Credit Card",
          "Cash",
          "Digital Wallet",
          "Credit Card",
          "Credit Card",
          "Cash",
          "Digital Wallet",
          "Digital Wallet",
          "Digital Wallet",
          "Cash",
          "Digital Wallet",
          "Cash",
          "Credit Card",
          "Digital Wallet",
          "Digital Wallet",
          "Cash",
          "Digital Wallet",
          "Cash",
          "Cash",
          "Digital Wallet",
          "Cash",
          "Digital Wallet",
          "Credit Card",
          "Credit Card",
          "Cash",
          "Digital Wallet",
          "Digital Wallet",
          "Credit Card",
          "Digital Wallet",
          "Credit Card",
          "Digital Wallet",
          "Digital Wallet",
          "Cash",
          "Credit Card",
          "Credit Card",
          "Digital Wallet",
          "Credit Card",
          "Cash",
          "Credit Card",
          "Credit Card",
          "Digital Wallet",
          "Digital Wallet",
          "Digital Wallet",
          "Credit Card",
          "Credit Card",
          "Digital Wallet",
          "Credit Card",
          "Digital Wallet",
          "Cash",
          "Credit Card",
          "Cash",
          "Credit Card",
          "Cash",
          "Credit Card",
          "Digital Wallet",
          "Digital Wallet",
          "Digital Wallet",
          "Credit Card",
          "Cash",
          "Credit Card",
          "Cash",
          "Cash",
          "Digital Wallet",
          "Credit Card",
          "Cash",
          "Digital Wallet",
          "Digital Wallet",
          "Cash",
          "Credit Card",
          "Credit Card",
          "Digital Wallet",
          "Credit Card",
          "Digital Wallet",
          "Credit Card",
          "Digital Wallet",
          "Credit Card",
          "Digital Wallet",
          "Credit Card",
          "Digital Wallet",
          "Digital Wallet",
          "Digital Wallet",
          "Digital Wallet",
          "Credit Card",
          "Digital Wallet",
          "Credit Card",
          "Credit Card",
          "Digital Wallet",
          "Digital Wallet",
          "Credit Card",
          "Credit Card",
          "Cash",
          "Digital Wallet",
          "Digital Wallet",
          "Digital Wallet",
          "Credit Card",
          "Credit Card",
          "Cash",
          "Digital Wallet",
          "Digital Wallet",
          "Credit Card",
          "Digital Wallet",
          "Digital Wallet",
          "Credit Card",
          "Digital Wallet",
          "Cash",
          "Cash",
          "Credit Card",
          "Cash",
          "Digital Wallet",
          "Cash",
          "Cash",
          "Cash",
          "Credit Card",
          "Cash",
          "Credit Card",
          "Cash",
          "Digital Wallet",
          "Cash",
          "Credit Card",
          "Digital Wallet",
          "Digital Wallet",
          "Digital Wallet",
          "Cash",
          "Cash",
          "Digital Wallet",
          "Digital Wallet",
          "Digital Wallet",
          "Digital Wallet",
          "Cash",
          "Digital Wallet",
          "Credit Card",
          "Cash",
          "Digital Wallet",
          "Cash",
          "Credit Card",
          "Digital Wallet",
          "Cash",
          "Credit Card",
          "Cash",
          "Cash",
          "Cash",
          "Credit Card",
          "Digital Wallet",
          "Digital Wallet",
          "Digital Wallet",
          "Cash",
          "Credit Card",
          "Credit Card",
          "Digital Wallet",
          "Credit Card",
          "Cash",
          "Credit Card",
          "Credit Card",
          "Cash",
          "Credit Card",
          "Credit Card",
          "Digital Wallet",
          "Cash",
          "Credit Card",
          "Digital Wallet",
          "Digital Wallet",
          "Credit Card",
          "Cash",
          "Digital Wallet",
          "Cash",
          "Cash",
          "Cash",
          "Credit Card",
          "Credit Card",
          "Digital Wallet",
          "Credit Card",
          "Credit Card",
          "Digital Wallet",
          "Digital Wallet",
          "Credit Card",
          "Cash",
          "Digital Wallet",
          "Digital Wallet",
          "Credit Card",
          "Digital Wallet",
          "Digital Wallet",
          "Cash",
          "Credit Card",
          "Digital Wallet",
          "Digital Wallet",
          "Credit Card",
          "Credit Card",
          "Cash",
          "Cash",
          "Cash",
          "Cash",
          "Digital Wallet",
          "Credit Card",
          "Digital Wallet",
          "Credit Card",
          "Cash",
          "Credit Card",
          "Cash",
          "Credit Card",
          "Digital Wallet",
          "Cash",
          "Digital Wallet",
          "Cash",
          "Cash",
          "Cash",
          "Cash",
          "Cash",
          "Cash",
          "Cash",
          "Credit Card",
          "Cash",
          "Credit Card",
          "Digital Wallet",
          "Digital Wallet",
          "Digital Wallet",
          "Credit Card",
          "Cash",
          "Cash",
          "Digital Wallet",
          "Cash",
          "Digital Wallet",
          "Digital Wallet",
          "Credit Card",
          "Credit Card",
          "Cash",
          "Cash",
          "Credit Card",
          "Cash",
          "Credit Card",
          "Digital Wallet",
          "Credit Card",
          "Credit Card",
          "Cash",
          "Credit Card",
          "Credit Card",
          "Digital Wallet",
          "Cash",
          "Cash",
          "Cash",
          "Cash",
          "Credit Card",
          "Credit Card",
          "Credit Card",
          "Digital Wallet",
          "Cash",
          "Digital Wallet",
          "Digital Wallet",
          "Credit Card",
          "Credit Card",
          "Digital Wallet",
          "Credit Card",
          "Credit Card",
          "Credit Card",
          "Credit Card",
          "Digital Wallet",
          "Credit Card",
          "Cash",
          "Digital Wallet",
          "Cash",
          "Cash",
          "Credit Card",
          "Digital Wallet",
          "Digital Wallet",
          "Cash",
          "Digital Wallet",
          "Credit Card",
          "Digital Wallet",
          "Cash",
          "Credit Card",
          "Digital Wallet",
          "Credit Card",
          "Cash",
          "Cash",
          "Cash",
          "Credit Card",
          "Cash",
          "Cash",
          "Credit Card",
          "Credit Card",
          "Digital Wallet",
          "Digital Wallet",
          "Credit Card",
          "Cash",
          "Cash",
          "Credit Card",
          "Credit Card",
          "Digital Wallet",
          "Cash",
          "Cash",
          "Credit Card",
          "Credit Card",
          "Credit Card",
          "Credit Card",
          "Digital Wallet",
          "Cash",
          "Credit Card",
          "Cash",
          "Digital Wallet",
          "Cash",
          "Cash",
          "Digital Wallet",
          "Digital Wallet",
          "Digital Wallet",
          "Credit Card",
          "Cash",
          "Digital Wallet",
          "Credit Card",
          "Credit Card",
          "Digital Wallet",
          "Cash",
          "Credit Card",
          "Cash",
          "Cash",
          "Digital Wallet",
          "Credit Card",
          "Digital Wallet",
          "Credit Card",
          "Credit Card",
          "Digital Wallet",
          "Credit Card",
          "Digital Wallet",
          "Cash",
          "Cash",
          "Credit Card",
          "Credit Card",
          "Credit Card",
          "Credit Card",
          "Cash",
          "Cash",
          "Cash",
          "Cash",
          "Digital Wallet",
          "Digital Wallet",
          "Credit Card",
          "Digital Wallet",
          "Credit Card",
          "Credit Card",
          "Digital Wallet",
          "Digital Wallet",
          "Credit Card",
          "Credit Card",
          "Digital Wallet",
          "Digital Wallet",
          "Cash",
          "Cash",
          "Credit Card",
          "Credit Card",
          "Digital Wallet",
          "Digital Wallet",
          "Cash",
          "Credit Card",
          "Credit Card",
          "Digital Wallet",
          "Digital Wallet",
          "Credit Card",
          "Cash",
          "Cash",
          "Cash",
          "Cash",
          "Cash",
          "Digital Wallet",
          "Credit Card",
          "Digital Wallet",
          "Credit Card",
          "Credit Card",
          "Digital Wallet",
          "Credit Card",
          "Digital Wallet",
          "Cash",
          "Credit Card",
          "Cash",
          "Credit Card",
          "Credit Card",
          "Cash",
          "Cash",
          "Cash",
          "Digital Wallet",
          "Credit Card",
          "Credit Card",
          "Digital Wallet",
          "Credit Card",
          "Digital Wallet",
          "Cash",
          "Credit Card",
          "Credit Card",
          "Cash",
          "Credit Card",
          "Cash",
          "Credit Card",
          "Credit Card",
          "Digital Wallet",
          "Cash",
          "Credit Card",
          "Cash",
          "Digital Wallet",
          "Credit Card",
          "Credit Card",
          "Credit Card",
          "Digital Wallet",
          "Credit Card",
          "Cash",
          "Digital Wallet",
          "Credit Card",
          "Cash",
          "Digital Wallet",
          "Digital Wallet",
          "Cash",
          "Digital Wallet",
          "Digital Wallet",
          "Digital Wallet",
          "Digital Wallet",
          "Digital Wallet",
          "Credit Card",
          "Credit Card",
          "Credit Card",
          "Cash",
          "Credit Card",
          "Digital Wallet",
          "Cash",
          "Cash",
          "Cash",
          "Cash",
          "Digital Wallet",
          "Digital Wallet",
          "Cash",
          "Cash",
          "Credit Card",
          "Cash",
          "Cash",
          "Cash",
          "Digital Wallet",
          "Credit Card",
          "Cash",
          "Cash",
          "Credit Card",
          "Credit Card",
          "Credit Card",
          "Cash",
          "Cash",
          "Digital Wallet",
          "Cash",
          "Cash",
          "Cash",
          "Digital Wallet",
          "Digital Wallet",
          "Cash",
          "Cash",
          "Digital Wallet",
          "Cash",
          "Credit Card",
          "Digital Wallet",
          "Cash",
          "Credit Card",
          "Credit Card",
          "Digital Wallet",
          "Credit Card",
          "Credit Card",
          "Digital Wallet",
          "Credit Card",
          "Digital Wallet",
          "Cash",
          "Cash",
          "Credit Card",
          "Digital Wallet",
          "Cash",
          "Credit Card",
          "Digital Wallet",
          "Cash",
          "Digital Wallet",
          "Digital Wallet",
          "Digital Wallet",
          "Cash",
          "Digital Wallet",
          "Credit Card",
          "Cash",
          "Cash",
          "Digital Wallet",
          "Cash",
          "Digital Wallet",
          "Cash",
          "Credit Card",
          "Cash",
          "Digital Wallet",
          "Cash",
          "Digital Wallet",
          "Cash",
          "Credit Card",
          "Cash",
          "Cash",
          "Cash",
          "Digital Wallet",
          "Digital Wallet",
          "Cash",
          "Cash",
          "Cash",
          "Digital Wallet",
          "Cash",
          "Cash",
          "Digital Wallet",
          "Cash",
          "Digital Wallet",
          "Credit Card",
          "Digital Wallet",
          "Cash",
          "Credit Card",
          "Cash",
          "Cash",
          "Cash",
          "Digital Wallet",
          "Digital Wallet",
          "Credit Card",
          "Credit Card",
          "Digital Wallet",
          "Credit Card",
          "Digital Wallet",
          "Cash",
          "Digital Wallet",
          "Digital Wallet",
          "Credit Card",
          "Cash",
          "Digital Wallet",
          "Digital Wallet",
          "Cash",
          "Digital Wallet",
          "Cash",
          "Cash",
          "Cash",
          "Digital Wallet",
          "Credit Card",
          "Digital Wallet",
          "Credit Card",
          "Credit Card",
          "Digital Wallet",
          "Credit Card",
          "Cash",
          "Digital Wallet",
          "Digital Wallet",
          "Credit Card",
          "Cash",
          "Digital Wallet",
          "Digital Wallet",
          "Cash",
          "Digital Wallet",
          "Cash",
          "Cash",
          "Digital Wallet",
          "Digital Wallet",
          "Digital Wallet",
          "Credit Card",
          "Credit Card",
          "Digital Wallet",
          "Credit Card",
          "Digital Wallet",
          "Digital Wallet",
          "Credit Card",
          "Digital Wallet",
          "Digital Wallet",
          "Credit Card",
          "Digital Wallet",
          "Cash",
          "Credit Card",
          "Cash",
          "Digital Wallet",
          "Credit Card",
          "Digital Wallet",
          "Credit Card",
          "Credit Card",
          "Cash",
          "Cash",
          "Credit Card",
          "Cash",
          "Cash",
          "Digital Wallet",
          "Digital Wallet",
          "Cash",
          "Digital Wallet",
          "Cash",
          "Digital Wallet",
          "Cash",
          "Digital Wallet",
          "Digital Wallet",
          "Digital Wallet",
          "Digital Wallet",
          "Cash",
          "Credit Card",
          "Digital Wallet",
          "Cash",
          "Cash",
          "Cash",
          "Cash",
          "Digital Wallet",
          "Digital Wallet",
          "Credit Card",
          "Credit Card",
          "Digital Wallet",
          "Credit Card",
          "Cash",
          "Digital Wallet",
          "Credit Card",
          "Digital Wallet",
          "Cash",
          "Digital Wallet",
          "Digital Wallet",
          "Cash",
          "Credit Card",
          "Digital Wallet",
          "Credit Card",
          "Digital Wallet",
          "Credit Card",
          "Digital Wallet",
          "Credit Card",
          "Credit Card",
          "Digital Wallet",
          "Digital Wallet",
          "Digital Wallet",
          "Credit Card",
          "Credit Card",
          "Digital Wallet",
          "Digital Wallet",
          "Digital Wallet",
          "Digital Wallet",
          "Cash",
          "Digital Wallet",
          "Digital Wallet",
          "Credit Card",
          "Credit Card",
          "Credit Card",
          "Cash",
          "Cash",
          "Digital Wallet",
          "Credit Card",
          "Cash",
          "Credit Card",
          "Credit Card",
          "Cash",
          "Cash",
          "Digital Wallet",
          "Credit Card",
          "Digital Wallet",
          "Digital Wallet",
          "Digital Wallet",
          "Digital Wallet",
          "Digital Wallet",
          "Cash",
          "Cash",
          "Credit Card",
          "Cash",
          "Cash",
          "Cash",
          "Credit Card",
          "Credit Card",
          "Cash",
          "Digital Wallet",
          "Digital Wallet",
          "Digital Wallet",
          "Cash",
          "Digital Wallet",
          "Digital Wallet",
          "Digital Wallet",
          "Cash",
          "Credit Card",
          "Credit Card",
          "Credit Card",
          "Cash",
          "Cash",
          "Credit Card",
          "Digital Wallet",
          "Credit Card",
          "Credit Card",
          "Cash",
          "Cash",
          "Digital Wallet",
          "Credit Card",
          "Digital Wallet",
          "Credit Card",
          "Cash",
          "Digital Wallet",
          "Digital Wallet",
          "Cash",
          "Credit Card",
          "Credit Card",
          "Cash",
          "Digital Wallet",
          "Cash",
          "Credit Card",
          "Cash",
          "Cash",
          "Credit Card",
          "Credit Card",
          "Credit Card",
          "Credit Card",
          "Cash",
          "Cash",
          "Digital Wallet",
          "Digital Wallet",
          "Digital Wallet",
          "Cash",
          "Credit Card",
          "Cash",
          "Credit Card",
          "Cash",
          "Credit Card",
          "Cash",
          "Cash",
          "Credit Card",
          "Credit Card",
          "Digital Wallet",
          "Digital Wallet",
          "Digital Wallet",
          "Digital Wallet",
          "Credit Card",
          "Cash",
          "Cash",
          "Cash",
          "Cash",
          "Digital Wallet",
          "Cash",
          "Credit Card",
          "Credit Card",
          "Cash",
          "Credit Card",
          "Cash",
          "Digital Wallet",
          "Digital Wallet",
          "Credit Card",
          "Digital Wallet",
          "Credit Card",
          "Credit Card",
          "Digital Wallet",
          "Cash",
          "Cash",
          "Cash",
          "Cash",
          "Digital Wallet",
          "Credit Card",
          "Digital Wallet",
          "Digital Wallet",
          "Cash",
          "Cash",
          "Digital Wallet",
          "Credit Card",
          "Digital Wallet",
          "Credit Card",
          "Credit Card",
          "Digital Wallet",
          "Credit Card",
          "Digital Wallet",
          "Cash",
          "Digital Wallet",
          "Digital Wallet",
          "Cash",
          "Digital Wallet",
          "Cash",
          "Digital Wallet",
          "Digital Wallet",
          "Cash",
          "Cash",
          "Credit Card",
          "Cash",
          "Cash",
          "Credit Card",
          "Credit Card",
          "Credit Card",
          "Digital Wallet",
          "Credit Card",
          "Cash",
          "Digital Wallet",
          "Digital Wallet",
          "Digital Wallet",
          "Cash",
          "Credit Card",
          "Credit Card",
          "Credit Card",
          "Credit Card",
          "Digital Wallet",
          "Cash",
          "Cash",
          "Digital Wallet",
          "Cash",
          "Credit Card",
          "Cash",
          "Credit Card",
          "Credit Card",
          "Cash",
          "Digital Wallet",
          "Digital Wallet",
          "Cash",
          "Cash",
          "Cash",
          "Credit Card",
          "Digital Wallet",
          "Cash",
          "Credit Card",
          "Cash",
          "Credit Card",
          "Cash",
          "Credit Card",
          "Credit Card",
          "Digital Wallet",
          "Cash",
          "Cash",
          "Credit Card",
          "Credit Card",
          "Credit Card",
          "Digital Wallet",
          "Cash",
          "Credit Card",
          "Credit Card",
          "Digital Wallet",
          "Digital Wallet",
          "Cash",
          "Cash",
          "Digital Wallet",
          "Digital Wallet",
          "Digital Wallet",
          "Credit Card",
          "Cash",
          "Cash",
          "Credit Card",
          "Digital Wallet",
          "Credit Card",
          "Credit Card",
          "Digital Wallet",
          "Cash",
          "Credit Card",
          "Digital Wallet",
          "Credit Card",
          "Credit Card",
          "Digital Wallet",
          "Cash",
          "Cash",
          "Credit Card",
          "Credit Card",
          "Digital Wallet",
          "Cash",
          "Cash",
          "Cash",
          "Digital Wallet",
          "Credit Card",
          "Digital Wallet",
          "Digital Wallet",
          "Credit Card",
          "Cash",
          "Digital Wallet",
          "Credit Card",
          "Cash",
          "Cash",
          "Digital Wallet",
          "Cash",
          "Cash",
          "Cash",
          "Digital Wallet",
          "Digital Wallet",
          "Credit Card",
          "Credit Card",
          "Cash",
          "Credit Card",
          "Digital Wallet",
          "Digital Wallet",
          "Digital Wallet",
          "Digital Wallet",
          "Cash",
          "Digital Wallet",
          "Credit Card",
          "Digital Wallet",
          "Digital Wallet",
          "Digital Wallet",
          "Digital Wallet",
          "Credit Card",
          "Digital Wallet",
          "Credit Card",
          "Digital Wallet",
          "Digital Wallet",
          "Credit Card",
          "Digital Wallet",
          "Digital Wallet",
          "Cash",
          "Credit Card",
          "Cash",
          "Cash",
          "Digital Wallet",
          "Credit Card",
          "Credit Card",
          "Cash",
          "Cash",
          "Cash",
          "Credit Card",
          "Cash",
          "Digital Wallet",
          "Credit Card",
          "Digital Wallet",
          "Credit Card",
          "Credit Card",
          "Digital Wallet",
          "Digital Wallet",
          "Credit Card",
          "Credit Card",
          "Cash",
          "Digital Wallet",
          "Credit Card",
          "Cash",
          "Credit Card",
          "Cash",
          "Digital Wallet",
          "Digital Wallet",
          "Digital Wallet",
          "Digital Wallet",
          "Cash",
          "Digital Wallet",
          "Credit Card",
          "Cash",
          "Cash",
          "Credit Card",
          "Digital Wallet",
          "Credit Card",
          "Cash",
          "Digital Wallet",
          "Credit Card",
          "Cash",
          "Digital Wallet",
          "Credit Card",
          "Digital Wallet",
          "Cash",
          "Digital Wallet",
          "Credit Card",
          "Digital Wallet",
          "Digital Wallet",
          "Digital Wallet",
          "Cash",
          "Digital Wallet",
          "Digital Wallet",
          "Digital Wallet",
          "Digital Wallet",
          "Credit Card",
          "Credit Card",
          "Digital Wallet",
          "Cash",
          "Cash",
          "Credit Card",
          "Credit Card",
          "Cash",
          "Digital Wallet",
          "Digital Wallet",
          "Digital Wallet",
          "Cash",
          "Digital Wallet",
          "Credit Card",
          "Cash",
          "Digital Wallet",
          "Credit Card",
          "Credit Card",
          "Digital Wallet",
          "Cash",
          "Credit Card",
          "Cash",
          "Credit Card",
          "Credit Card",
          "Digital Wallet",
          "Digital Wallet",
          "Credit Card",
          "Digital Wallet",
          "Credit Card",
          "Credit Card",
          "Cash",
          "Digital Wallet",
          "Credit Card",
          "Digital Wallet",
          "Digital Wallet",
          "Digital Wallet",
          "Credit Card",
          "Credit Card",
          "Cash",
          "Digital Wallet",
          "Cash",
          "Credit Card",
          "Digital Wallet",
          "Credit Card",
          "Digital Wallet",
          "Digital Wallet",
          "Digital Wallet",
          "Digital Wallet",
          "Credit Card",
          "Cash",
          "Digital Wallet",
          "Cash",
          "Credit Card",
          "Cash",
          "Credit Card",
          "Digital Wallet",
          "Digital Wallet",
          "Cash",
          "Credit Card",
          "Cash",
          "Credit Card",
          "Digital Wallet",
          "Digital Wallet",
          "Credit Card",
          "Digital Wallet",
          "Cash",
          "Digital Wallet",
          "Cash",
          "Digital Wallet",
          "Credit Card",
          "Cash",
          "Credit Card",
          "Credit Card",
          "Digital Wallet",
          "Credit Card",
          "Cash",
          "Cash",
          "Credit Card",
          "Credit Card",
          "Credit Card",
          "Cash",
          "Cash",
          "Cash",
          "Credit Card",
          "Cash",
          "Digital Wallet",
          "Digital Wallet",
          "Credit Card",
          "Cash",
          "Digital Wallet",
          "Digital Wallet",
          "Digital Wallet",
          "Credit Card",
          "Digital Wallet",
          "Cash",
          "Credit Card",
          "Credit Card",
          "Digital Wallet",
          "Credit Card",
          "Credit Card",
          "Cash",
          "Cash",
          "Credit Card",
          "Credit Card",
          "Cash",
          "Credit Card",
          "Cash",
          "Credit Card",
          "Cash",
          "Digital Wallet",
          "Cash",
          "Digital Wallet",
          "Cash",
          "Credit Card",
          "Credit Card",
          "Credit Card",
          "Credit Card",
          "Credit Card",
          "Credit Card",
          "Cash",
          "Digital Wallet",
          "Digital Wallet",
          "Digital Wallet",
          "Digital Wallet",
          "Cash",
          "Digital Wallet",
          "Cash",
          "Credit Card",
          "Digital Wallet",
          "Credit Card",
          "Credit Card",
          "Credit Card",
          "Digital Wallet",
          "Credit Card",
          "Cash",
          "Credit Card",
          "Digital Wallet",
          "Credit Card",
          "Digital Wallet",
          "Credit Card",
          "Cash",
          "Cash",
          "Credit Card",
          "Credit Card",
          "Credit Card",
          "Digital Wallet",
          "Digital Wallet",
          "Cash",
          "Credit Card",
          "Digital Wallet",
          "Credit Card",
          "Digital Wallet",
          "Digital Wallet",
          "Digital Wallet",
          "Cash",
          "Cash",
          "Cash",
          "Credit Card",
          "Cash",
          "Credit Card",
          "Digital Wallet",
          "Credit Card",
          "Digital Wallet",
          "Credit Card",
          "Cash",
          "Digital Wallet",
          "Cash",
          "Cash",
          "Digital Wallet",
          "Credit Card",
          "Digital Wallet",
          "Cash",
          "Digital Wallet",
          "Digital Wallet",
          "Cash",
          "Digital Wallet",
          "Cash",
          "Credit Card",
          "Credit Card",
          "Digital Wallet",
          "Cash",
          "Credit Card",
          "Digital Wallet",
          "Credit Card",
          "Credit Card",
          "Digital Wallet",
          "Digital Wallet",
          "Cash",
          "Cash",
          "Digital Wallet",
          "Digital Wallet",
          "Credit Card",
          "Cash",
          "Credit Card",
          "Credit Card",
          "Cash",
          "Cash",
          "Credit Card",
          "Cash",
          "Digital Wallet",
          "Cash",
          "Cash",
          "Digital Wallet",
          "Credit Card",
          "Cash",
          "Credit Card",
          "Credit Card",
          "Digital Wallet",
          "Digital Wallet",
          "Digital Wallet",
          "Credit Card",
          "Cash",
          "Digital Wallet",
          "Cash",
          "Credit Card",
          "Cash",
          "Digital Wallet",
          "Credit Card",
          "Digital Wallet",
          "Credit Card",
          "Digital Wallet",
          "Credit Card",
          "Cash",
          "Cash",
          "Cash",
          "Digital Wallet",
          "Credit Card",
          "Digital Wallet",
          "Cash",
          "Digital Wallet",
          "Cash",
          "Digital Wallet",
          "Digital Wallet",
          "Cash",
          "Digital Wallet",
          "Credit Card",
          "Credit Card",
          "Digital Wallet",
          "Digital Wallet",
          "Digital Wallet",
          "Digital Wallet",
          "Credit Card",
          "Cash",
          "Digital Wallet",
          "Cash",
          "Digital Wallet",
          "Credit Card",
          "Cash",
          "Digital Wallet",
          "Digital Wallet",
          "Digital Wallet",
          "Credit Card",
          "Credit Card",
          "Digital Wallet",
          "Digital Wallet",
          "Digital Wallet",
          "Credit Card",
          "Digital Wallet",
          "Digital Wallet",
          "Credit Card",
          "Cash",
          "Credit Card",
          "Credit Card",
          "Credit Card",
          "Credit Card",
          "Digital Wallet",
          "Digital Wallet",
          "Cash",
          "Cash",
          "Cash",
          "Credit Card",
          "Credit Card",
          "Digital Wallet",
          "Cash",
          "Credit Card",
          "Digital Wallet",
          "Credit Card",
          "Cash",
          "Cash",
          "Digital Wallet",
          "Credit Card",
          "Digital Wallet",
          "Digital Wallet",
          "Digital Wallet",
          "Credit Card",
          "Cash",
          "Cash",
          "Cash",
          "Digital Wallet",
          "Credit Card",
          "Digital Wallet",
          "Cash",
          "Digital Wallet",
          "Cash",
          "Digital Wallet",
          "Cash",
          "Cash",
          "Credit Card",
          "Digital Wallet",
          "Credit Card",
          "Digital Wallet",
          "Credit Card",
          "Credit Card",
          "Digital Wallet",
          "Cash",
          "Digital Wallet",
          "Credit Card",
          "Cash",
          "Digital Wallet",
          "Credit Card",
          "Digital Wallet",
          "Cash",
          "Digital Wallet",
          "Digital Wallet",
          "Credit Card",
          "Digital Wallet",
          "Credit Card",
          "Cash",
          "Credit Card",
          "Digital Wallet",
          "Cash",
          "Cash",
          "Credit Card",
          "Digital Wallet",
          "Digital Wallet",
          "Credit Card",
          "Credit Card",
          "Cash",
          "Cash",
          "Credit Card",
          "Credit Card",
          "Digital Wallet",
          "Digital Wallet",
          "Digital Wallet",
          "Digital Wallet",
          "Cash",
          "Credit Card",
          "Cash",
          "Digital Wallet",
          "Digital Wallet",
          "Cash",
          "Cash",
          "Cash",
          "Digital Wallet",
          "Digital Wallet",
          "Credit Card",
          "Cash",
          "Digital Wallet",
          "Digital Wallet",
          "Credit Card",
          "Digital Wallet",
          "Credit Card",
          "Cash",
          "Cash",
          "Credit Card",
          "Cash",
          "Digital Wallet",
          "Credit Card",
          "Credit Card",
          "Credit Card",
          "Digital Wallet",
          "Credit Card",
          "Credit Card",
          "Cash",
          "Digital Wallet",
          "Digital Wallet",
          "Credit Card",
          "Cash",
          "Digital Wallet",
          "Cash",
          "Cash",
          "Digital Wallet",
          "Digital Wallet",
          "Credit Card",
          "Cash",
          "Credit Card",
          "Cash",
          "Credit Card",
          "Credit Card",
          "Cash",
          "Credit Card",
          "Cash",
          "Cash",
          "Credit Card",
          "Digital Wallet",
          "Digital Wallet",
          "Digital Wallet",
          "Cash",
          "Credit Card",
          "Cash",
          "Credit Card",
          "Digital Wallet",
          "Credit Card",
          "Digital Wallet",
          "Digital Wallet",
          "Credit Card",
          "Cash",
          "Credit Card",
          "Credit Card",
          "Cash",
          "Cash",
          "Credit Card",
          "Digital Wallet",
          "Cash",
          "Credit Card",
          "Credit Card",
          "Credit Card",
          "Digital Wallet",
          "Digital Wallet",
          "Cash",
          "Credit Card",
          "Digital Wallet",
          "Digital Wallet",
          "Credit Card",
          "Cash",
          "Cash",
          "Credit Card",
          "Cash",
          "Cash",
          "Digital Wallet",
          "Digital Wallet",
          "Credit Card",
          "Credit Card",
          "Cash",
          "Digital Wallet",
          "Digital Wallet",
          "Cash",
          "Cash",
          "Cash",
          "Cash",
          "Credit Card",
          "Digital Wallet",
          "Credit Card",
          "Digital Wallet",
          "Credit Card",
          "Cash",
          "Credit Card",
          "Credit Card",
          "Credit Card",
          "Cash",
          "Cash",
          "Digital Wallet",
          "Cash",
          "Cash",
          "Cash",
          "Digital Wallet",
          "Cash",
          "Credit Card",
          "Digital Wallet",
          "Credit Card",
          "Digital Wallet",
          "Cash",
          "Cash",
          "Cash",
          "Credit Card",
          "Credit Card",
          "Credit Card",
          "Credit Card",
          "Credit Card",
          "Credit Card",
          "Credit Card",
          "Cash",
          "Credit Card",
          "Digital Wallet",
          "Digital Wallet",
          "Cash",
          "Digital Wallet",
          "Digital Wallet",
          "Cash",
          "Credit Card",
          "Cash",
          "Cash",
          "Digital Wallet",
          "Credit Card",
          "Digital Wallet",
          "Credit Card",
          "Digital Wallet",
          "Digital Wallet",
          "Credit Card",
          "Credit Card",
          "Credit Card",
          "Cash",
          "Credit Card",
          "Credit Card",
          "Credit Card",
          "Cash",
          "Cash",
          "Credit Card",
          "Cash",
          "Cash",
          "Credit Card",
          "Cash",
          "Cash",
          "Digital Wallet",
          "Credit Card",
          "Cash",
          "Digital Wallet",
          "Digital Wallet",
          "Cash",
          "Cash",
          "Digital Wallet",
          "Digital Wallet",
          "Cash",
          "Digital Wallet",
          "Cash",
          "Cash",
          "Credit Card",
          "Credit Card",
          "Digital Wallet",
          "Credit Card",
          "Credit Card",
          "Cash",
          "Digital Wallet",
          "Credit Card",
          "Digital Wallet",
          "Credit Card",
          "Cash",
          "Digital Wallet",
          "Credit Card",
          "Credit Card",
          "Credit Card",
          "Digital Wallet",
          "Cash",
          "Digital Wallet",
          "Cash",
          "Cash",
          "Cash",
          "Digital Wallet",
          "Digital Wallet",
          "Digital Wallet",
          "Credit Card",
          "Cash",
          "Cash",
          "Cash",
          "Cash",
          "Credit Card",
          "Digital Wallet",
          "Digital Wallet",
          "Cash",
          "Digital Wallet",
          "Cash",
          "Credit Card",
          "Digital Wallet",
          "Cash",
          "Cash",
          "Cash",
          "Credit Card",
          "Cash",
          "Credit Card",
          "Credit Card",
          "Cash",
          "Credit Card",
          "Digital Wallet",
          "Cash",
          "Credit Card",
          "Credit Card",
          "Digital Wallet",
          "Digital Wallet",
          "Credit Card",
          "Cash",
          "Cash",
          "Credit Card",
          "Cash",
          "Credit Card",
          "Credit Card",
          "Cash",
          "Digital Wallet",
          "Cash",
          "Cash",
          "Cash",
          "Digital Wallet",
          "Digital Wallet",
          "Cash",
          "Cash",
          "Credit Card",
          "Cash",
          "Credit Card",
          "Cash",
          "Digital Wallet",
          "Credit Card",
          "Credit Card",
          "Digital Wallet",
          "Digital Wallet",
          "Cash",
          "Credit Card",
          "Credit Card",
          "Digital Wallet",
          "Credit Card",
          "Cash",
          "Cash",
          "Credit Card",
          "Credit Card",
          "Cash",
          "Cash",
          "Digital Wallet",
          "Digital Wallet",
          "Credit Card",
          "Digital Wallet",
          "Digital Wallet",
          "Digital Wallet",
          "Cash",
          "Cash",
          "Cash",
          "Cash",
          "Digital Wallet",
          "Digital Wallet",
          "Cash",
          "Cash",
          "Cash",
          "Digital Wallet",
          "Digital Wallet",
          "Digital Wallet",
          "Credit Card",
          "Digital Wallet",
          "Credit Card",
          "Cash",
          "Credit Card",
          "Credit Card",
          "Digital Wallet",
          "Cash",
          "Credit Card",
          "Digital Wallet",
          "Cash",
          "Cash",
          "Digital Wallet",
          "Cash",
          "Digital Wallet",
          "Cash",
          "Credit Card",
          "Digital Wallet",
          "Credit Card",
          "Cash",
          "Cash",
          "Credit Card",
          "Digital Wallet",
          "Cash",
          "Digital Wallet",
          "Credit Card",
          "Digital Wallet",
          "Digital Wallet",
          "Credit Card",
          "Digital Wallet",
          "Cash",
          "Cash",
          "Digital Wallet",
          "Digital Wallet",
          "Credit Card",
          "Credit Card",
          "Credit Card",
          "Digital Wallet",
          "Digital Wallet",
          "Digital Wallet",
          "Digital Wallet",
          "Credit Card",
          "Credit Card",
          "Credit Card",
          "Digital Wallet",
          "Digital Wallet",
          "Credit Card",
          "Digital Wallet",
          "Credit Card",
          "Digital Wallet",
          "Cash",
          "Cash",
          "Credit Card",
          "Cash",
          "Digital Wallet",
          "Digital Wallet",
          "Cash",
          "Cash",
          "Cash",
          "Cash",
          "Credit Card",
          "Cash",
          "Credit Card",
          "Cash",
          "Credit Card",
          "Cash",
          "Credit Card",
          "Cash",
          "Digital Wallet",
          "Credit Card",
          "Cash",
          "Cash",
          "Digital Wallet",
          "Digital Wallet",
          "Cash",
          "Cash",
          "Cash",
          "Digital Wallet",
          "Digital Wallet",
          "Digital Wallet",
          "Cash",
          "Cash",
          "Cash",
          "Digital Wallet",
          "Credit Card",
          "Cash",
          "Credit Card",
          "Cash",
          "Credit Card",
          "Credit Card",
          "Cash",
          "Cash",
          "Credit Card",
          "Cash",
          "Cash",
          "Digital Wallet",
          "Digital Wallet",
          "Digital Wallet",
          "Credit Card",
          "Digital Wallet",
          "Digital Wallet",
          "Cash",
          "Digital Wallet",
          "Cash",
          "Cash",
          "Digital Wallet",
          "Digital Wallet",
          "Cash",
          "Credit Card",
          "Cash",
          "Cash",
          "Digital Wallet",
          "Cash",
          "Credit Card",
          "Credit Card",
          "Cash",
          "Digital Wallet",
          "Credit Card",
          "Digital Wallet",
          "Credit Card",
          "Credit Card",
          "Cash",
          "Cash",
          "Digital Wallet",
          "Cash",
          "Credit Card",
          "Cash",
          "Credit Card",
          "Cash",
          "Credit Card",
          "Digital Wallet",
          "Credit Card",
          "Credit Card",
          "Credit Card",
          "Cash",
          "Digital Wallet",
          "Digital Wallet",
          "Digital Wallet",
          "Digital Wallet",
          "Digital Wallet",
          "Digital Wallet",
          "Credit Card",
          "Digital Wallet",
          "Digital Wallet",
          "Digital Wallet",
          "Digital Wallet",
          "Credit Card",
          "Cash",
          "Cash",
          "Credit Card",
          "Cash",
          "Credit Card",
          "Digital Wallet",
          "Credit Card",
          "Credit Card",
          "Credit Card",
          "Cash",
          "Cash",
          "Cash",
          "Credit Card",
          "Credit Card",
          "Digital Wallet",
          "Digital Wallet",
          "Cash",
          "Credit Card",
          "Digital Wallet",
          "Cash",
          "Credit Card",
          "Cash",
          "Credit Card",
          "Credit Card",
          "Credit Card",
          "Cash",
          "Digital Wallet",
          "Digital Wallet",
          "Digital Wallet",
          "Credit Card",
          "Digital Wallet",
          "Digital Wallet",
          "Credit Card",
          "Digital Wallet",
          "Credit Card",
          "Cash",
          "Cash",
          "Digital Wallet",
          "Digital Wallet",
          "Credit Card",
          "Cash",
          "Digital Wallet",
          "Cash",
          "Digital Wallet",
          "Cash",
          "Digital Wallet",
          "Cash",
          "Cash",
          "Cash",
          "Digital Wallet",
          "Credit Card",
          "Credit Card",
          "Cash",
          "Digital Wallet",
          "Digital Wallet",
          "Cash",
          "Digital Wallet",
          "Digital Wallet",
          "Digital Wallet",
          "Digital Wallet",
          "Digital Wallet",
          "Credit Card",
          "Digital Wallet",
          "Cash",
          "Digital Wallet",
          "Credit Card",
          "Credit Card",
          "Digital Wallet",
          "Credit Card",
          "Credit Card",
          "Cash",
          "Credit Card",
          "Cash",
          "Credit Card",
          "Cash",
          "Credit Card",
          "Cash",
          "Credit Card",
          "Credit Card",
          "Credit Card",
          "Credit Card",
          "Digital Wallet",
          "Credit Card",
          "Digital Wallet",
          "Cash",
          "Credit Card",
          "Cash",
          "Credit Card",
          "Cash",
          "Digital Wallet",
          "Digital Wallet",
          "Credit Card",
          "Cash",
          "Credit Card",
          "Digital Wallet",
          "Credit Card",
          "Credit Card",
          "Credit Card",
          "Credit Card",
          "Credit Card",
          "Cash",
          "Cash",
          "Credit Card",
          "Cash",
          "Digital Wallet",
          "Credit Card",
          "Cash",
          "Digital Wallet",
          "Cash",
          "Credit Card",
          "Digital Wallet",
          "Digital Wallet",
          "Cash",
          "Credit Card",
          "Credit Card",
          "Cash",
          "Cash",
          "Digital Wallet",
          "Digital Wallet",
          "Digital Wallet",
          "Cash",
          "Digital Wallet",
          "Credit Card",
          "Cash",
          "Cash",
          "Digital Wallet",
          "Cash",
          "Cash",
          "Digital Wallet",
          "Credit Card",
          "Cash",
          "Credit Card",
          "Digital Wallet",
          "Digital Wallet",
          "Cash",
          "Cash",
          "Credit Card",
          "Cash",
          "Digital Wallet",
          "Credit Card",
          "Cash",
          "Cash",
          "Cash",
          "Credit Card",
          "Cash",
          "Digital Wallet",
          "Cash",
          "Cash",
          "Digital Wallet",
          "Cash",
          "Digital Wallet",
          "Cash",
          "Credit Card",
          "Digital Wallet",
          "Credit Card",
          "Credit Card",
          "Credit Card",
          "Digital Wallet",
          "Credit Card",
          "Digital Wallet",
          "Digital Wallet",
          "Digital Wallet",
          "Cash",
          "Credit Card",
          "Cash",
          "Digital Wallet",
          "Credit Card",
          "Digital Wallet",
          "Credit Card",
          "Digital Wallet",
          "Cash",
          "Cash",
          "Cash",
          "Digital Wallet",
          "Digital Wallet",
          "Digital Wallet",
          "Cash",
          "Cash",
          "Cash",
          "Cash",
          "Digital Wallet",
          "Cash",
          "Cash",
          "Cash",
          "Digital Wallet",
          "Digital Wallet",
          "Cash",
          "Digital Wallet",
          "Cash",
          "Cash",
          "Digital Wallet",
          "Cash",
          "Cash",
          "Cash",
          "Credit Card",
          "Cash",
          "Credit Card",
          "Digital Wallet",
          "Credit Card",
          "Digital Wallet",
          "Credit Card",
          "Credit Card",
          "Credit Card",
          "Cash",
          "Credit Card",
          "Credit Card",
          "Digital Wallet",
          "Credit Card",
          "Credit Card",
          "Digital Wallet",
          "Cash",
          "Credit Card",
          "Digital Wallet",
          "Credit Card",
          "Digital Wallet",
          "Cash",
          "Credit Card",
          "Cash",
          "Cash",
          "Cash",
          "Cash",
          "Credit Card",
          "Digital Wallet",
          "Digital Wallet",
          "Digital Wallet",
          "Credit Card",
          "Digital Wallet",
          "Cash",
          "Cash",
          "Digital Wallet",
          "Cash",
          "Cash",
          "Cash",
          "Credit Card",
          "Credit Card",
          "Digital Wallet",
          "Credit Card",
          "Cash",
          "Credit Card",
          "Credit Card",
          "Cash",
          "Digital Wallet",
          "Credit Card",
          "Cash",
          "Credit Card",
          "Cash",
          "Credit Card",
          "Digital Wallet",
          "Digital Wallet",
          "Digital Wallet",
          "Digital Wallet",
          "Credit Card",
          "Digital Wallet",
          "Credit Card",
          "Credit Card",
          "Digital Wallet",
          "Digital Wallet",
          "Digital Wallet",
          "Credit Card",
          "Credit Card",
          "Cash",
          "Credit Card",
          "Cash",
          "Digital Wallet",
          "Credit Card",
          "Digital Wallet",
          "Cash",
          "Digital Wallet",
          "Credit Card",
          "Cash",
          "Digital Wallet",
          "Digital Wallet",
          "Cash",
          "Digital Wallet",
          "Digital Wallet",
          "Digital Wallet",
          "Cash",
          "Cash",
          "Cash",
          "Digital Wallet",
          "Cash",
          "Credit Card",
          "Digital Wallet",
          "Cash",
          "Credit Card",
          "Digital Wallet",
          "Digital Wallet",
          "Digital Wallet",
          "Cash",
          "Cash",
          "Cash",
          "Digital Wallet",
          "Credit Card",
          "Digital Wallet",
          "Digital Wallet",
          "Credit Card",
          "Digital Wallet",
          "Credit Card",
          "Digital Wallet",
          "Cash",
          "Credit Card",
          "Digital Wallet",
          "Digital Wallet",
          "Cash",
          "Digital Wallet",
          "Credit Card",
          "Cash",
          "Cash",
          "Credit Card",
          "Digital Wallet",
          "Cash",
          "Digital Wallet",
          "Cash",
          "Cash",
          "Cash",
          "Cash",
          "Cash",
          "Cash",
          "Credit Card",
          "Cash",
          "Cash"
         ],
         "legendgroup": "",
         "name": "",
         "showlegend": true,
         "type": "pie"
        }
       ],
       "layout": {
        "legend": {
         "tracegroupgap": 0
        },
        "margin": {
         "t": 60
        },
        "piecolorway": [
         "purple"
        ],
        "template": {
         "data": {
          "bar": [
           {
            "error_x": {
             "color": "#2a3f5f"
            },
            "error_y": {
             "color": "#2a3f5f"
            },
            "marker": {
             "line": {
              "color": "#E5ECF6",
              "width": 0.5
             },
             "pattern": {
              "fillmode": "overlay",
              "size": 10,
              "solidity": 0.2
             }
            },
            "type": "bar"
           }
          ],
          "barpolar": [
           {
            "marker": {
             "line": {
              "color": "#E5ECF6",
              "width": 0.5
             },
             "pattern": {
              "fillmode": "overlay",
              "size": 10,
              "solidity": 0.2
             }
            },
            "type": "barpolar"
           }
          ],
          "carpet": [
           {
            "aaxis": {
             "endlinecolor": "#2a3f5f",
             "gridcolor": "white",
             "linecolor": "white",
             "minorgridcolor": "white",
             "startlinecolor": "#2a3f5f"
            },
            "baxis": {
             "endlinecolor": "#2a3f5f",
             "gridcolor": "white",
             "linecolor": "white",
             "minorgridcolor": "white",
             "startlinecolor": "#2a3f5f"
            },
            "type": "carpet"
           }
          ],
          "choropleth": [
           {
            "colorbar": {
             "outlinewidth": 0,
             "ticks": ""
            },
            "type": "choropleth"
           }
          ],
          "contour": [
           {
            "colorbar": {
             "outlinewidth": 0,
             "ticks": ""
            },
            "colorscale": [
             [
              0,
              "#0d0887"
             ],
             [
              0.1111111111111111,
              "#46039f"
             ],
             [
              0.2222222222222222,
              "#7201a8"
             ],
             [
              0.3333333333333333,
              "#9c179e"
             ],
             [
              0.4444444444444444,
              "#bd3786"
             ],
             [
              0.5555555555555556,
              "#d8576b"
             ],
             [
              0.6666666666666666,
              "#ed7953"
             ],
             [
              0.7777777777777778,
              "#fb9f3a"
             ],
             [
              0.8888888888888888,
              "#fdca26"
             ],
             [
              1,
              "#f0f921"
             ]
            ],
            "type": "contour"
           }
          ],
          "contourcarpet": [
           {
            "colorbar": {
             "outlinewidth": 0,
             "ticks": ""
            },
            "type": "contourcarpet"
           }
          ],
          "heatmap": [
           {
            "colorbar": {
             "outlinewidth": 0,
             "ticks": ""
            },
            "colorscale": [
             [
              0,
              "#0d0887"
             ],
             [
              0.1111111111111111,
              "#46039f"
             ],
             [
              0.2222222222222222,
              "#7201a8"
             ],
             [
              0.3333333333333333,
              "#9c179e"
             ],
             [
              0.4444444444444444,
              "#bd3786"
             ],
             [
              0.5555555555555556,
              "#d8576b"
             ],
             [
              0.6666666666666666,
              "#ed7953"
             ],
             [
              0.7777777777777778,
              "#fb9f3a"
             ],
             [
              0.8888888888888888,
              "#fdca26"
             ],
             [
              1,
              "#f0f921"
             ]
            ],
            "type": "heatmap"
           }
          ],
          "heatmapgl": [
           {
            "colorbar": {
             "outlinewidth": 0,
             "ticks": ""
            },
            "colorscale": [
             [
              0,
              "#0d0887"
             ],
             [
              0.1111111111111111,
              "#46039f"
             ],
             [
              0.2222222222222222,
              "#7201a8"
             ],
             [
              0.3333333333333333,
              "#9c179e"
             ],
             [
              0.4444444444444444,
              "#bd3786"
             ],
             [
              0.5555555555555556,
              "#d8576b"
             ],
             [
              0.6666666666666666,
              "#ed7953"
             ],
             [
              0.7777777777777778,
              "#fb9f3a"
             ],
             [
              0.8888888888888888,
              "#fdca26"
             ],
             [
              1,
              "#f0f921"
             ]
            ],
            "type": "heatmapgl"
           }
          ],
          "histogram": [
           {
            "marker": {
             "pattern": {
              "fillmode": "overlay",
              "size": 10,
              "solidity": 0.2
             }
            },
            "type": "histogram"
           }
          ],
          "histogram2d": [
           {
            "colorbar": {
             "outlinewidth": 0,
             "ticks": ""
            },
            "colorscale": [
             [
              0,
              "#0d0887"
             ],
             [
              0.1111111111111111,
              "#46039f"
             ],
             [
              0.2222222222222222,
              "#7201a8"
             ],
             [
              0.3333333333333333,
              "#9c179e"
             ],
             [
              0.4444444444444444,
              "#bd3786"
             ],
             [
              0.5555555555555556,
              "#d8576b"
             ],
             [
              0.6666666666666666,
              "#ed7953"
             ],
             [
              0.7777777777777778,
              "#fb9f3a"
             ],
             [
              0.8888888888888888,
              "#fdca26"
             ],
             [
              1,
              "#f0f921"
             ]
            ],
            "type": "histogram2d"
           }
          ],
          "histogram2dcontour": [
           {
            "colorbar": {
             "outlinewidth": 0,
             "ticks": ""
            },
            "colorscale": [
             [
              0,
              "#0d0887"
             ],
             [
              0.1111111111111111,
              "#46039f"
             ],
             [
              0.2222222222222222,
              "#7201a8"
             ],
             [
              0.3333333333333333,
              "#9c179e"
             ],
             [
              0.4444444444444444,
              "#bd3786"
             ],
             [
              0.5555555555555556,
              "#d8576b"
             ],
             [
              0.6666666666666666,
              "#ed7953"
             ],
             [
              0.7777777777777778,
              "#fb9f3a"
             ],
             [
              0.8888888888888888,
              "#fdca26"
             ],
             [
              1,
              "#f0f921"
             ]
            ],
            "type": "histogram2dcontour"
           }
          ],
          "mesh3d": [
           {
            "colorbar": {
             "outlinewidth": 0,
             "ticks": ""
            },
            "type": "mesh3d"
           }
          ],
          "parcoords": [
           {
            "line": {
             "colorbar": {
              "outlinewidth": 0,
              "ticks": ""
             }
            },
            "type": "parcoords"
           }
          ],
          "pie": [
           {
            "automargin": true,
            "type": "pie"
           }
          ],
          "scatter": [
           {
            "fillpattern": {
             "fillmode": "overlay",
             "size": 10,
             "solidity": 0.2
            },
            "type": "scatter"
           }
          ],
          "scatter3d": [
           {
            "line": {
             "colorbar": {
              "outlinewidth": 0,
              "ticks": ""
             }
            },
            "marker": {
             "colorbar": {
              "outlinewidth": 0,
              "ticks": ""
             }
            },
            "type": "scatter3d"
           }
          ],
          "scattercarpet": [
           {
            "marker": {
             "colorbar": {
              "outlinewidth": 0,
              "ticks": ""
             }
            },
            "type": "scattercarpet"
           }
          ],
          "scattergeo": [
           {
            "marker": {
             "colorbar": {
              "outlinewidth": 0,
              "ticks": ""
             }
            },
            "type": "scattergeo"
           }
          ],
          "scattergl": [
           {
            "marker": {
             "colorbar": {
              "outlinewidth": 0,
              "ticks": ""
             }
            },
            "type": "scattergl"
           }
          ],
          "scattermapbox": [
           {
            "marker": {
             "colorbar": {
              "outlinewidth": 0,
              "ticks": ""
             }
            },
            "type": "scattermapbox"
           }
          ],
          "scatterpolar": [
           {
            "marker": {
             "colorbar": {
              "outlinewidth": 0,
              "ticks": ""
             }
            },
            "type": "scatterpolar"
           }
          ],
          "scatterpolargl": [
           {
            "marker": {
             "colorbar": {
              "outlinewidth": 0,
              "ticks": ""
             }
            },
            "type": "scatterpolargl"
           }
          ],
          "scatterternary": [
           {
            "marker": {
             "colorbar": {
              "outlinewidth": 0,
              "ticks": ""
             }
            },
            "type": "scatterternary"
           }
          ],
          "surface": [
           {
            "colorbar": {
             "outlinewidth": 0,
             "ticks": ""
            },
            "colorscale": [
             [
              0,
              "#0d0887"
             ],
             [
              0.1111111111111111,
              "#46039f"
             ],
             [
              0.2222222222222222,
              "#7201a8"
             ],
             [
              0.3333333333333333,
              "#9c179e"
             ],
             [
              0.4444444444444444,
              "#bd3786"
             ],
             [
              0.5555555555555556,
              "#d8576b"
             ],
             [
              0.6666666666666666,
              "#ed7953"
             ],
             [
              0.7777777777777778,
              "#fb9f3a"
             ],
             [
              0.8888888888888888,
              "#fdca26"
             ],
             [
              1,
              "#f0f921"
             ]
            ],
            "type": "surface"
           }
          ],
          "table": [
           {
            "cells": {
             "fill": {
              "color": "#EBF0F8"
             },
             "line": {
              "color": "white"
             }
            },
            "header": {
             "fill": {
              "color": "#C8D4E3"
             },
             "line": {
              "color": "white"
             }
            },
            "type": "table"
           }
          ]
         },
         "layout": {
          "annotationdefaults": {
           "arrowcolor": "#2a3f5f",
           "arrowhead": 0,
           "arrowwidth": 1
          },
          "autotypenumbers": "strict",
          "coloraxis": {
           "colorbar": {
            "outlinewidth": 0,
            "ticks": ""
           }
          },
          "colorscale": {
           "diverging": [
            [
             0,
             "#8e0152"
            ],
            [
             0.1,
             "#c51b7d"
            ],
            [
             0.2,
             "#de77ae"
            ],
            [
             0.3,
             "#f1b6da"
            ],
            [
             0.4,
             "#fde0ef"
            ],
            [
             0.5,
             "#f7f7f7"
            ],
            [
             0.6,
             "#e6f5d0"
            ],
            [
             0.7,
             "#b8e186"
            ],
            [
             0.8,
             "#7fbc41"
            ],
            [
             0.9,
             "#4d9221"
            ],
            [
             1,
             "#276419"
            ]
           ],
           "sequential": [
            [
             0,
             "#0d0887"
            ],
            [
             0.1111111111111111,
             "#46039f"
            ],
            [
             0.2222222222222222,
             "#7201a8"
            ],
            [
             0.3333333333333333,
             "#9c179e"
            ],
            [
             0.4444444444444444,
             "#bd3786"
            ],
            [
             0.5555555555555556,
             "#d8576b"
            ],
            [
             0.6666666666666666,
             "#ed7953"
            ],
            [
             0.7777777777777778,
             "#fb9f3a"
            ],
            [
             0.8888888888888888,
             "#fdca26"
            ],
            [
             1,
             "#f0f921"
            ]
           ],
           "sequentialminus": [
            [
             0,
             "#0d0887"
            ],
            [
             0.1111111111111111,
             "#46039f"
            ],
            [
             0.2222222222222222,
             "#7201a8"
            ],
            [
             0.3333333333333333,
             "#9c179e"
            ],
            [
             0.4444444444444444,
             "#bd3786"
            ],
            [
             0.5555555555555556,
             "#d8576b"
            ],
            [
             0.6666666666666666,
             "#ed7953"
            ],
            [
             0.7777777777777778,
             "#fb9f3a"
            ],
            [
             0.8888888888888888,
             "#fdca26"
            ],
            [
             1,
             "#f0f921"
            ]
           ]
          },
          "colorway": [
           "#636efa",
           "#EF553B",
           "#00cc96",
           "#ab63fa",
           "#FFA15A",
           "#19d3f3",
           "#FF6692",
           "#B6E880",
           "#FF97FF",
           "#FECB52"
          ],
          "font": {
           "color": "#2a3f5f"
          },
          "geo": {
           "bgcolor": "white",
           "lakecolor": "white",
           "landcolor": "#E5ECF6",
           "showlakes": true,
           "showland": true,
           "subunitcolor": "white"
          },
          "hoverlabel": {
           "align": "left"
          },
          "hovermode": "closest",
          "mapbox": {
           "style": "light"
          },
          "paper_bgcolor": "white",
          "plot_bgcolor": "#E5ECF6",
          "polar": {
           "angularaxis": {
            "gridcolor": "white",
            "linecolor": "white",
            "ticks": ""
           },
           "bgcolor": "#E5ECF6",
           "radialaxis": {
            "gridcolor": "white",
            "linecolor": "white",
            "ticks": ""
           }
          },
          "scene": {
           "xaxis": {
            "backgroundcolor": "#E5ECF6",
            "gridcolor": "white",
            "gridwidth": 2,
            "linecolor": "white",
            "showbackground": true,
            "ticks": "",
            "zerolinecolor": "white"
           },
           "yaxis": {
            "backgroundcolor": "#E5ECF6",
            "gridcolor": "white",
            "gridwidth": 2,
            "linecolor": "white",
            "showbackground": true,
            "ticks": "",
            "zerolinecolor": "white"
           },
           "zaxis": {
            "backgroundcolor": "#E5ECF6",
            "gridcolor": "white",
            "gridwidth": 2,
            "linecolor": "white",
            "showbackground": true,
            "ticks": "",
            "zerolinecolor": "white"
           }
          },
          "shapedefaults": {
           "line": {
            "color": "#2a3f5f"
           }
          },
          "ternary": {
           "aaxis": {
            "gridcolor": "white",
            "linecolor": "white",
            "ticks": ""
           },
           "baxis": {
            "gridcolor": "white",
            "linecolor": "white",
            "ticks": ""
           },
           "bgcolor": "#E5ECF6",
           "caxis": {
            "gridcolor": "white",
            "linecolor": "white",
            "ticks": ""
           }
          },
          "title": {
           "x": 0.05
          },
          "xaxis": {
           "automargin": true,
           "gridcolor": "white",
           "linecolor": "white",
           "ticks": "",
           "title": {
            "standoff": 15
           },
           "zerolinecolor": "white",
           "zerolinewidth": 2
          },
          "yaxis": {
           "automargin": true,
           "gridcolor": "white",
           "linecolor": "white",
           "ticks": "",
           "title": {
            "standoff": 15
           },
           "zerolinecolor": "white",
           "zerolinewidth": 2
          }
         }
        }
       }
      }
     },
     "metadata": {},
     "output_type": "display_data"
    }
   ],
   "source": [
    "px.pie(data_frame=aa,names=df[\"Payment Method\"], color_discrete_sequence=[\"purple\"])"
   ]
  },
  {
   "cell_type": "code",
   "execution_count": 154,
   "metadata": {},
   "outputs": [],
   "source": [
    "df[\"Transaction Date\"]=df[\"Transaction Date\"].dt.to_period(\"M\")\n"
   ]
  },
  {
   "cell_type": "code",
   "execution_count": 155,
   "metadata": {},
   "outputs": [],
   "source": [
    "df[\"Transaction Date\"]=df[\"Transaction Date\"].dt.to_timestamp()"
   ]
  },
  {
   "cell_type": "code",
   "execution_count": 156,
   "metadata": {},
   "outputs": [
    {
     "data": {
      "text/plain": [
       "Transaction Date\n",
       "2023-01-01    2749\n",
       "2023-02-01    2219\n",
       "2023-03-01    2240\n",
       "2023-04-01    2275\n",
       "2023-05-01    1844\n",
       "2023-06-01    2281\n",
       "2023-07-01    2307\n",
       "2023-08-01    2328\n",
       "2023-09-01    2426\n",
       "2023-10-01    2309\n",
       "2023-11-01    2397\n",
       "2023-12-01    2227\n",
       "Name: Total Spent, dtype: int64"
      ]
     },
     "execution_count": 156,
     "metadata": {},
     "output_type": "execute_result"
    }
   ],
   "source": [
    "ss=df.groupby(df[\"Transaction Date\"])[\"Total Spent\"].sum().astype(int)\n",
    "ss"
   ]
  },
  {
   "cell_type": "code",
   "execution_count": 157,
   "metadata": {},
   "outputs": [
    {
     "data": {
      "application/vnd.plotly.v1+json": {
       "config": {
        "plotlyServerURL": "https://plot.ly"
       },
       "data": [
        {
         "hovertemplate": "variable=Total Spent<br>Transaction Date=%{x}<br>value=%{y}<extra></extra>",
         "legendgroup": "Total Spent",
         "line": {
          "color": "blue",
          "dash": "solid"
         },
         "marker": {
          "symbol": "circle"
         },
         "mode": "lines+markers",
         "name": "Total Spent",
         "orientation": "v",
         "showlegend": true,
         "type": "scatter",
         "x": [
          "2023-01-01T00:00:00",
          "2023-02-01T00:00:00",
          "2023-03-01T00:00:00",
          "2023-04-01T00:00:00",
          "2023-05-01T00:00:00",
          "2023-06-01T00:00:00",
          "2023-07-01T00:00:00",
          "2023-08-01T00:00:00",
          "2023-09-01T00:00:00",
          "2023-10-01T00:00:00",
          "2023-11-01T00:00:00",
          "2023-12-01T00:00:00"
         ],
         "xaxis": "x",
         "y": [
          2749,
          2219,
          2240,
          2275,
          1844,
          2281,
          2307,
          2328,
          2426,
          2309,
          2397,
          2227
         ],
         "yaxis": "y"
        }
       ],
       "layout": {
        "legend": {
         "title": {
          "text": "variable"
         },
         "tracegroupgap": 0
        },
        "margin": {
         "t": 60
        },
        "template": {
         "data": {
          "bar": [
           {
            "error_x": {
             "color": "#2a3f5f"
            },
            "error_y": {
             "color": "#2a3f5f"
            },
            "marker": {
             "line": {
              "color": "#E5ECF6",
              "width": 0.5
             },
             "pattern": {
              "fillmode": "overlay",
              "size": 10,
              "solidity": 0.2
             }
            },
            "type": "bar"
           }
          ],
          "barpolar": [
           {
            "marker": {
             "line": {
              "color": "#E5ECF6",
              "width": 0.5
             },
             "pattern": {
              "fillmode": "overlay",
              "size": 10,
              "solidity": 0.2
             }
            },
            "type": "barpolar"
           }
          ],
          "carpet": [
           {
            "aaxis": {
             "endlinecolor": "#2a3f5f",
             "gridcolor": "white",
             "linecolor": "white",
             "minorgridcolor": "white",
             "startlinecolor": "#2a3f5f"
            },
            "baxis": {
             "endlinecolor": "#2a3f5f",
             "gridcolor": "white",
             "linecolor": "white",
             "minorgridcolor": "white",
             "startlinecolor": "#2a3f5f"
            },
            "type": "carpet"
           }
          ],
          "choropleth": [
           {
            "colorbar": {
             "outlinewidth": 0,
             "ticks": ""
            },
            "type": "choropleth"
           }
          ],
          "contour": [
           {
            "colorbar": {
             "outlinewidth": 0,
             "ticks": ""
            },
            "colorscale": [
             [
              0,
              "#0d0887"
             ],
             [
              0.1111111111111111,
              "#46039f"
             ],
             [
              0.2222222222222222,
              "#7201a8"
             ],
             [
              0.3333333333333333,
              "#9c179e"
             ],
             [
              0.4444444444444444,
              "#bd3786"
             ],
             [
              0.5555555555555556,
              "#d8576b"
             ],
             [
              0.6666666666666666,
              "#ed7953"
             ],
             [
              0.7777777777777778,
              "#fb9f3a"
             ],
             [
              0.8888888888888888,
              "#fdca26"
             ],
             [
              1,
              "#f0f921"
             ]
            ],
            "type": "contour"
           }
          ],
          "contourcarpet": [
           {
            "colorbar": {
             "outlinewidth": 0,
             "ticks": ""
            },
            "type": "contourcarpet"
           }
          ],
          "heatmap": [
           {
            "colorbar": {
             "outlinewidth": 0,
             "ticks": ""
            },
            "colorscale": [
             [
              0,
              "#0d0887"
             ],
             [
              0.1111111111111111,
              "#46039f"
             ],
             [
              0.2222222222222222,
              "#7201a8"
             ],
             [
              0.3333333333333333,
              "#9c179e"
             ],
             [
              0.4444444444444444,
              "#bd3786"
             ],
             [
              0.5555555555555556,
              "#d8576b"
             ],
             [
              0.6666666666666666,
              "#ed7953"
             ],
             [
              0.7777777777777778,
              "#fb9f3a"
             ],
             [
              0.8888888888888888,
              "#fdca26"
             ],
             [
              1,
              "#f0f921"
             ]
            ],
            "type": "heatmap"
           }
          ],
          "heatmapgl": [
           {
            "colorbar": {
             "outlinewidth": 0,
             "ticks": ""
            },
            "colorscale": [
             [
              0,
              "#0d0887"
             ],
             [
              0.1111111111111111,
              "#46039f"
             ],
             [
              0.2222222222222222,
              "#7201a8"
             ],
             [
              0.3333333333333333,
              "#9c179e"
             ],
             [
              0.4444444444444444,
              "#bd3786"
             ],
             [
              0.5555555555555556,
              "#d8576b"
             ],
             [
              0.6666666666666666,
              "#ed7953"
             ],
             [
              0.7777777777777778,
              "#fb9f3a"
             ],
             [
              0.8888888888888888,
              "#fdca26"
             ],
             [
              1,
              "#f0f921"
             ]
            ],
            "type": "heatmapgl"
           }
          ],
          "histogram": [
           {
            "marker": {
             "pattern": {
              "fillmode": "overlay",
              "size": 10,
              "solidity": 0.2
             }
            },
            "type": "histogram"
           }
          ],
          "histogram2d": [
           {
            "colorbar": {
             "outlinewidth": 0,
             "ticks": ""
            },
            "colorscale": [
             [
              0,
              "#0d0887"
             ],
             [
              0.1111111111111111,
              "#46039f"
             ],
             [
              0.2222222222222222,
              "#7201a8"
             ],
             [
              0.3333333333333333,
              "#9c179e"
             ],
             [
              0.4444444444444444,
              "#bd3786"
             ],
             [
              0.5555555555555556,
              "#d8576b"
             ],
             [
              0.6666666666666666,
              "#ed7953"
             ],
             [
              0.7777777777777778,
              "#fb9f3a"
             ],
             [
              0.8888888888888888,
              "#fdca26"
             ],
             [
              1,
              "#f0f921"
             ]
            ],
            "type": "histogram2d"
           }
          ],
          "histogram2dcontour": [
           {
            "colorbar": {
             "outlinewidth": 0,
             "ticks": ""
            },
            "colorscale": [
             [
              0,
              "#0d0887"
             ],
             [
              0.1111111111111111,
              "#46039f"
             ],
             [
              0.2222222222222222,
              "#7201a8"
             ],
             [
              0.3333333333333333,
              "#9c179e"
             ],
             [
              0.4444444444444444,
              "#bd3786"
             ],
             [
              0.5555555555555556,
              "#d8576b"
             ],
             [
              0.6666666666666666,
              "#ed7953"
             ],
             [
              0.7777777777777778,
              "#fb9f3a"
             ],
             [
              0.8888888888888888,
              "#fdca26"
             ],
             [
              1,
              "#f0f921"
             ]
            ],
            "type": "histogram2dcontour"
           }
          ],
          "mesh3d": [
           {
            "colorbar": {
             "outlinewidth": 0,
             "ticks": ""
            },
            "type": "mesh3d"
           }
          ],
          "parcoords": [
           {
            "line": {
             "colorbar": {
              "outlinewidth": 0,
              "ticks": ""
             }
            },
            "type": "parcoords"
           }
          ],
          "pie": [
           {
            "automargin": true,
            "type": "pie"
           }
          ],
          "scatter": [
           {
            "fillpattern": {
             "fillmode": "overlay",
             "size": 10,
             "solidity": 0.2
            },
            "type": "scatter"
           }
          ],
          "scatter3d": [
           {
            "line": {
             "colorbar": {
              "outlinewidth": 0,
              "ticks": ""
             }
            },
            "marker": {
             "colorbar": {
              "outlinewidth": 0,
              "ticks": ""
             }
            },
            "type": "scatter3d"
           }
          ],
          "scattercarpet": [
           {
            "marker": {
             "colorbar": {
              "outlinewidth": 0,
              "ticks": ""
             }
            },
            "type": "scattercarpet"
           }
          ],
          "scattergeo": [
           {
            "marker": {
             "colorbar": {
              "outlinewidth": 0,
              "ticks": ""
             }
            },
            "type": "scattergeo"
           }
          ],
          "scattergl": [
           {
            "marker": {
             "colorbar": {
              "outlinewidth": 0,
              "ticks": ""
             }
            },
            "type": "scattergl"
           }
          ],
          "scattermapbox": [
           {
            "marker": {
             "colorbar": {
              "outlinewidth": 0,
              "ticks": ""
             }
            },
            "type": "scattermapbox"
           }
          ],
          "scatterpolar": [
           {
            "marker": {
             "colorbar": {
              "outlinewidth": 0,
              "ticks": ""
             }
            },
            "type": "scatterpolar"
           }
          ],
          "scatterpolargl": [
           {
            "marker": {
             "colorbar": {
              "outlinewidth": 0,
              "ticks": ""
             }
            },
            "type": "scatterpolargl"
           }
          ],
          "scatterternary": [
           {
            "marker": {
             "colorbar": {
              "outlinewidth": 0,
              "ticks": ""
             }
            },
            "type": "scatterternary"
           }
          ],
          "surface": [
           {
            "colorbar": {
             "outlinewidth": 0,
             "ticks": ""
            },
            "colorscale": [
             [
              0,
              "#0d0887"
             ],
             [
              0.1111111111111111,
              "#46039f"
             ],
             [
              0.2222222222222222,
              "#7201a8"
             ],
             [
              0.3333333333333333,
              "#9c179e"
             ],
             [
              0.4444444444444444,
              "#bd3786"
             ],
             [
              0.5555555555555556,
              "#d8576b"
             ],
             [
              0.6666666666666666,
              "#ed7953"
             ],
             [
              0.7777777777777778,
              "#fb9f3a"
             ],
             [
              0.8888888888888888,
              "#fdca26"
             ],
             [
              1,
              "#f0f921"
             ]
            ],
            "type": "surface"
           }
          ],
          "table": [
           {
            "cells": {
             "fill": {
              "color": "#EBF0F8"
             },
             "line": {
              "color": "white"
             }
            },
            "header": {
             "fill": {
              "color": "#C8D4E3"
             },
             "line": {
              "color": "white"
             }
            },
            "type": "table"
           }
          ]
         },
         "layout": {
          "annotationdefaults": {
           "arrowcolor": "#2a3f5f",
           "arrowhead": 0,
           "arrowwidth": 1
          },
          "autotypenumbers": "strict",
          "coloraxis": {
           "colorbar": {
            "outlinewidth": 0,
            "ticks": ""
           }
          },
          "colorscale": {
           "diverging": [
            [
             0,
             "#8e0152"
            ],
            [
             0.1,
             "#c51b7d"
            ],
            [
             0.2,
             "#de77ae"
            ],
            [
             0.3,
             "#f1b6da"
            ],
            [
             0.4,
             "#fde0ef"
            ],
            [
             0.5,
             "#f7f7f7"
            ],
            [
             0.6,
             "#e6f5d0"
            ],
            [
             0.7,
             "#b8e186"
            ],
            [
             0.8,
             "#7fbc41"
            ],
            [
             0.9,
             "#4d9221"
            ],
            [
             1,
             "#276419"
            ]
           ],
           "sequential": [
            [
             0,
             "#0d0887"
            ],
            [
             0.1111111111111111,
             "#46039f"
            ],
            [
             0.2222222222222222,
             "#7201a8"
            ],
            [
             0.3333333333333333,
             "#9c179e"
            ],
            [
             0.4444444444444444,
             "#bd3786"
            ],
            [
             0.5555555555555556,
             "#d8576b"
            ],
            [
             0.6666666666666666,
             "#ed7953"
            ],
            [
             0.7777777777777778,
             "#fb9f3a"
            ],
            [
             0.8888888888888888,
             "#fdca26"
            ],
            [
             1,
             "#f0f921"
            ]
           ],
           "sequentialminus": [
            [
             0,
             "#0d0887"
            ],
            [
             0.1111111111111111,
             "#46039f"
            ],
            [
             0.2222222222222222,
             "#7201a8"
            ],
            [
             0.3333333333333333,
             "#9c179e"
            ],
            [
             0.4444444444444444,
             "#bd3786"
            ],
            [
             0.5555555555555556,
             "#d8576b"
            ],
            [
             0.6666666666666666,
             "#ed7953"
            ],
            [
             0.7777777777777778,
             "#fb9f3a"
            ],
            [
             0.8888888888888888,
             "#fdca26"
            ],
            [
             1,
             "#f0f921"
            ]
           ]
          },
          "colorway": [
           "#636efa",
           "#EF553B",
           "#00cc96",
           "#ab63fa",
           "#FFA15A",
           "#19d3f3",
           "#FF6692",
           "#B6E880",
           "#FF97FF",
           "#FECB52"
          ],
          "font": {
           "color": "#2a3f5f"
          },
          "geo": {
           "bgcolor": "white",
           "lakecolor": "white",
           "landcolor": "#E5ECF6",
           "showlakes": true,
           "showland": true,
           "subunitcolor": "white"
          },
          "hoverlabel": {
           "align": "left"
          },
          "hovermode": "closest",
          "mapbox": {
           "style": "light"
          },
          "paper_bgcolor": "white",
          "plot_bgcolor": "#E5ECF6",
          "polar": {
           "angularaxis": {
            "gridcolor": "white",
            "linecolor": "white",
            "ticks": ""
           },
           "bgcolor": "#E5ECF6",
           "radialaxis": {
            "gridcolor": "white",
            "linecolor": "white",
            "ticks": ""
           }
          },
          "scene": {
           "xaxis": {
            "backgroundcolor": "#E5ECF6",
            "gridcolor": "white",
            "gridwidth": 2,
            "linecolor": "white",
            "showbackground": true,
            "ticks": "",
            "zerolinecolor": "white"
           },
           "yaxis": {
            "backgroundcolor": "#E5ECF6",
            "gridcolor": "white",
            "gridwidth": 2,
            "linecolor": "white",
            "showbackground": true,
            "ticks": "",
            "zerolinecolor": "white"
           },
           "zaxis": {
            "backgroundcolor": "#E5ECF6",
            "gridcolor": "white",
            "gridwidth": 2,
            "linecolor": "white",
            "showbackground": true,
            "ticks": "",
            "zerolinecolor": "white"
           }
          },
          "shapedefaults": {
           "line": {
            "color": "#2a3f5f"
           }
          },
          "ternary": {
           "aaxis": {
            "gridcolor": "white",
            "linecolor": "white",
            "ticks": ""
           },
           "baxis": {
            "gridcolor": "white",
            "linecolor": "white",
            "ticks": ""
           },
           "bgcolor": "#E5ECF6",
           "caxis": {
            "gridcolor": "white",
            "linecolor": "white",
            "ticks": ""
           }
          },
          "title": {
           "x": 0.05
          },
          "xaxis": {
           "automargin": true,
           "gridcolor": "white",
           "linecolor": "white",
           "ticks": "",
           "title": {
            "standoff": 15
           },
           "zerolinecolor": "white",
           "zerolinewidth": 2
          },
          "yaxis": {
           "automargin": true,
           "gridcolor": "white",
           "linecolor": "white",
           "ticks": "",
           "title": {
            "standoff": 15
           },
           "zerolinecolor": "white",
           "zerolinewidth": 2
          }
         }
        },
        "xaxis": {
         "anchor": "y",
         "domain": [
          0,
          1
         ],
         "title": {
          "text": "Transaction Date"
         }
        },
        "yaxis": {
         "anchor": "x",
         "domain": [
          0,
          1
         ],
         "title": {
          "text": "value"
         }
        }
       }
      }
     },
     "metadata": {},
     "output_type": "display_data"
    }
   ],
   "source": [
    "px.line(data_frame=ss, color_discrete_sequence=[\"blue\"],markers=True)"
   ]
  },
  {
   "cell_type": "code",
   "execution_count": 161,
   "metadata": {},
   "outputs": [],
   "source": [
    "corr=df.corr(numeric_only=True)"
   ]
  },
  {
   "cell_type": "code",
   "execution_count": 162,
   "metadata": {},
   "outputs": [
    {
     "data": {
      "text/plain": [
       "<Axes: >"
      ]
     },
     "execution_count": 162,
     "metadata": {},
     "output_type": "execute_result"
    },
    {
     "data": {
      "image/png": "[encoded data removed]",
      "text/plain": [
       "<Figure size 640x480 with 2 Axes>"
      ]
     },
     "metadata": {},
     "output_type": "display_data"
    }
   ],
   "source": [
    "sns.heatmap(corr,linewidths=10,annot=True)"
   ]
  }
 ],
 "metadata": {
  "kernelspec": {
   "display_name": "Python 3",
   "language": "python",
   "name": "python3"
  },
  "language_info": {
   "codemirror_mode": {
    "name": "ipython",
    "version": 3
   },
   "file_extension": ".py",
   "mimetype": "text/x-python",
   "name": "python",
   "nbconvert_exporter": "python",
   "pygments_lexer": "ipython3",
   "version": "3.10.11"
  }
 },
 "nbformat": 4,
 "nbformat_minor": 2
}
